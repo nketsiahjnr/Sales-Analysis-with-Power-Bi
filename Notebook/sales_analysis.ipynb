{
 "cells": [
  {
   "cell_type": "markdown",
   "metadata": {},
   "source": [
    "## Project Title: \n",
    "\n",
    "### Leveraging Data Insights for Sales Optimization in 2019"
   ]
  },
  {
   "cell_type": "markdown",
   "metadata": {},
   "source": [
    "## 1. Business Understanding\n"
   ]
  },
  {
   "cell_type": "markdown",
   "metadata": {},
   "source": [
    "### 1.1. Introduction\n",
    "In this project, we aim to design and deliver an end-to-end business intelligence solution leveraging transactional data from 2019 to provide valuable insights for our client. The client has collected data throughout the year but hasn't utilized it effectively to drive sales and improve operational efficiency. Our goal is to analyze the data comprehensively and present actionable insights that will enable the client to identify opportunities for growth and optimization.\n",
    "\n",
    "### 1.2. Objectives\n",
    "The main objectives of this project are as follows:\n",
    "\n",
    "- Analyze the 2019 transactional data to determine the total revenue generated throughout the year.\n",
    "\n",
    "- Identify any seasonal patterns or trends in sales to understand the seasonality of the business.\n",
    "\n",
    "- Determine the best-selling and worst-selling products based on sales volume and revenue.\n",
    "\n",
    "- Compare sales performance across different months or weeks to identify trends and fluctuations.\n",
    "\n",
    "- Analyze the distribution of product deliveries across cities to identify key markets.\n",
    "\n",
    "- Compare product categories in terms of revenue generated and quantities ordered to understand their contribution to overall sales.\n",
    "\n",
    "### 1.3. Analytical  Questions\n",
    "1. How much money did we make this year? \n",
    "\n",
    "2. Can we identify any seasonality in the  sales? \n",
    "\n",
    "3. What are our best and worst-selling products? \n",
    "\n",
    "4. How do sales compare to previous months or weeks? \n",
    "\n",
    "5. Which cities are our products delivered to most? \n",
    "\n",
    "6. How do product categories compare in revenue generated and quantities  ordered?\n",
    "\n",
    "### 1.4. Hypothesis\n",
    "- Null Hypothesis (H0): The total revenue generated in 2019 is equal to or less than a predetermined benchmark or expectation.\n",
    "\n",
    "- Alternative Hypothesis (H1): The total revenue generated in 2019 is greater than the predetermined benchmark or expectation.\n",
    "\n",
    "### 1.5. Methodology\n",
    "To achieve these objectives, we will follow a systematic methodology that includes the following steps:\n",
    "\n",
    "1. Data Collection: Retrieve transactional data for the entire year of 2019 from both CSV files (January to June) and the remote database (July to December).\n",
    "\n",
    "2. Data Preprocessing: Clean and preprocess the data to handle missing values, outliers, and inconsistencies.\n",
    "\n",
    "3. Exploratory Data Analysis (EDA): Conduct exploratory data analysis to gain insights into the distribution, trends, and patterns within the data.\n",
    "\n",
    "4. Statistical Analysis: Perform statistical analysis to answer specific questions such as total revenue, seasonal trends, best-selling products, etc.\n",
    "\n",
    "6. Data Visualization: Visualize the findings using charts, graphs, and tables to facilitate understanding and interpretation.\n",
    "\n",
    "7. Interpretation and Insights: Provide actionable insights and recommendations based on the analysis to help the client make informed decisions.\n",
    "\n",
    "8. Report Generation: Prepare a comprehensive report summarizing the analysis, findings, and recommendations for the client's reference.\n",
    "\n",
    "\n",
    "By following this methodology, we aim to deliver a robust business intelligence solution that empowers our client to optimize sales strategies, identify growth opportunities, and enhance operational efficiency."
   ]
  },
  {
   "cell_type": "markdown",
   "metadata": {},
   "source": [
    "## 2. Data Understanding\n",
    "\n",
    "### 2.1. Data Description\n",
    "\n",
    "####  Features\n",
    "1. Order ID\t- This feature represents a unique identifier for each order.\n",
    "2. Product\t- This feature represents the name or type of product ordered.\n",
    "3. Quantity Ordered\t- This feature represents the quantity of each product ordered\n",
    "4. Price Each - This feature represents the price of each product.\n",
    "5. Order Date - This feature represents the date and time when the order was placed\n",
    "6. Purchase Address - This feature represents the address where the purchase was made\n",
    "\n",
    "\n",
    "#### Numerical features\n",
    "1. Quantity Ordered\n",
    "2.  Price Each\n",
    "\n",
    "#### Categorical features\n",
    "1.  Order ID\n",
    "2. Product\n",
    "3. Purchase Address\n",
    "\n",
    "#### Date features\n",
    "1. Order Date\n",
    "\n",
    "Installing libraries and Packages\n",
    "\n",
    "\n",
    "In this section we will import all the packages/libraries that we will be using through this project"
   ]
  },
  {
   "cell_type": "markdown",
   "metadata": {},
   "source": [
    "### 2.2. Importation\n"
   ]
  },
  {
   "cell_type": "code",
   "execution_count": 73,
   "metadata": {},
   "outputs": [],
   "source": [
    "# Data Handling\n",
    "import pandas as pd  # For data manipulation and analysis using DataFrames\n",
    "import numpy as np  # For numerical operations and arrays\n",
    "import pyodbc  # For handling connections to Microsoft SQL Server\n",
    "from dotenv import dotenv_values  # For loading environment variables, possibly including database credentials\n",
    "import os\n",
    "\n",
    "# Statistical Analysis\n",
    "import math  # Basic mathematical operations\n",
    "\n",
    "# Warning Handling\n",
    "import warnings  # To handle warnings in a way that they can be ignored\n",
    "warnings.filterwarnings('ignore')\n",
    "\n",
    "import matplotlib.pyplot as plt\n",
    "import seaborn as sns\n",
    "import plotly.express as px\n",
    "from scipy import stats\n"
   ]
  },
  {
   "cell_type": "markdown",
   "metadata": {},
   "source": [
    "### 2.3. Data Collection"
   ]
  },
  {
   "cell_type": "markdown",
   "metadata": {},
   "source": [
    "#### 2.3.1. Load First Dataset (CSV Dataset)"
   ]
  },
  {
   "cell_type": "code",
   "execution_count": 13,
   "metadata": {},
   "outputs": [
    {
     "data": {
      "text/html": [
       "<div>\n",
       "<style scoped>\n",
       "    .dataframe tbody tr th:only-of-type {\n",
       "        vertical-align: middle;\n",
       "    }\n",
       "\n",
       "    .dataframe tbody tr th {\n",
       "        vertical-align: top;\n",
       "    }\n",
       "\n",
       "    .dataframe thead th {\n",
       "        text-align: right;\n",
       "    }\n",
       "</style>\n",
       "<table border=\"1\" class=\"dataframe\">\n",
       "  <thead>\n",
       "    <tr style=\"text-align: right;\">\n",
       "      <th></th>\n",
       "      <th>Order ID</th>\n",
       "      <th>Product</th>\n",
       "      <th>Quantity Ordered</th>\n",
       "      <th>Price Each</th>\n",
       "      <th>Order Date</th>\n",
       "      <th>Purchase Address</th>\n",
       "    </tr>\n",
       "  </thead>\n",
       "  <tbody>\n",
       "    <tr>\n",
       "      <th>0</th>\n",
       "      <td>141234</td>\n",
       "      <td>iPhone</td>\n",
       "      <td>1</td>\n",
       "      <td>700</td>\n",
       "      <td>01/22/19 21:25</td>\n",
       "      <td>944 Walnut St, Boston, MA 02215</td>\n",
       "    </tr>\n",
       "    <tr>\n",
       "      <th>1</th>\n",
       "      <td>141235</td>\n",
       "      <td>Lightning Charging Cable</td>\n",
       "      <td>1</td>\n",
       "      <td>14.95</td>\n",
       "      <td>01/28/19 14:15</td>\n",
       "      <td>185 Maple St, Portland, OR 97035</td>\n",
       "    </tr>\n",
       "    <tr>\n",
       "      <th>2</th>\n",
       "      <td>141236</td>\n",
       "      <td>Wired Headphones</td>\n",
       "      <td>2</td>\n",
       "      <td>11.99</td>\n",
       "      <td>01/17/19 13:33</td>\n",
       "      <td>538 Adams St, San Francisco, CA 94016</td>\n",
       "    </tr>\n",
       "    <tr>\n",
       "      <th>3</th>\n",
       "      <td>141237</td>\n",
       "      <td>27in FHD Monitor</td>\n",
       "      <td>1</td>\n",
       "      <td>149.99</td>\n",
       "      <td>01/05/19 20:33</td>\n",
       "      <td>738 10th St, Los Angeles, CA 90001</td>\n",
       "    </tr>\n",
       "    <tr>\n",
       "      <th>4</th>\n",
       "      <td>141238</td>\n",
       "      <td>Wired Headphones</td>\n",
       "      <td>1</td>\n",
       "      <td>11.99</td>\n",
       "      <td>01/25/19 11:59</td>\n",
       "      <td>387 10th St, Austin, TX 73301</td>\n",
       "    </tr>\n",
       "  </tbody>\n",
       "</table>\n",
       "</div>"
      ],
      "text/plain": [
       "  Order ID                   Product Quantity Ordered Price Each  \\\n",
       "0   141234                    iPhone                1        700   \n",
       "1   141235  Lightning Charging Cable                1      14.95   \n",
       "2   141236          Wired Headphones                2      11.99   \n",
       "3   141237          27in FHD Monitor                1     149.99   \n",
       "4   141238          Wired Headphones                1      11.99   \n",
       "\n",
       "       Order Date                       Purchase Address  \n",
       "0  01/22/19 21:25        944 Walnut St, Boston, MA 02215  \n",
       "1  01/28/19 14:15       185 Maple St, Portland, OR 97035  \n",
       "2  01/17/19 13:33  538 Adams St, San Francisco, CA 94016  \n",
       "3  01/05/19 20:33     738 10th St, Los Angeles, CA 90001  \n",
       "4  01/25/19 11:59          387 10th St, Austin, TX 73301  "
      ]
     },
     "execution_count": 13,
     "metadata": {},
     "output_type": "execute_result"
    }
   ],
   "source": [
    "\n",
    "# Directory path where CSV files for January to June are located\n",
    "directory_path = r\"../data\"\n",
    "\n",
    "# List of file names for each month\n",
    "file_names = [\n",
    "    \"Sales_January_2019.csv\",\n",
    "    \"Sales_February_2019.csv\",\n",
    "    \"Sales_March_2019.csv\",\n",
    "    \"Sales_April_2019.csv\",\n",
    "    \"Sales_May_2019.csv\",\n",
    "    \"Sales_June_2019.csv\"\n",
    "]\n",
    "\n",
    "# Generate file paths for each month\n",
    "file_paths = [os.path.join(directory_path, file_name) for file_name in file_names]\n",
    "\n",
    "# Load CSV files into separate DataFrames\n",
    "data_frames = [pd.read_csv(file) for file in file_paths]\n",
    "\n",
    "# Combine DataFrames into a single DataFrame\n",
    "first_half_data = pd.concat(data_frames, ignore_index=True)\n",
    "\n",
    "# View first half of the dataset\n",
    "first_half_data.head()"
   ]
  },
  {
   "cell_type": "markdown",
   "metadata": {},
   "source": [
    "#### 2.3.2. Load Second Dataset (from remote SQL Database)"
   ]
  },
  {
   "cell_type": "code",
   "execution_count": 14,
   "metadata": {},
   "outputs": [],
   "source": [
    "# Load environment variables from .env file into a dictionary\n",
    "config = dotenv_values(\"../.env\")\n",
    "\n",
    "# Get the values for the credentials set in the '.env' file\n",
    "server = config.get(\"SERVER\")\n",
    "database = config.get(\"DATABASE\")\n",
    "username = config.get(\"USERNAME\")\n",
    "password = config.get(\"PASSWORD\")\n",
    "\n",
    "# Connection string\n",
    "connection_string = f\"DRIVER={{ODBC Driver 17 for SQL Server}};SERVER={server};DATABASE={database};UID={username};PWD={password}\"\n",
    "\n",
    "# Establish a connection\n",
    "connection = pyodbc.connect(connection_string)"
   ]
  },
  {
   "cell_type": "code",
   "execution_count": 15,
   "metadata": {},
   "outputs": [
    {
     "data": {
      "text/html": [
       "<div>\n",
       "<style scoped>\n",
       "    .dataframe tbody tr th:only-of-type {\n",
       "        vertical-align: middle;\n",
       "    }\n",
       "\n",
       "    .dataframe tbody tr th {\n",
       "        vertical-align: top;\n",
       "    }\n",
       "\n",
       "    .dataframe thead th {\n",
       "        text-align: right;\n",
       "    }\n",
       "</style>\n",
       "<table border=\"1\" class=\"dataframe\">\n",
       "  <thead>\n",
       "    <tr style=\"text-align: right;\">\n",
       "      <th></th>\n",
       "      <th>Order_ID</th>\n",
       "      <th>Product</th>\n",
       "      <th>Quantity_Ordered</th>\n",
       "      <th>Price_Each</th>\n",
       "      <th>Order_Date</th>\n",
       "      <th>Purchase_Address</th>\n",
       "    </tr>\n",
       "  </thead>\n",
       "  <tbody>\n",
       "    <tr>\n",
       "      <th>0</th>\n",
       "      <td>236670.0</td>\n",
       "      <td>Wired Headphones</td>\n",
       "      <td>2.0</td>\n",
       "      <td>11.990000</td>\n",
       "      <td>2031-08-19 22:21:00</td>\n",
       "      <td>359 Spruce St, Seattle, WA 98101</td>\n",
       "    </tr>\n",
       "    <tr>\n",
       "      <th>1</th>\n",
       "      <td>236671.0</td>\n",
       "      <td>Bose SoundSport Headphones</td>\n",
       "      <td>1.0</td>\n",
       "      <td>99.989998</td>\n",
       "      <td>2015-08-19 15:11:00</td>\n",
       "      <td>492 Ridge St, Dallas, TX 75001</td>\n",
       "    </tr>\n",
       "    <tr>\n",
       "      <th>2</th>\n",
       "      <td>236672.0</td>\n",
       "      <td>iPhone</td>\n",
       "      <td>1.0</td>\n",
       "      <td>700.000000</td>\n",
       "      <td>2006-08-19 14:40:00</td>\n",
       "      <td>149 7th St, Portland, OR 97035</td>\n",
       "    </tr>\n",
       "    <tr>\n",
       "      <th>3</th>\n",
       "      <td>236673.0</td>\n",
       "      <td>AA Batteries (4-pack)</td>\n",
       "      <td>2.0</td>\n",
       "      <td>3.840000</td>\n",
       "      <td>2029-08-19 20:59:00</td>\n",
       "      <td>631 2nd St, Los Angeles, CA 90001</td>\n",
       "    </tr>\n",
       "    <tr>\n",
       "      <th>4</th>\n",
       "      <td>236674.0</td>\n",
       "      <td>AA Batteries (4-pack)</td>\n",
       "      <td>2.0</td>\n",
       "      <td>3.840000</td>\n",
       "      <td>2015-08-19 19:53:00</td>\n",
       "      <td>736 14th St, New York City, NY 10001</td>\n",
       "    </tr>\n",
       "  </tbody>\n",
       "</table>\n",
       "</div>"
      ],
      "text/plain": [
       "   Order_ID                     Product  Quantity_Ordered  Price_Each  \\\n",
       "0  236670.0            Wired Headphones               2.0   11.990000   \n",
       "1  236671.0  Bose SoundSport Headphones               1.0   99.989998   \n",
       "2  236672.0                      iPhone               1.0  700.000000   \n",
       "3  236673.0       AA Batteries (4-pack)               2.0    3.840000   \n",
       "4  236674.0       AA Batteries (4-pack)               2.0    3.840000   \n",
       "\n",
       "           Order_Date                      Purchase_Address  \n",
       "0 2031-08-19 22:21:00      359 Spruce St, Seattle, WA 98101  \n",
       "1 2015-08-19 15:11:00        492 Ridge St, Dallas, TX 75001  \n",
       "2 2006-08-19 14:40:00        149 7th St, Portland, OR 97035  \n",
       "3 2029-08-19 20:59:00     631 2nd St, Los Angeles, CA 90001  \n",
       "4 2015-08-19 19:53:00  736 14th St, New York City, NY 10001  "
      ]
     },
     "execution_count": 15,
     "metadata": {},
     "output_type": "execute_result"
    }
   ],
   "source": [
    "# Define SQL queries\n",
    "sql_queries = [\n",
    "    'SELECT * FROM dbo.Sales_August_2019',\n",
    "    'SELECT * FROM dbo.Sales_July_2019',\n",
    "    'SELECT * FROM dbo.Sales_September_2019',\n",
    "    'SELECT * FROM dbo.Sales_October_2019',\n",
    "    'SELECT * FROM dbo.Sales_November_2019',\n",
    "    'SELECT * FROM dbo.Sales_December_2019'\n",
    "]\n",
    "\n",
    "# Execute queries and fetch data into DataFrames\n",
    "data_frames = []\n",
    "for sql_query in sql_queries:\n",
    "    df = pd.read_sql(sql_query, connection)\n",
    "    data_frames.append(df)\n",
    "\n",
    "# Combine DataFrames into a single DataFrame\n",
    "second_half_data = pd.concat(data_frames, ignore_index=True)\n",
    "\n",
    "# View second half of the dataset\n",
    "second_half_data.head()"
   ]
  },
  {
   "cell_type": "markdown",
   "metadata": {},
   "source": [
    "## 3. Data Preparation\n",
    "\n",
    "### 3.1. Data Cleaning\n",
    "\n",
    "#### 3.1.1. Standardize columns for both datasets."
   ]
  },
  {
   "cell_type": "code",
   "execution_count": 16,
   "metadata": {},
   "outputs": [
    {
     "data": {
      "text/plain": [
       "Index(['Order ID', 'Product', 'Quantity Ordered', 'Price Each', 'Order Date',\n",
       "       'Purchase Address'],\n",
       "      dtype='object')"
      ]
     },
     "execution_count": 16,
     "metadata": {},
     "output_type": "execute_result"
    }
   ],
   "source": [
    "# Display the columns for the first half of the dataframe\n",
    "first_half_data.columns"
   ]
  },
  {
   "cell_type": "code",
   "execution_count": 17,
   "metadata": {},
   "outputs": [
    {
     "data": {
      "text/plain": [
       "Index(['Order_ID', 'Product', 'Quantity_Ordered', 'Price_Each', 'Order_Date',\n",
       "       'Purchase_Address'],\n",
       "      dtype='object')"
      ]
     },
     "execution_count": 17,
     "metadata": {},
     "output_type": "execute_result"
    }
   ],
   "source": [
    "# Display the columns for the second half of the dataframe\n",
    "second_half_data.columns"
   ]
  },
  {
   "cell_type": "markdown",
   "metadata": {},
   "source": [
    "- The first half seems to have column names like 'Order ID', 'Product', 'Quantity Ordered', 'Price Each', 'Order Date','Purchase Address, while the second half has column names like 'Order_ID', 'Product', 'Quantity_Ordered', 'Price_Each', 'Order_Date','Purchase_Address.\n",
    "- we need to standardize the column names first."
   ]
  },
  {
   "cell_type": "code",
   "execution_count": 18,
   "metadata": {},
   "outputs": [
    {
     "data": {
      "text/plain": [
       "Index(['Order_ID', 'Product', 'Quantity_Ordered', 'Price_Each', 'Order_Date',\n",
       "       'Purchase_Address'],\n",
       "      dtype='object')"
      ]
     },
     "execution_count": 18,
     "metadata": {},
     "output_type": "execute_result"
    }
   ],
   "source": [
    "# Rename columns of the first half of the dataset\n",
    "first_half_data.columns = ['Order_ID', 'Product', 'Quantity_Ordered', 'Price_Each', 'Order_Date', 'Purchase_Address']\n",
    "first_half_data.columns"
   ]
  },
  {
   "cell_type": "markdown",
   "metadata": {},
   "source": [
    "#### 3.1.2. Concatenate Dataset"
   ]
  },
  {
   "cell_type": "code",
   "execution_count": 19,
   "metadata": {},
   "outputs": [
    {
     "data": {
      "text/html": [
       "<div>\n",
       "<style scoped>\n",
       "    .dataframe tbody tr th:only-of-type {\n",
       "        vertical-align: middle;\n",
       "    }\n",
       "\n",
       "    .dataframe tbody tr th {\n",
       "        vertical-align: top;\n",
       "    }\n",
       "\n",
       "    .dataframe thead th {\n",
       "        text-align: right;\n",
       "    }\n",
       "</style>\n",
       "<table border=\"1\" class=\"dataframe\">\n",
       "  <thead>\n",
       "    <tr style=\"text-align: right;\">\n",
       "      <th></th>\n",
       "      <th>Order_ID</th>\n",
       "      <th>Product</th>\n",
       "      <th>Quantity_Ordered</th>\n",
       "      <th>Price_Each</th>\n",
       "      <th>Order_Date</th>\n",
       "      <th>Purchase_Address</th>\n",
       "    </tr>\n",
       "  </thead>\n",
       "  <tbody>\n",
       "    <tr>\n",
       "      <th>0</th>\n",
       "      <td>141234</td>\n",
       "      <td>iPhone</td>\n",
       "      <td>1</td>\n",
       "      <td>700</td>\n",
       "      <td>01/22/19 21:25</td>\n",
       "      <td>944 Walnut St, Boston, MA 02215</td>\n",
       "    </tr>\n",
       "    <tr>\n",
       "      <th>1</th>\n",
       "      <td>141235</td>\n",
       "      <td>Lightning Charging Cable</td>\n",
       "      <td>1</td>\n",
       "      <td>14.95</td>\n",
       "      <td>01/28/19 14:15</td>\n",
       "      <td>185 Maple St, Portland, OR 97035</td>\n",
       "    </tr>\n",
       "    <tr>\n",
       "      <th>2</th>\n",
       "      <td>141236</td>\n",
       "      <td>Wired Headphones</td>\n",
       "      <td>2</td>\n",
       "      <td>11.99</td>\n",
       "      <td>01/17/19 13:33</td>\n",
       "      <td>538 Adams St, San Francisco, CA 94016</td>\n",
       "    </tr>\n",
       "    <tr>\n",
       "      <th>3</th>\n",
       "      <td>141237</td>\n",
       "      <td>27in FHD Monitor</td>\n",
       "      <td>1</td>\n",
       "      <td>149.99</td>\n",
       "      <td>01/05/19 20:33</td>\n",
       "      <td>738 10th St, Los Angeles, CA 90001</td>\n",
       "    </tr>\n",
       "    <tr>\n",
       "      <th>4</th>\n",
       "      <td>141238</td>\n",
       "      <td>Wired Headphones</td>\n",
       "      <td>1</td>\n",
       "      <td>11.99</td>\n",
       "      <td>01/25/19 11:59</td>\n",
       "      <td>387 10th St, Austin, TX 73301</td>\n",
       "    </tr>\n",
       "  </tbody>\n",
       "</table>\n",
       "</div>"
      ],
      "text/plain": [
       "  Order_ID                   Product Quantity_Ordered Price_Each  \\\n",
       "0   141234                    iPhone                1        700   \n",
       "1   141235  Lightning Charging Cable                1      14.95   \n",
       "2   141236          Wired Headphones                2      11.99   \n",
       "3   141237          27in FHD Monitor                1     149.99   \n",
       "4   141238          Wired Headphones                1      11.99   \n",
       "\n",
       "       Order_Date                       Purchase_Address  \n",
       "0  01/22/19 21:25        944 Walnut St, Boston, MA 02215  \n",
       "1  01/28/19 14:15       185 Maple St, Portland, OR 97035  \n",
       "2  01/17/19 13:33  538 Adams St, San Francisco, CA 94016  \n",
       "3  01/05/19 20:33     738 10th St, Los Angeles, CA 90001  \n",
       "4  01/25/19 11:59          387 10th St, Austin, TX 73301  "
      ]
     },
     "execution_count": 19,
     "metadata": {},
     "output_type": "execute_result"
    }
   ],
   "source": [
    "# Concatenate the two halves along the rows axis\n",
    "full_year_data = pd.concat([first_half_data, second_half_data], ignore_index=True)\n",
    "\n",
    "# Display the combined dataset\n",
    "full_year_data.head()"
   ]
  },
  {
   "cell_type": "code",
   "execution_count": 20,
   "metadata": {},
   "outputs": [
    {
     "data": {
      "text/html": [
       "<div>\n",
       "<style scoped>\n",
       "    .dataframe tbody tr th:only-of-type {\n",
       "        vertical-align: middle;\n",
       "    }\n",
       "\n",
       "    .dataframe tbody tr th {\n",
       "        vertical-align: top;\n",
       "    }\n",
       "\n",
       "    .dataframe thead th {\n",
       "        text-align: right;\n",
       "    }\n",
       "</style>\n",
       "<table border=\"1\" class=\"dataframe\">\n",
       "  <thead>\n",
       "    <tr style=\"text-align: right;\">\n",
       "      <th></th>\n",
       "      <th>Order_ID</th>\n",
       "      <th>Product</th>\n",
       "      <th>Quantity_Ordered</th>\n",
       "      <th>Price_Each</th>\n",
       "      <th>Order_Date</th>\n",
       "      <th>Purchase_Address</th>\n",
       "    </tr>\n",
       "  </thead>\n",
       "  <tbody>\n",
       "    <tr>\n",
       "      <th>0</th>\n",
       "      <td>141234</td>\n",
       "      <td>iPhone</td>\n",
       "      <td>1</td>\n",
       "      <td>700</td>\n",
       "      <td>01/22/19 21:25</td>\n",
       "      <td>944 Walnut St, Boston, MA 02215</td>\n",
       "    </tr>\n",
       "    <tr>\n",
       "      <th>1</th>\n",
       "      <td>141235</td>\n",
       "      <td>Lightning Charging Cable</td>\n",
       "      <td>1</td>\n",
       "      <td>14.95</td>\n",
       "      <td>01/28/19 14:15</td>\n",
       "      <td>185 Maple St, Portland, OR 97035</td>\n",
       "    </tr>\n",
       "    <tr>\n",
       "      <th>2</th>\n",
       "      <td>141236</td>\n",
       "      <td>Wired Headphones</td>\n",
       "      <td>2</td>\n",
       "      <td>11.99</td>\n",
       "      <td>01/17/19 13:33</td>\n",
       "      <td>538 Adams St, San Francisco, CA 94016</td>\n",
       "    </tr>\n",
       "    <tr>\n",
       "      <th>3</th>\n",
       "      <td>141237</td>\n",
       "      <td>27in FHD Monitor</td>\n",
       "      <td>1</td>\n",
       "      <td>149.99</td>\n",
       "      <td>01/05/19 20:33</td>\n",
       "      <td>738 10th St, Los Angeles, CA 90001</td>\n",
       "    </tr>\n",
       "    <tr>\n",
       "      <th>4</th>\n",
       "      <td>141238</td>\n",
       "      <td>Wired Headphones</td>\n",
       "      <td>1</td>\n",
       "      <td>11.99</td>\n",
       "      <td>01/25/19 11:59</td>\n",
       "      <td>387 10th St, Austin, TX 73301</td>\n",
       "    </tr>\n",
       "    <tr>\n",
       "      <th>...</th>\n",
       "      <td>...</td>\n",
       "      <td>...</td>\n",
       "      <td>...</td>\n",
       "      <td>...</td>\n",
       "      <td>...</td>\n",
       "      <td>...</td>\n",
       "    </tr>\n",
       "    <tr>\n",
       "      <th>186845</th>\n",
       "      <td>319666.0</td>\n",
       "      <td>Lightning Charging Cable</td>\n",
       "      <td>1.0</td>\n",
       "      <td>14.95</td>\n",
       "      <td>2011-12-19 20:58:00</td>\n",
       "      <td>14 Madison St, San Francisco, CA 94016</td>\n",
       "    </tr>\n",
       "    <tr>\n",
       "      <th>186846</th>\n",
       "      <td>319667.0</td>\n",
       "      <td>AA Batteries (4-pack)</td>\n",
       "      <td>2.0</td>\n",
       "      <td>3.84</td>\n",
       "      <td>2001-12-19 12:01:00</td>\n",
       "      <td>549 Willow St, Los Angeles, CA 90001</td>\n",
       "    </tr>\n",
       "    <tr>\n",
       "      <th>186847</th>\n",
       "      <td>319668.0</td>\n",
       "      <td>Vareebadd Phone</td>\n",
       "      <td>1.0</td>\n",
       "      <td>400.0</td>\n",
       "      <td>2009-12-19 06:43:00</td>\n",
       "      <td>273 Wilson St, Seattle, WA 98101</td>\n",
       "    </tr>\n",
       "    <tr>\n",
       "      <th>186848</th>\n",
       "      <td>319669.0</td>\n",
       "      <td>Wired Headphones</td>\n",
       "      <td>1.0</td>\n",
       "      <td>11.99</td>\n",
       "      <td>2003-12-19 10:39:00</td>\n",
       "      <td>778 River St, Dallas, TX 75001</td>\n",
       "    </tr>\n",
       "    <tr>\n",
       "      <th>186849</th>\n",
       "      <td>319670.0</td>\n",
       "      <td>Bose SoundSport Headphones</td>\n",
       "      <td>1.0</td>\n",
       "      <td>99.989998</td>\n",
       "      <td>2021-12-19 21:45:00</td>\n",
       "      <td>747 Chestnut St, Los Angeles, CA 90001</td>\n",
       "    </tr>\n",
       "  </tbody>\n",
       "</table>\n",
       "<p>186850 rows × 6 columns</p>\n",
       "</div>"
      ],
      "text/plain": [
       "        Order_ID                     Product Quantity_Ordered Price_Each  \\\n",
       "0         141234                      iPhone                1        700   \n",
       "1         141235    Lightning Charging Cable                1      14.95   \n",
       "2         141236            Wired Headphones                2      11.99   \n",
       "3         141237            27in FHD Monitor                1     149.99   \n",
       "4         141238            Wired Headphones                1      11.99   \n",
       "...          ...                         ...              ...        ...   \n",
       "186845  319666.0    Lightning Charging Cable              1.0      14.95   \n",
       "186846  319667.0       AA Batteries (4-pack)              2.0       3.84   \n",
       "186847  319668.0             Vareebadd Phone              1.0      400.0   \n",
       "186848  319669.0            Wired Headphones              1.0      11.99   \n",
       "186849  319670.0  Bose SoundSport Headphones              1.0  99.989998   \n",
       "\n",
       "                 Order_Date                        Purchase_Address  \n",
       "0            01/22/19 21:25         944 Walnut St, Boston, MA 02215  \n",
       "1            01/28/19 14:15        185 Maple St, Portland, OR 97035  \n",
       "2            01/17/19 13:33   538 Adams St, San Francisco, CA 94016  \n",
       "3            01/05/19 20:33      738 10th St, Los Angeles, CA 90001  \n",
       "4            01/25/19 11:59           387 10th St, Austin, TX 73301  \n",
       "...                     ...                                     ...  \n",
       "186845  2011-12-19 20:58:00  14 Madison St, San Francisco, CA 94016  \n",
       "186846  2001-12-19 12:01:00    549 Willow St, Los Angeles, CA 90001  \n",
       "186847  2009-12-19 06:43:00        273 Wilson St, Seattle, WA 98101  \n",
       "186848  2003-12-19 10:39:00          778 River St, Dallas, TX 75001  \n",
       "186849  2021-12-19 21:45:00  747 Chestnut St, Los Angeles, CA 90001  \n",
       "\n",
       "[186850 rows x 6 columns]"
      ]
     },
     "execution_count": 20,
     "metadata": {},
     "output_type": "execute_result"
    }
   ],
   "source": [
    "full_year_data"
   ]
  },
  {
   "cell_type": "markdown",
   "metadata": {},
   "source": [
    "#### 3.1.3. Check data structure"
   ]
  },
  {
   "cell_type": "code",
   "execution_count": 21,
   "metadata": {},
   "outputs": [
    {
     "name": "stdout",
     "output_type": "stream",
     "text": [
      "<class 'pandas.core.frame.DataFrame'>\n",
      "RangeIndex: 186850 entries, 0 to 186849\n",
      "Data columns (total 6 columns):\n",
      " #   Column            Non-Null Count   Dtype \n",
      "---  ------            --------------   ----- \n",
      " 0   Order_ID          186110 non-null  object\n",
      " 1   Product           186305 non-null  object\n",
      " 2   Quantity_Ordered  186110 non-null  object\n",
      " 3   Price_Each        186110 non-null  object\n",
      " 4   Order_Date        186110 non-null  object\n",
      " 5   Purchase_Address  186305 non-null  object\n",
      "dtypes: object(6)\n",
      "memory usage: 8.6+ MB\n"
     ]
    }
   ],
   "source": [
    "full_year_data.info()"
   ]
  },
  {
   "cell_type": "markdown",
   "metadata": {},
   "source": [
    "* From the table above we can observe the number of values in each column and the datatype as well.\n",
    "* The datatype of Order ID, Quantity Ordered, Price Each, and Order Date are wrong and must be changed to their correct form.\n",
    "* Other features will be generated and others will be dropped to ensure an accurate dataset for the purpose of this analysis."
   ]
  },
  {
   "cell_type": "code",
   "execution_count": 22,
   "metadata": {},
   "outputs": [
    {
     "data": {
      "text/plain": [
       "'There are 186850 rows and 6 columns in the dataset.'"
      ]
     },
     "execution_count": 22,
     "metadata": {},
     "output_type": "execute_result"
    }
   ],
   "source": [
    "f'There are {full_year_data.shape[0]} rows and {full_year_data.shape[1]} columns in the dataset.'"
   ]
  },
  {
   "cell_type": "markdown",
   "metadata": {},
   "source": [
    "#### 3.1.4. Handle missing values"
   ]
  },
  {
   "cell_type": "code",
   "execution_count": 23,
   "metadata": {},
   "outputs": [
    {
     "data": {
      "text/plain": [
       "Order_ID            740\n",
       "Product             545\n",
       "Quantity_Ordered    740\n",
       "Price_Each          740\n",
       "Order_Date          740\n",
       "Purchase_Address    545\n",
       "dtype: int64"
      ]
     },
     "execution_count": 23,
     "metadata": {},
     "output_type": "execute_result"
    }
   ],
   "source": [
    "# Check null values in the dataset\n",
    "full_year_data.isnull().sum()"
   ]
  },
  {
   "cell_type": "code",
   "execution_count": 24,
   "metadata": {},
   "outputs": [
    {
     "data": {
      "text/html": [
       "<div>\n",
       "<style scoped>\n",
       "    .dataframe tbody tr th:only-of-type {\n",
       "        vertical-align: middle;\n",
       "    }\n",
       "\n",
       "    .dataframe tbody tr th {\n",
       "        vertical-align: top;\n",
       "    }\n",
       "\n",
       "    .dataframe thead th {\n",
       "        text-align: right;\n",
       "    }\n",
       "</style>\n",
       "<table border=\"1\" class=\"dataframe\">\n",
       "  <thead>\n",
       "    <tr style=\"text-align: right;\">\n",
       "      <th></th>\n",
       "      <th>Order_ID</th>\n",
       "      <th>Product</th>\n",
       "      <th>Quantity_Ordered</th>\n",
       "      <th>Price_Each</th>\n",
       "      <th>Order_Date</th>\n",
       "      <th>Purchase_Address</th>\n",
       "    </tr>\n",
       "  </thead>\n",
       "  <tbody>\n",
       "    <tr>\n",
       "      <th>664</th>\n",
       "      <td>NaN</td>\n",
       "      <td>NaN</td>\n",
       "      <td>NaN</td>\n",
       "      <td>NaN</td>\n",
       "      <td>NaN</td>\n",
       "      <td>NaN</td>\n",
       "    </tr>\n",
       "    <tr>\n",
       "      <th>678</th>\n",
       "      <td>NaN</td>\n",
       "      <td>NaN</td>\n",
       "      <td>NaN</td>\n",
       "      <td>NaN</td>\n",
       "      <td>NaN</td>\n",
       "      <td>NaN</td>\n",
       "    </tr>\n",
       "    <tr>\n",
       "      <th>797</th>\n",
       "      <td>NaN</td>\n",
       "      <td>NaN</td>\n",
       "      <td>NaN</td>\n",
       "      <td>NaN</td>\n",
       "      <td>NaN</td>\n",
       "      <td>NaN</td>\n",
       "    </tr>\n",
       "    <tr>\n",
       "      <th>876</th>\n",
       "      <td>NaN</td>\n",
       "      <td>NaN</td>\n",
       "      <td>NaN</td>\n",
       "      <td>NaN</td>\n",
       "      <td>NaN</td>\n",
       "      <td>NaN</td>\n",
       "    </tr>\n",
       "    <tr>\n",
       "      <th>1299</th>\n",
       "      <td>NaN</td>\n",
       "      <td>NaN</td>\n",
       "      <td>NaN</td>\n",
       "      <td>NaN</td>\n",
       "      <td>NaN</td>\n",
       "      <td>NaN</td>\n",
       "    </tr>\n",
       "    <tr>\n",
       "      <th>1491</th>\n",
       "      <td>NaN</td>\n",
       "      <td>NaN</td>\n",
       "      <td>NaN</td>\n",
       "      <td>NaN</td>\n",
       "      <td>NaN</td>\n",
       "      <td>NaN</td>\n",
       "    </tr>\n",
       "    <tr>\n",
       "      <th>1699</th>\n",
       "      <td>NaN</td>\n",
       "      <td>NaN</td>\n",
       "      <td>NaN</td>\n",
       "      <td>NaN</td>\n",
       "      <td>NaN</td>\n",
       "      <td>NaN</td>\n",
       "    </tr>\n",
       "    <tr>\n",
       "      <th>3047</th>\n",
       "      <td>NaN</td>\n",
       "      <td>NaN</td>\n",
       "      <td>NaN</td>\n",
       "      <td>NaN</td>\n",
       "      <td>NaN</td>\n",
       "      <td>NaN</td>\n",
       "    </tr>\n",
       "    <tr>\n",
       "      <th>3082</th>\n",
       "      <td>NaN</td>\n",
       "      <td>NaN</td>\n",
       "      <td>NaN</td>\n",
       "      <td>NaN</td>\n",
       "      <td>NaN</td>\n",
       "      <td>NaN</td>\n",
       "    </tr>\n",
       "    <tr>\n",
       "      <th>3584</th>\n",
       "      <td>NaN</td>\n",
       "      <td>NaN</td>\n",
       "      <td>NaN</td>\n",
       "      <td>NaN</td>\n",
       "      <td>NaN</td>\n",
       "      <td>NaN</td>\n",
       "    </tr>\n",
       "    <tr>\n",
       "      <th>3659</th>\n",
       "      <td>NaN</td>\n",
       "      <td>NaN</td>\n",
       "      <td>NaN</td>\n",
       "      <td>NaN</td>\n",
       "      <td>NaN</td>\n",
       "      <td>NaN</td>\n",
       "    </tr>\n",
       "    <tr>\n",
       "      <th>4689</th>\n",
       "      <td>NaN</td>\n",
       "      <td>NaN</td>\n",
       "      <td>NaN</td>\n",
       "      <td>NaN</td>\n",
       "      <td>NaN</td>\n",
       "      <td>NaN</td>\n",
       "    </tr>\n",
       "    <tr>\n",
       "      <th>5061</th>\n",
       "      <td>NaN</td>\n",
       "      <td>NaN</td>\n",
       "      <td>NaN</td>\n",
       "      <td>NaN</td>\n",
       "      <td>NaN</td>\n",
       "      <td>NaN</td>\n",
       "    </tr>\n",
       "    <tr>\n",
       "      <th>5570</th>\n",
       "      <td>NaN</td>\n",
       "      <td>NaN</td>\n",
       "      <td>NaN</td>\n",
       "      <td>NaN</td>\n",
       "      <td>NaN</td>\n",
       "      <td>NaN</td>\n",
       "    </tr>\n",
       "    <tr>\n",
       "      <th>5607</th>\n",
       "      <td>NaN</td>\n",
       "      <td>NaN</td>\n",
       "      <td>NaN</td>\n",
       "      <td>NaN</td>\n",
       "      <td>NaN</td>\n",
       "      <td>NaN</td>\n",
       "    </tr>\n",
       "    <tr>\n",
       "      <th>6056</th>\n",
       "      <td>NaN</td>\n",
       "      <td>NaN</td>\n",
       "      <td>NaN</td>\n",
       "      <td>NaN</td>\n",
       "      <td>NaN</td>\n",
       "      <td>NaN</td>\n",
       "    </tr>\n",
       "    <tr>\n",
       "      <th>6504</th>\n",
       "      <td>NaN</td>\n",
       "      <td>NaN</td>\n",
       "      <td>NaN</td>\n",
       "      <td>NaN</td>\n",
       "      <td>NaN</td>\n",
       "      <td>NaN</td>\n",
       "    </tr>\n",
       "    <tr>\n",
       "      <th>6517</th>\n",
       "      <td>NaN</td>\n",
       "      <td>NaN</td>\n",
       "      <td>NaN</td>\n",
       "      <td>NaN</td>\n",
       "      <td>NaN</td>\n",
       "      <td>NaN</td>\n",
       "    </tr>\n",
       "    <tr>\n",
       "      <th>7855</th>\n",
       "      <td>NaN</td>\n",
       "      <td>NaN</td>\n",
       "      <td>NaN</td>\n",
       "      <td>NaN</td>\n",
       "      <td>NaN</td>\n",
       "      <td>NaN</td>\n",
       "    </tr>\n",
       "    <tr>\n",
       "      <th>8255</th>\n",
       "      <td>NaN</td>\n",
       "      <td>NaN</td>\n",
       "      <td>NaN</td>\n",
       "      <td>NaN</td>\n",
       "      <td>NaN</td>\n",
       "      <td>NaN</td>\n",
       "    </tr>\n",
       "    <tr>\n",
       "      <th>8257</th>\n",
       "      <td>NaN</td>\n",
       "      <td>NaN</td>\n",
       "      <td>NaN</td>\n",
       "      <td>NaN</td>\n",
       "      <td>NaN</td>\n",
       "      <td>NaN</td>\n",
       "    </tr>\n",
       "    <tr>\n",
       "      <th>8596</th>\n",
       "      <td>NaN</td>\n",
       "      <td>NaN</td>\n",
       "      <td>NaN</td>\n",
       "      <td>NaN</td>\n",
       "      <td>NaN</td>\n",
       "      <td>NaN</td>\n",
       "    </tr>\n",
       "    <tr>\n",
       "      <th>8623</th>\n",
       "      <td>NaN</td>\n",
       "      <td>NaN</td>\n",
       "      <td>NaN</td>\n",
       "      <td>NaN</td>\n",
       "      <td>NaN</td>\n",
       "      <td>NaN</td>\n",
       "    </tr>\n",
       "    <tr>\n",
       "      <th>9144</th>\n",
       "      <td>NaN</td>\n",
       "      <td>NaN</td>\n",
       "      <td>NaN</td>\n",
       "      <td>NaN</td>\n",
       "      <td>NaN</td>\n",
       "      <td>NaN</td>\n",
       "    </tr>\n",
       "    <tr>\n",
       "      <th>9631</th>\n",
       "      <td>NaN</td>\n",
       "      <td>NaN</td>\n",
       "      <td>NaN</td>\n",
       "      <td>NaN</td>\n",
       "      <td>NaN</td>\n",
       "      <td>NaN</td>\n",
       "    </tr>\n",
       "    <tr>\n",
       "      <th>9664</th>\n",
       "      <td>NaN</td>\n",
       "      <td>NaN</td>\n",
       "      <td>NaN</td>\n",
       "      <td>NaN</td>\n",
       "      <td>NaN</td>\n",
       "      <td>NaN</td>\n",
       "    </tr>\n",
       "    <tr>\n",
       "      <th>9798</th>\n",
       "      <td>NaN</td>\n",
       "      <td>NaN</td>\n",
       "      <td>NaN</td>\n",
       "      <td>NaN</td>\n",
       "      <td>NaN</td>\n",
       "      <td>NaN</td>\n",
       "    </tr>\n",
       "    <tr>\n",
       "      <th>9892</th>\n",
       "      <td>NaN</td>\n",
       "      <td>NaN</td>\n",
       "      <td>NaN</td>\n",
       "      <td>NaN</td>\n",
       "      <td>NaN</td>\n",
       "      <td>NaN</td>\n",
       "    </tr>\n",
       "    <tr>\n",
       "      <th>9895</th>\n",
       "      <td>NaN</td>\n",
       "      <td>NaN</td>\n",
       "      <td>NaN</td>\n",
       "      <td>NaN</td>\n",
       "      <td>NaN</td>\n",
       "      <td>NaN</td>\n",
       "    </tr>\n",
       "    <tr>\n",
       "      <th>11211</th>\n",
       "      <td>NaN</td>\n",
       "      <td>NaN</td>\n",
       "      <td>NaN</td>\n",
       "      <td>NaN</td>\n",
       "      <td>NaN</td>\n",
       "      <td>NaN</td>\n",
       "    </tr>\n",
       "    <tr>\n",
       "      <th>11240</th>\n",
       "      <td>NaN</td>\n",
       "      <td>NaN</td>\n",
       "      <td>NaN</td>\n",
       "      <td>NaN</td>\n",
       "      <td>NaN</td>\n",
       "      <td>NaN</td>\n",
       "    </tr>\n",
       "    <tr>\n",
       "      <th>11497</th>\n",
       "      <td>NaN</td>\n",
       "      <td>NaN</td>\n",
       "      <td>NaN</td>\n",
       "      <td>NaN</td>\n",
       "      <td>NaN</td>\n",
       "      <td>NaN</td>\n",
       "    </tr>\n",
       "    <tr>\n",
       "      <th>11696</th>\n",
       "      <td>NaN</td>\n",
       "      <td>NaN</td>\n",
       "      <td>NaN</td>\n",
       "      <td>NaN</td>\n",
       "      <td>NaN</td>\n",
       "      <td>NaN</td>\n",
       "    </tr>\n",
       "    <tr>\n",
       "      <th>11750</th>\n",
       "      <td>NaN</td>\n",
       "      <td>NaN</td>\n",
       "      <td>NaN</td>\n",
       "      <td>NaN</td>\n",
       "      <td>NaN</td>\n",
       "      <td>NaN</td>\n",
       "    </tr>\n",
       "    <tr>\n",
       "      <th>12135</th>\n",
       "      <td>NaN</td>\n",
       "      <td>NaN</td>\n",
       "      <td>NaN</td>\n",
       "      <td>NaN</td>\n",
       "      <td>NaN</td>\n",
       "      <td>NaN</td>\n",
       "    </tr>\n",
       "    <tr>\n",
       "      <th>12255</th>\n",
       "      <td>NaN</td>\n",
       "      <td>NaN</td>\n",
       "      <td>NaN</td>\n",
       "      <td>NaN</td>\n",
       "      <td>NaN</td>\n",
       "      <td>NaN</td>\n",
       "    </tr>\n",
       "    <tr>\n",
       "      <th>12471</th>\n",
       "      <td>NaN</td>\n",
       "      <td>NaN</td>\n",
       "      <td>NaN</td>\n",
       "      <td>NaN</td>\n",
       "      <td>NaN</td>\n",
       "      <td>NaN</td>\n",
       "    </tr>\n",
       "    <tr>\n",
       "      <th>12841</th>\n",
       "      <td>NaN</td>\n",
       "      <td>NaN</td>\n",
       "      <td>NaN</td>\n",
       "      <td>NaN</td>\n",
       "      <td>NaN</td>\n",
       "      <td>NaN</td>\n",
       "    </tr>\n",
       "    <tr>\n",
       "      <th>13103</th>\n",
       "      <td>NaN</td>\n",
       "      <td>NaN</td>\n",
       "      <td>NaN</td>\n",
       "      <td>NaN</td>\n",
       "      <td>NaN</td>\n",
       "      <td>NaN</td>\n",
       "    </tr>\n",
       "    <tr>\n",
       "      <th>13426</th>\n",
       "      <td>NaN</td>\n",
       "      <td>NaN</td>\n",
       "      <td>NaN</td>\n",
       "      <td>NaN</td>\n",
       "      <td>NaN</td>\n",
       "      <td>NaN</td>\n",
       "    </tr>\n",
       "    <tr>\n",
       "      <th>13852</th>\n",
       "      <td>NaN</td>\n",
       "      <td>NaN</td>\n",
       "      <td>NaN</td>\n",
       "      <td>NaN</td>\n",
       "      <td>NaN</td>\n",
       "      <td>NaN</td>\n",
       "    </tr>\n",
       "    <tr>\n",
       "      <th>14126</th>\n",
       "      <td>NaN</td>\n",
       "      <td>NaN</td>\n",
       "      <td>NaN</td>\n",
       "      <td>NaN</td>\n",
       "      <td>NaN</td>\n",
       "      <td>NaN</td>\n",
       "    </tr>\n",
       "    <tr>\n",
       "      <th>14352</th>\n",
       "      <td>NaN</td>\n",
       "      <td>NaN</td>\n",
       "      <td>NaN</td>\n",
       "      <td>NaN</td>\n",
       "      <td>NaN</td>\n",
       "      <td>NaN</td>\n",
       "    </tr>\n",
       "    <tr>\n",
       "      <th>15447</th>\n",
       "      <td>NaN</td>\n",
       "      <td>NaN</td>\n",
       "      <td>NaN</td>\n",
       "      <td>NaN</td>\n",
       "      <td>NaN</td>\n",
       "      <td>NaN</td>\n",
       "    </tr>\n",
       "    <tr>\n",
       "      <th>15469</th>\n",
       "      <td>NaN</td>\n",
       "      <td>NaN</td>\n",
       "      <td>NaN</td>\n",
       "      <td>NaN</td>\n",
       "      <td>NaN</td>\n",
       "      <td>NaN</td>\n",
       "    </tr>\n",
       "    <tr>\n",
       "      <th>15759</th>\n",
       "      <td>NaN</td>\n",
       "      <td>NaN</td>\n",
       "      <td>NaN</td>\n",
       "      <td>NaN</td>\n",
       "      <td>NaN</td>\n",
       "      <td>NaN</td>\n",
       "    </tr>\n",
       "    <tr>\n",
       "      <th>16048</th>\n",
       "      <td>NaN</td>\n",
       "      <td>NaN</td>\n",
       "      <td>NaN</td>\n",
       "      <td>NaN</td>\n",
       "      <td>NaN</td>\n",
       "      <td>NaN</td>\n",
       "    </tr>\n",
       "    <tr>\n",
       "      <th>16565</th>\n",
       "      <td>NaN</td>\n",
       "      <td>NaN</td>\n",
       "      <td>NaN</td>\n",
       "      <td>NaN</td>\n",
       "      <td>NaN</td>\n",
       "      <td>NaN</td>\n",
       "    </tr>\n",
       "    <tr>\n",
       "      <th>16630</th>\n",
       "      <td>NaN</td>\n",
       "      <td>NaN</td>\n",
       "      <td>NaN</td>\n",
       "      <td>NaN</td>\n",
       "      <td>NaN</td>\n",
       "      <td>NaN</td>\n",
       "    </tr>\n",
       "    <tr>\n",
       "      <th>17057</th>\n",
       "      <td>NaN</td>\n",
       "      <td>NaN</td>\n",
       "      <td>NaN</td>\n",
       "      <td>NaN</td>\n",
       "      <td>NaN</td>\n",
       "      <td>NaN</td>\n",
       "    </tr>\n",
       "  </tbody>\n",
       "</table>\n",
       "</div>"
      ],
      "text/plain": [
       "      Order_ID Product Quantity_Ordered Price_Each Order_Date Purchase_Address\n",
       "664        NaN     NaN              NaN        NaN        NaN              NaN\n",
       "678        NaN     NaN              NaN        NaN        NaN              NaN\n",
       "797        NaN     NaN              NaN        NaN        NaN              NaN\n",
       "876        NaN     NaN              NaN        NaN        NaN              NaN\n",
       "1299       NaN     NaN              NaN        NaN        NaN              NaN\n",
       "1491       NaN     NaN              NaN        NaN        NaN              NaN\n",
       "1699       NaN     NaN              NaN        NaN        NaN              NaN\n",
       "3047       NaN     NaN              NaN        NaN        NaN              NaN\n",
       "3082       NaN     NaN              NaN        NaN        NaN              NaN\n",
       "3584       NaN     NaN              NaN        NaN        NaN              NaN\n",
       "3659       NaN     NaN              NaN        NaN        NaN              NaN\n",
       "4689       NaN     NaN              NaN        NaN        NaN              NaN\n",
       "5061       NaN     NaN              NaN        NaN        NaN              NaN\n",
       "5570       NaN     NaN              NaN        NaN        NaN              NaN\n",
       "5607       NaN     NaN              NaN        NaN        NaN              NaN\n",
       "6056       NaN     NaN              NaN        NaN        NaN              NaN\n",
       "6504       NaN     NaN              NaN        NaN        NaN              NaN\n",
       "6517       NaN     NaN              NaN        NaN        NaN              NaN\n",
       "7855       NaN     NaN              NaN        NaN        NaN              NaN\n",
       "8255       NaN     NaN              NaN        NaN        NaN              NaN\n",
       "8257       NaN     NaN              NaN        NaN        NaN              NaN\n",
       "8596       NaN     NaN              NaN        NaN        NaN              NaN\n",
       "8623       NaN     NaN              NaN        NaN        NaN              NaN\n",
       "9144       NaN     NaN              NaN        NaN        NaN              NaN\n",
       "9631       NaN     NaN              NaN        NaN        NaN              NaN\n",
       "9664       NaN     NaN              NaN        NaN        NaN              NaN\n",
       "9798       NaN     NaN              NaN        NaN        NaN              NaN\n",
       "9892       NaN     NaN              NaN        NaN        NaN              NaN\n",
       "9895       NaN     NaN              NaN        NaN        NaN              NaN\n",
       "11211      NaN     NaN              NaN        NaN        NaN              NaN\n",
       "11240      NaN     NaN              NaN        NaN        NaN              NaN\n",
       "11497      NaN     NaN              NaN        NaN        NaN              NaN\n",
       "11696      NaN     NaN              NaN        NaN        NaN              NaN\n",
       "11750      NaN     NaN              NaN        NaN        NaN              NaN\n",
       "12135      NaN     NaN              NaN        NaN        NaN              NaN\n",
       "12255      NaN     NaN              NaN        NaN        NaN              NaN\n",
       "12471      NaN     NaN              NaN        NaN        NaN              NaN\n",
       "12841      NaN     NaN              NaN        NaN        NaN              NaN\n",
       "13103      NaN     NaN              NaN        NaN        NaN              NaN\n",
       "13426      NaN     NaN              NaN        NaN        NaN              NaN\n",
       "13852      NaN     NaN              NaN        NaN        NaN              NaN\n",
       "14126      NaN     NaN              NaN        NaN        NaN              NaN\n",
       "14352      NaN     NaN              NaN        NaN        NaN              NaN\n",
       "15447      NaN     NaN              NaN        NaN        NaN              NaN\n",
       "15469      NaN     NaN              NaN        NaN        NaN              NaN\n",
       "15759      NaN     NaN              NaN        NaN        NaN              NaN\n",
       "16048      NaN     NaN              NaN        NaN        NaN              NaN\n",
       "16565      NaN     NaN              NaN        NaN        NaN              NaN\n",
       "16630      NaN     NaN              NaN        NaN        NaN              NaN\n",
       "17057      NaN     NaN              NaN        NaN        NaN              NaN"
      ]
     },
     "execution_count": 24,
     "metadata": {},
     "output_type": "execute_result"
    }
   ],
   "source": [
    "# Confirm rows with null values in the dataset\n",
    "missing_values = first_half_data[full_year_data.columns].isnull().any(axis=1)\n",
    "rows_with_missing_values = first_half_data[missing_values]\n",
    "rows_with_missing_values.head(50)"
   ]
  },
  {
   "cell_type": "code",
   "execution_count": 25,
   "metadata": {},
   "outputs": [
    {
     "data": {
      "text/html": [
       "<div>\n",
       "<style scoped>\n",
       "    .dataframe tbody tr th:only-of-type {\n",
       "        vertical-align: middle;\n",
       "    }\n",
       "\n",
       "    .dataframe tbody tr th {\n",
       "        vertical-align: top;\n",
       "    }\n",
       "\n",
       "    .dataframe thead th {\n",
       "        text-align: right;\n",
       "    }\n",
       "</style>\n",
       "<table border=\"1\" class=\"dataframe\">\n",
       "  <thead>\n",
       "    <tr style=\"text-align: right;\">\n",
       "      <th></th>\n",
       "      <th>Order_ID</th>\n",
       "      <th>Product</th>\n",
       "      <th>Quantity_Ordered</th>\n",
       "      <th>Price_Each</th>\n",
       "      <th>Order_Date</th>\n",
       "      <th>Purchase_Address</th>\n",
       "    </tr>\n",
       "  </thead>\n",
       "  <tbody>\n",
       "    <tr>\n",
       "      <th>78221</th>\n",
       "      <td>NaN</td>\n",
       "      <td>NaN</td>\n",
       "      <td>NaN</td>\n",
       "      <td>NaN</td>\n",
       "      <td>NaN</td>\n",
       "      <td>NaN</td>\n",
       "    </tr>\n",
       "    <tr>\n",
       "      <th>79484</th>\n",
       "      <td>NaN</td>\n",
       "      <td>NaN</td>\n",
       "      <td>NaN</td>\n",
       "      <td>NaN</td>\n",
       "      <td>NaN</td>\n",
       "      <td>NaN</td>\n",
       "    </tr>\n",
       "    <tr>\n",
       "      <th>80030</th>\n",
       "      <td>NaN</td>\n",
       "      <td>NaN</td>\n",
       "      <td>NaN</td>\n",
       "      <td>NaN</td>\n",
       "      <td>NaN</td>\n",
       "      <td>NaN</td>\n",
       "    </tr>\n",
       "    <tr>\n",
       "      <th>80054</th>\n",
       "      <td>NaN</td>\n",
       "      <td>NaN</td>\n",
       "      <td>NaN</td>\n",
       "      <td>NaN</td>\n",
       "      <td>NaN</td>\n",
       "      <td>NaN</td>\n",
       "    </tr>\n",
       "    <tr>\n",
       "      <th>80134</th>\n",
       "      <td>NaN</td>\n",
       "      <td>NaN</td>\n",
       "      <td>NaN</td>\n",
       "      <td>NaN</td>\n",
       "      <td>NaN</td>\n",
       "      <td>NaN</td>\n",
       "    </tr>\n",
       "    <tr>\n",
       "      <th>80373</th>\n",
       "      <td>NaN</td>\n",
       "      <td>NaN</td>\n",
       "      <td>NaN</td>\n",
       "      <td>NaN</td>\n",
       "      <td>NaN</td>\n",
       "      <td>NaN</td>\n",
       "    </tr>\n",
       "    <tr>\n",
       "      <th>80999</th>\n",
       "      <td>NaN</td>\n",
       "      <td>NaN</td>\n",
       "      <td>NaN</td>\n",
       "      <td>NaN</td>\n",
       "      <td>NaN</td>\n",
       "      <td>NaN</td>\n",
       "    </tr>\n",
       "    <tr>\n",
       "      <th>81356</th>\n",
       "      <td>NaN</td>\n",
       "      <td>NaN</td>\n",
       "      <td>NaN</td>\n",
       "      <td>NaN</td>\n",
       "      <td>NaN</td>\n",
       "      <td>NaN</td>\n",
       "    </tr>\n",
       "    <tr>\n",
       "      <th>82758</th>\n",
       "      <td>NaN</td>\n",
       "      <td>NaN</td>\n",
       "      <td>NaN</td>\n",
       "      <td>NaN</td>\n",
       "      <td>NaN</td>\n",
       "      <td>NaN</td>\n",
       "    </tr>\n",
       "    <tr>\n",
       "      <th>82979</th>\n",
       "      <td>NaN</td>\n",
       "      <td>NaN</td>\n",
       "      <td>NaN</td>\n",
       "      <td>NaN</td>\n",
       "      <td>NaN</td>\n",
       "      <td>NaN</td>\n",
       "    </tr>\n",
       "    <tr>\n",
       "      <th>83548</th>\n",
       "      <td>NaN</td>\n",
       "      <td>NaN</td>\n",
       "      <td>NaN</td>\n",
       "      <td>NaN</td>\n",
       "      <td>NaN</td>\n",
       "      <td>NaN</td>\n",
       "    </tr>\n",
       "    <tr>\n",
       "      <th>83774</th>\n",
       "      <td>NaN</td>\n",
       "      <td>NaN</td>\n",
       "      <td>NaN</td>\n",
       "      <td>NaN</td>\n",
       "      <td>NaN</td>\n",
       "      <td>NaN</td>\n",
       "    </tr>\n",
       "    <tr>\n",
       "      <th>83975</th>\n",
       "      <td>NaN</td>\n",
       "      <td>NaN</td>\n",
       "      <td>NaN</td>\n",
       "      <td>NaN</td>\n",
       "      <td>NaN</td>\n",
       "      <td>NaN</td>\n",
       "    </tr>\n",
       "    <tr>\n",
       "      <th>84276</th>\n",
       "      <td>NaN</td>\n",
       "      <td>NaN</td>\n",
       "      <td>NaN</td>\n",
       "      <td>NaN</td>\n",
       "      <td>NaN</td>\n",
       "      <td>NaN</td>\n",
       "    </tr>\n",
       "    <tr>\n",
       "      <th>84376</th>\n",
       "      <td>NaN</td>\n",
       "      <td>NaN</td>\n",
       "      <td>NaN</td>\n",
       "      <td>NaN</td>\n",
       "      <td>NaN</td>\n",
       "      <td>NaN</td>\n",
       "    </tr>\n",
       "    <tr>\n",
       "      <th>84570</th>\n",
       "      <td>NaN</td>\n",
       "      <td>NaN</td>\n",
       "      <td>NaN</td>\n",
       "      <td>NaN</td>\n",
       "      <td>NaN</td>\n",
       "      <td>NaN</td>\n",
       "    </tr>\n",
       "    <tr>\n",
       "      <th>84643</th>\n",
       "      <td>NaN</td>\n",
       "      <td>NaN</td>\n",
       "      <td>NaN</td>\n",
       "      <td>NaN</td>\n",
       "      <td>NaN</td>\n",
       "      <td>NaN</td>\n",
       "    </tr>\n",
       "    <tr>\n",
       "      <th>84662</th>\n",
       "      <td>NaN</td>\n",
       "      <td>NaN</td>\n",
       "      <td>NaN</td>\n",
       "      <td>NaN</td>\n",
       "      <td>NaN</td>\n",
       "      <td>NaN</td>\n",
       "    </tr>\n",
       "    <tr>\n",
       "      <th>84735</th>\n",
       "      <td>NaN</td>\n",
       "      <td>NaN</td>\n",
       "      <td>NaN</td>\n",
       "      <td>NaN</td>\n",
       "      <td>NaN</td>\n",
       "      <td>NaN</td>\n",
       "    </tr>\n",
       "    <tr>\n",
       "      <th>85355</th>\n",
       "      <td>NaN</td>\n",
       "      <td>NaN</td>\n",
       "      <td>NaN</td>\n",
       "      <td>NaN</td>\n",
       "      <td>NaN</td>\n",
       "      <td>NaN</td>\n",
       "    </tr>\n",
       "  </tbody>\n",
       "</table>\n",
       "</div>"
      ],
      "text/plain": [
       "      Order_ID Product Quantity_Ordered Price_Each Order_Date Purchase_Address\n",
       "78221      NaN     NaN              NaN        NaN        NaN              NaN\n",
       "79484      NaN     NaN              NaN        NaN        NaN              NaN\n",
       "80030      NaN     NaN              NaN        NaN        NaN              NaN\n",
       "80054      NaN     NaN              NaN        NaN        NaN              NaN\n",
       "80134      NaN     NaN              NaN        NaN        NaN              NaN\n",
       "80373      NaN     NaN              NaN        NaN        NaN              NaN\n",
       "80999      NaN     NaN              NaN        NaN        NaN              NaN\n",
       "81356      NaN     NaN              NaN        NaN        NaN              NaN\n",
       "82758      NaN     NaN              NaN        NaN        NaN              NaN\n",
       "82979      NaN     NaN              NaN        NaN        NaN              NaN\n",
       "83548      NaN     NaN              NaN        NaN        NaN              NaN\n",
       "83774      NaN     NaN              NaN        NaN        NaN              NaN\n",
       "83975      NaN     NaN              NaN        NaN        NaN              NaN\n",
       "84276      NaN     NaN              NaN        NaN        NaN              NaN\n",
       "84376      NaN     NaN              NaN        NaN        NaN              NaN\n",
       "84570      NaN     NaN              NaN        NaN        NaN              NaN\n",
       "84643      NaN     NaN              NaN        NaN        NaN              NaN\n",
       "84662      NaN     NaN              NaN        NaN        NaN              NaN\n",
       "84735      NaN     NaN              NaN        NaN        NaN              NaN\n",
       "85355      NaN     NaN              NaN        NaN        NaN              NaN"
      ]
     },
     "execution_count": 25,
     "metadata": {},
     "output_type": "execute_result"
    }
   ],
   "source": [
    "# View the last 20 rows for the missing values\n",
    "rows_with_missing_values.tail(20)"
   ]
  },
  {
   "cell_type": "markdown",
   "metadata": {},
   "source": [
    "* Since the rows with missing values in the dataset have all columns to be missing, we cannot impute the missing values hence we will drop the null values in the dataset."
   ]
  },
  {
   "cell_type": "code",
   "execution_count": 26,
   "metadata": {},
   "outputs": [
    {
     "data": {
      "text/plain": [
       "Order_ID            0\n",
       "Product             0\n",
       "Quantity_Ordered    0\n",
       "Price_Each          0\n",
       "Order_Date          0\n",
       "Purchase_Address    0\n",
       "dtype: int64"
      ]
     },
     "execution_count": 26,
     "metadata": {},
     "output_type": "execute_result"
    }
   ],
   "source": [
    "# Drop null values\n",
    "full_year_data.dropna(inplace=True)\n",
    "\n",
    "# Check null values to confirm dropping of the null values\n",
    "full_year_data.isnull().sum()"
   ]
  },
  {
   "cell_type": "markdown",
   "metadata": {},
   "source": [
    "#### 3.1.5 Remove duplicates"
   ]
  },
  {
   "cell_type": "code",
   "execution_count": 27,
   "metadata": {},
   "outputs": [
    {
     "data": {
      "text/plain": [
       "'There are 423 duplicated rows in the dataset.'"
      ]
     },
     "execution_count": 27,
     "metadata": {},
     "output_type": "execute_result"
    }
   ],
   "source": [
    "# Check duplicates in the dataset\n",
    "f'There are {full_year_data.duplicated().sum()} duplicated rows in the dataset.'"
   ]
  },
  {
   "cell_type": "code",
   "execution_count": 28,
   "metadata": {},
   "outputs": [
    {
     "data": {
      "text/html": [
       "<div>\n",
       "<style scoped>\n",
       "    .dataframe tbody tr th:only-of-type {\n",
       "        vertical-align: middle;\n",
       "    }\n",
       "\n",
       "    .dataframe tbody tr th {\n",
       "        vertical-align: top;\n",
       "    }\n",
       "\n",
       "    .dataframe thead th {\n",
       "        text-align: right;\n",
       "    }\n",
       "</style>\n",
       "<table border=\"1\" class=\"dataframe\">\n",
       "  <thead>\n",
       "    <tr style=\"text-align: right;\">\n",
       "      <th></th>\n",
       "      <th>Order_ID</th>\n",
       "      <th>Product</th>\n",
       "      <th>Quantity_Ordered</th>\n",
       "      <th>Price_Each</th>\n",
       "      <th>Order_Date</th>\n",
       "      <th>Purchase_Address</th>\n",
       "    </tr>\n",
       "  </thead>\n",
       "  <tbody>\n",
       "    <tr>\n",
       "      <th>875</th>\n",
       "      <td>142071</td>\n",
       "      <td>AA Batteries (4-pack)</td>\n",
       "      <td>1</td>\n",
       "      <td>3.84</td>\n",
       "      <td>01/17/19 23:02</td>\n",
       "      <td>131 2nd St, Boston, MA 02215</td>\n",
       "    </tr>\n",
       "    <tr>\n",
       "      <th>1102</th>\n",
       "      <td>Order ID</td>\n",
       "      <td>Product</td>\n",
       "      <td>Quantity Ordered</td>\n",
       "      <td>Price Each</td>\n",
       "      <td>Order Date</td>\n",
       "      <td>Purchase Address</td>\n",
       "    </tr>\n",
       "    <tr>\n",
       "      <th>1194</th>\n",
       "      <td>Order ID</td>\n",
       "      <td>Product</td>\n",
       "      <td>Quantity Ordered</td>\n",
       "      <td>Price Each</td>\n",
       "      <td>Order Date</td>\n",
       "      <td>Purchase Address</td>\n",
       "    </tr>\n",
       "    <tr>\n",
       "      <th>1897</th>\n",
       "      <td>Order ID</td>\n",
       "      <td>Product</td>\n",
       "      <td>Quantity Ordered</td>\n",
       "      <td>Price Each</td>\n",
       "      <td>Order Date</td>\n",
       "      <td>Purchase Address</td>\n",
       "    </tr>\n",
       "    <tr>\n",
       "      <th>2463</th>\n",
       "      <td>Order ID</td>\n",
       "      <td>Product</td>\n",
       "      <td>Quantity Ordered</td>\n",
       "      <td>Price Each</td>\n",
       "      <td>Order Date</td>\n",
       "      <td>Purchase Address</td>\n",
       "    </tr>\n",
       "    <tr>\n",
       "      <th>...</th>\n",
       "      <td>...</td>\n",
       "      <td>...</td>\n",
       "      <td>...</td>\n",
       "      <td>...</td>\n",
       "      <td>...</td>\n",
       "      <td>...</td>\n",
       "    </tr>\n",
       "    <tr>\n",
       "      <th>181627</th>\n",
       "      <td>314675.0</td>\n",
       "      <td>AA Batteries (4-pack)</td>\n",
       "      <td>1.0</td>\n",
       "      <td>3.84</td>\n",
       "      <td>2026-12-19 09:01:00</td>\n",
       "      <td>927 13th St, San Francisco, CA 94016</td>\n",
       "    </tr>\n",
       "    <tr>\n",
       "      <th>182185</th>\n",
       "      <td>315204.0</td>\n",
       "      <td>Wired Headphones</td>\n",
       "      <td>1.0</td>\n",
       "      <td>11.99</td>\n",
       "      <td>2012-12-19 12:41:00</td>\n",
       "      <td>680 6th St, San Francisco, CA 94016</td>\n",
       "    </tr>\n",
       "    <tr>\n",
       "      <th>182973</th>\n",
       "      <td>315955.0</td>\n",
       "      <td>ThinkPad Laptop</td>\n",
       "      <td>1.0</td>\n",
       "      <td>999.98999</td>\n",
       "      <td>2026-12-19 17:28:00</td>\n",
       "      <td>588 Chestnut St, Seattle, WA 98101</td>\n",
       "    </tr>\n",
       "    <tr>\n",
       "      <th>183200</th>\n",
       "      <td>316173.0</td>\n",
       "      <td>AAA Batteries (4-pack)</td>\n",
       "      <td>1.0</td>\n",
       "      <td>2.99</td>\n",
       "      <td>2022-12-19 22:44:00</td>\n",
       "      <td>907 Sunset St, Portland, OR 97035</td>\n",
       "    </tr>\n",
       "    <tr>\n",
       "      <th>185085</th>\n",
       "      <td>317971.0</td>\n",
       "      <td>AA Batteries (4-pack)</td>\n",
       "      <td>1.0</td>\n",
       "      <td>3.84</td>\n",
       "      <td>2017-12-19 18:39:00</td>\n",
       "      <td>250 Chestnut St, San Francisco, CA 94016</td>\n",
       "    </tr>\n",
       "  </tbody>\n",
       "</table>\n",
       "<p>423 rows × 6 columns</p>\n",
       "</div>"
      ],
      "text/plain": [
       "        Order_ID                 Product  Quantity_Ordered  Price_Each  \\\n",
       "875       142071   AA Batteries (4-pack)                 1        3.84   \n",
       "1102    Order ID                 Product  Quantity Ordered  Price Each   \n",
       "1194    Order ID                 Product  Quantity Ordered  Price Each   \n",
       "1897    Order ID                 Product  Quantity Ordered  Price Each   \n",
       "2463    Order ID                 Product  Quantity Ordered  Price Each   \n",
       "...          ...                     ...               ...         ...   \n",
       "181627  314675.0   AA Batteries (4-pack)               1.0        3.84   \n",
       "182185  315204.0        Wired Headphones               1.0       11.99   \n",
       "182973  315955.0         ThinkPad Laptop               1.0   999.98999   \n",
       "183200  316173.0  AAA Batteries (4-pack)               1.0        2.99   \n",
       "185085  317971.0   AA Batteries (4-pack)               1.0        3.84   \n",
       "\n",
       "                 Order_Date                          Purchase_Address  \n",
       "875          01/17/19 23:02              131 2nd St, Boston, MA 02215  \n",
       "1102             Order Date                          Purchase Address  \n",
       "1194             Order Date                          Purchase Address  \n",
       "1897             Order Date                          Purchase Address  \n",
       "2463             Order Date                          Purchase Address  \n",
       "...                     ...                                       ...  \n",
       "181627  2026-12-19 09:01:00      927 13th St, San Francisco, CA 94016  \n",
       "182185  2012-12-19 12:41:00       680 6th St, San Francisco, CA 94016  \n",
       "182973  2026-12-19 17:28:00        588 Chestnut St, Seattle, WA 98101  \n",
       "183200  2022-12-19 22:44:00         907 Sunset St, Portland, OR 97035  \n",
       "185085  2017-12-19 18:39:00  250 Chestnut St, San Francisco, CA 94016  \n",
       "\n",
       "[423 rows x 6 columns]"
      ]
     },
     "execution_count": 28,
     "metadata": {},
     "output_type": "execute_result"
    }
   ],
   "source": [
    "# Confirm duplicated rows in the dataset\n",
    "duplicates = full_year_data[full_year_data.duplicated()]\n",
    "duplicates"
   ]
  },
  {
   "cell_type": "markdown",
   "metadata": {},
   "source": [
    "* The duplicated rows in the dataset will be dealt with by keeping the first occurence and dropping every other instance."
   ]
  },
  {
   "cell_type": "code",
   "execution_count": 29,
   "metadata": {},
   "outputs": [
    {
     "data": {
      "text/plain": [
       "'There are 0 duplicated rows in the dataset now.'"
      ]
     },
     "execution_count": 29,
     "metadata": {},
     "output_type": "execute_result"
    }
   ],
   "source": [
    "# Drop duplicates\n",
    "full_year_data.drop_duplicates(keep='first', inplace=True)\n",
    "\n",
    "# Confirm drop\n",
    "f'There are {full_year_data.duplicated().sum()} duplicated rows in the dataset now.'"
   ]
  },
  {
   "cell_type": "markdown",
   "metadata": {},
   "source": [
    "#### 3.1.6. Check columns unique values"
   ]
  },
  {
   "cell_type": "code",
   "execution_count": 30,
   "metadata": {},
   "outputs": [
    {
     "data": {
      "text/plain": [
       "array(['iPhone', 'Lightning Charging Cable', 'Wired Headphones',\n",
       "       '27in FHD Monitor', 'AAA Batteries (4-pack)',\n",
       "       '27in 4K Gaming Monitor', 'USB-C Charging Cable',\n",
       "       'Bose SoundSport Headphones', 'Apple Airpods Headphones',\n",
       "       'Macbook Pro Laptop', 'Flatscreen TV', 'Vareebadd Phone',\n",
       "       'AA Batteries (4-pack)', 'Google Phone', '20in Monitor',\n",
       "       '34in Ultrawide Monitor', 'ThinkPad Laptop', 'LG Dryer',\n",
       "       'LG Washing Machine', 'Product'], dtype=object)"
      ]
     },
     "execution_count": 30,
     "metadata": {},
     "output_type": "execute_result"
    }
   ],
   "source": [
    "# Check unique values for product column\n",
    "full_year_data['Product'].unique()"
   ]
  },
  {
   "cell_type": "markdown",
   "metadata": {},
   "source": [
    "* Product value in the Product column must be inspected to validate the value"
   ]
  },
  {
   "cell_type": "code",
   "execution_count": 31,
   "metadata": {},
   "outputs": [
    {
     "data": {
      "text/html": [
       "<div>\n",
       "<style scoped>\n",
       "    .dataframe tbody tr th:only-of-type {\n",
       "        vertical-align: middle;\n",
       "    }\n",
       "\n",
       "    .dataframe tbody tr th {\n",
       "        vertical-align: top;\n",
       "    }\n",
       "\n",
       "    .dataframe thead th {\n",
       "        text-align: right;\n",
       "    }\n",
       "</style>\n",
       "<table border=\"1\" class=\"dataframe\">\n",
       "  <thead>\n",
       "    <tr style=\"text-align: right;\">\n",
       "      <th></th>\n",
       "      <th>Order_ID</th>\n",
       "      <th>Product</th>\n",
       "      <th>Quantity_Ordered</th>\n",
       "      <th>Price_Each</th>\n",
       "      <th>Order_Date</th>\n",
       "      <th>Purchase_Address</th>\n",
       "    </tr>\n",
       "  </thead>\n",
       "  <tbody>\n",
       "    <tr>\n",
       "      <th>1073</th>\n",
       "      <td>Order ID</td>\n",
       "      <td>Product</td>\n",
       "      <td>Quantity Ordered</td>\n",
       "      <td>Price Each</td>\n",
       "      <td>Order Date</td>\n",
       "      <td>Purchase Address</td>\n",
       "    </tr>\n",
       "  </tbody>\n",
       "</table>\n",
       "</div>"
      ],
      "text/plain": [
       "      Order_ID  Product  Quantity_Ordered  Price_Each  Order_Date  \\\n",
       "1073  Order ID  Product  Quantity Ordered  Price Each  Order Date   \n",
       "\n",
       "      Purchase_Address  \n",
       "1073  Purchase Address  "
      ]
     },
     "execution_count": 31,
     "metadata": {},
     "output_type": "execute_result"
    }
   ],
   "source": [
    "# Check rows with Product value as value\n",
    "full_year_data[full_year_data['Product'] == 'Product']"
   ]
  },
  {
   "cell_type": "markdown",
   "metadata": {},
   "source": [
    "* This row in the dataset must be dropped since it is an invalid row with invalid values."
   ]
  },
  {
   "cell_type": "code",
   "execution_count": 32,
   "metadata": {},
   "outputs": [],
   "source": [
    "# Drop row with invalid column values\n",
    "invalid_values = full_year_data[full_year_data['Product'] == 'Product'].index\n",
    "full_year_data.drop(index=invalid_values, inplace=True)"
   ]
  },
  {
   "cell_type": "code",
   "execution_count": 33,
   "metadata": {},
   "outputs": [
    {
     "data": {
      "text/html": [
       "<div>\n",
       "<style scoped>\n",
       "    .dataframe tbody tr th:only-of-type {\n",
       "        vertical-align: middle;\n",
       "    }\n",
       "\n",
       "    .dataframe tbody tr th {\n",
       "        vertical-align: top;\n",
       "    }\n",
       "\n",
       "    .dataframe thead th {\n",
       "        text-align: right;\n",
       "    }\n",
       "</style>\n",
       "<table border=\"1\" class=\"dataframe\">\n",
       "  <thead>\n",
       "    <tr style=\"text-align: right;\">\n",
       "      <th></th>\n",
       "      <th>Order_ID</th>\n",
       "      <th>Product</th>\n",
       "      <th>Quantity_Ordered</th>\n",
       "      <th>Price_Each</th>\n",
       "      <th>Order_Date</th>\n",
       "      <th>Purchase_Address</th>\n",
       "    </tr>\n",
       "  </thead>\n",
       "  <tbody>\n",
       "  </tbody>\n",
       "</table>\n",
       "</div>"
      ],
      "text/plain": [
       "Empty DataFrame\n",
       "Columns: [Order_ID, Product, Quantity_Ordered, Price_Each, Order_Date, Purchase_Address]\n",
       "Index: []"
      ]
     },
     "execution_count": 33,
     "metadata": {},
     "output_type": "execute_result"
    }
   ],
   "source": [
    "# Confirm drop of row\n",
    "full_year_data[full_year_data['Product'] == 'Product']"
   ]
  },
  {
   "cell_type": "code",
   "execution_count": 34,
   "metadata": {},
   "outputs": [
    {
     "data": {
      "text/plain": [
       "0                944 Walnut St, Boston, MA 02215\n",
       "1               185 Maple St, Portland, OR 97035\n",
       "2          538 Adams St, San Francisco, CA 94016\n",
       "3             738 10th St, Los Angeles, CA 90001\n",
       "4                  387 10th St, Austin, TX 73301\n",
       "                           ...                  \n",
       "186845    14 Madison St, San Francisco, CA 94016\n",
       "186846      549 Willow St, Los Angeles, CA 90001\n",
       "186847          273 Wilson St, Seattle, WA 98101\n",
       "186848            778 River St, Dallas, TX 75001\n",
       "186849    747 Chestnut St, Los Angeles, CA 90001\n",
       "Name: Purchase_Address, Length: 185686, dtype: object"
      ]
     },
     "execution_count": 34,
     "metadata": {},
     "output_type": "execute_result"
    }
   ],
   "source": [
    "# Inspect the Purchase Address column\n",
    "full_year_data['Purchase_Address']"
   ]
  },
  {
   "cell_type": "markdown",
   "metadata": {},
   "source": [
    "* The purchase address column contains multiple information which we will split for better analysis of the dataset.\n",
    "\n",
    "* Columns such as Street Name, City, State, and ZIP Code will be extracted from this column after which the column itself will be dropped."
   ]
  },
  {
   "cell_type": "code",
   "execution_count": 35,
   "metadata": {},
   "outputs": [
    {
     "data": {
      "text/plain": [
       "array(['01/22/19 21:25', '01/28/19 14:15', '01/17/19 13:33', ...,\n",
       "       Timestamp('2001-12-19 12:01:00'), Timestamp('2009-12-19 06:43:00'),\n",
       "       Timestamp('2003-12-19 10:39:00')], dtype=object)"
      ]
     },
     "execution_count": 35,
     "metadata": {},
     "output_type": "execute_result"
    }
   ],
   "source": [
    "# Check unique values in the Order Date column\n",
    "full_year_data['Order_Date'].unique()"
   ]
  },
  {
   "cell_type": "markdown",
   "metadata": {},
   "source": [
    "* From the output for the unique values in the order date column we observe that there are dates other then 2019 which we will have to get rid of to help us focus our analysis on the date needed alone."
   ]
  },
  {
   "cell_type": "markdown",
   "metadata": {},
   "source": [
    "#### 3.1.7. Convert data types"
   ]
  },
  {
   "cell_type": "code",
   "execution_count": 36,
   "metadata": {},
   "outputs": [],
   "source": [
    "# Convert 'Order_Date' to datetime\n",
    "\n",
    "full_year_data['Order_Date'] = pd.to_datetime(full_year_data['Order_Date'])\n",
    "\n",
    "# Convert 'Quantity_Ordered' and 'Price_Each' to float\n",
    "\n",
    "\n",
    "# Convert 'Price Each' column to numeric\n",
    "full_year_data['Price_Each'] = pd.to_numeric(full_year_data['Price_Each'])\n",
    "\n",
    "# Convert 'Quantity Ordered' column to numeric\n",
    "full_year_data['Quantity_Ordered'] = pd.to_numeric(full_year_data['Quantity_Ordered'], downcast='integer')\n",
    "\n",
    "# Convert 'Order_ID' column in the first dataset to float64\n",
    "full_year_data['Order_ID'] = pd.to_numeric(full_year_data['Order_ID'], downcast='integer')"
   ]
  },
  {
   "cell_type": "code",
   "execution_count": 37,
   "metadata": {},
   "outputs": [
    {
     "name": "stdout",
     "output_type": "stream",
     "text": [
      "<class 'pandas.core.frame.DataFrame'>\n",
      "Index: 185686 entries, 0 to 186849\n",
      "Data columns (total 6 columns):\n",
      " #   Column            Non-Null Count   Dtype         \n",
      "---  ------            --------------   -----         \n",
      " 0   Order_ID          185686 non-null  int32         \n",
      " 1   Product           185686 non-null  object        \n",
      " 2   Quantity_Ordered  185686 non-null  int8          \n",
      " 3   Price_Each        185686 non-null  float64       \n",
      " 4   Order_Date        185686 non-null  datetime64[ns]\n",
      " 5   Purchase_Address  185686 non-null  object        \n",
      "dtypes: datetime64[ns](1), float64(1), int32(1), int8(1), object(2)\n",
      "memory usage: 8.0+ MB\n"
     ]
    }
   ],
   "source": [
    "# Check data info to confirm changes\n",
    "full_year_data.info()"
   ]
  },
  {
   "cell_type": "markdown",
   "metadata": {},
   "source": [
    "### 3.2. Data Transformation\n",
    "\n",
    "#### 3.2.1. Generate new features"
   ]
  },
  {
   "cell_type": "code",
   "execution_count": 38,
   "metadata": {},
   "outputs": [
    {
     "data": {
      "text/html": [
       "<div>\n",
       "<style scoped>\n",
       "    .dataframe tbody tr th:only-of-type {\n",
       "        vertical-align: middle;\n",
       "    }\n",
       "\n",
       "    .dataframe tbody tr th {\n",
       "        vertical-align: top;\n",
       "    }\n",
       "\n",
       "    .dataframe thead th {\n",
       "        text-align: right;\n",
       "    }\n",
       "</style>\n",
       "<table border=\"1\" class=\"dataframe\">\n",
       "  <thead>\n",
       "    <tr style=\"text-align: right;\">\n",
       "      <th></th>\n",
       "      <th>Order_ID</th>\n",
       "      <th>Product</th>\n",
       "      <th>Quantity_Ordered</th>\n",
       "      <th>Price_Each</th>\n",
       "      <th>Order_Date</th>\n",
       "      <th>Purchase_Address</th>\n",
       "    </tr>\n",
       "  </thead>\n",
       "  <tbody>\n",
       "    <tr>\n",
       "      <th>0</th>\n",
       "      <td>141234</td>\n",
       "      <td>iPhone</td>\n",
       "      <td>1</td>\n",
       "      <td>700.00</td>\n",
       "      <td>2019-01-22 21:25:00</td>\n",
       "      <td>944 Walnut St, Boston, MA 02215</td>\n",
       "    </tr>\n",
       "    <tr>\n",
       "      <th>1</th>\n",
       "      <td>141235</td>\n",
       "      <td>Lightning Charging Cable</td>\n",
       "      <td>1</td>\n",
       "      <td>14.95</td>\n",
       "      <td>2019-01-28 14:15:00</td>\n",
       "      <td>185 Maple St, Portland, OR 97035</td>\n",
       "    </tr>\n",
       "    <tr>\n",
       "      <th>2</th>\n",
       "      <td>141236</td>\n",
       "      <td>Wired Headphones</td>\n",
       "      <td>2</td>\n",
       "      <td>11.99</td>\n",
       "      <td>2019-01-17 13:33:00</td>\n",
       "      <td>538 Adams St, San Francisco, CA 94016</td>\n",
       "    </tr>\n",
       "    <tr>\n",
       "      <th>3</th>\n",
       "      <td>141237</td>\n",
       "      <td>27in FHD Monitor</td>\n",
       "      <td>1</td>\n",
       "      <td>149.99</td>\n",
       "      <td>2019-01-05 20:33:00</td>\n",
       "      <td>738 10th St, Los Angeles, CA 90001</td>\n",
       "    </tr>\n",
       "    <tr>\n",
       "      <th>4</th>\n",
       "      <td>141238</td>\n",
       "      <td>Wired Headphones</td>\n",
       "      <td>1</td>\n",
       "      <td>11.99</td>\n",
       "      <td>2019-01-25 11:59:00</td>\n",
       "      <td>387 10th St, Austin, TX 73301</td>\n",
       "    </tr>\n",
       "  </tbody>\n",
       "</table>\n",
       "</div>"
      ],
      "text/plain": [
       "   Order_ID                   Product  Quantity_Ordered  Price_Each  \\\n",
       "0    141234                    iPhone                 1      700.00   \n",
       "1    141235  Lightning Charging Cable                 1       14.95   \n",
       "2    141236          Wired Headphones                 2       11.99   \n",
       "3    141237          27in FHD Monitor                 1      149.99   \n",
       "4    141238          Wired Headphones                 1       11.99   \n",
       "\n",
       "           Order_Date                       Purchase_Address  \n",
       "0 2019-01-22 21:25:00        944 Walnut St, Boston, MA 02215  \n",
       "1 2019-01-28 14:15:00       185 Maple St, Portland, OR 97035  \n",
       "2 2019-01-17 13:33:00  538 Adams St, San Francisco, CA 94016  \n",
       "3 2019-01-05 20:33:00     738 10th St, Los Angeles, CA 90001  \n",
       "4 2019-01-25 11:59:00          387 10th St, Austin, TX 73301  "
      ]
     },
     "execution_count": 38,
     "metadata": {},
     "output_type": "execute_result"
    }
   ],
   "source": [
    "# Filter out 2019 data from the entire dataset provided\n",
    "data_2019 = full_year_data[full_year_data['Order_Date'].dt.year == 2019]\n",
    "data_2019.head()"
   ]
  },
  {
   "cell_type": "code",
   "execution_count": 39,
   "metadata": {},
   "outputs": [],
   "source": [
    "# Generate column for sales\n",
    "data_2019['Sales'] = data_2019['Quantity_Ordered'] * data_2019['Price_Each']"
   ]
  },
  {
   "cell_type": "code",
   "execution_count": 40,
   "metadata": {},
   "outputs": [
    {
     "data": {
      "text/html": [
       "<div>\n",
       "<style scoped>\n",
       "    .dataframe tbody tr th:only-of-type {\n",
       "        vertical-align: middle;\n",
       "    }\n",
       "\n",
       "    .dataframe tbody tr th {\n",
       "        vertical-align: top;\n",
       "    }\n",
       "\n",
       "    .dataframe thead th {\n",
       "        text-align: right;\n",
       "    }\n",
       "</style>\n",
       "<table border=\"1\" class=\"dataframe\">\n",
       "  <thead>\n",
       "    <tr style=\"text-align: right;\">\n",
       "      <th></th>\n",
       "      <th>Order_ID</th>\n",
       "      <th>Product</th>\n",
       "      <th>Quantity_Ordered</th>\n",
       "      <th>Price_Each</th>\n",
       "      <th>Order_Date</th>\n",
       "      <th>Purchase_Address</th>\n",
       "      <th>Sales</th>\n",
       "      <th>Street_Address</th>\n",
       "      <th>City</th>\n",
       "      <th>State/ZIP_Code</th>\n",
       "    </tr>\n",
       "  </thead>\n",
       "  <tbody>\n",
       "    <tr>\n",
       "      <th>0</th>\n",
       "      <td>141234</td>\n",
       "      <td>iPhone</td>\n",
       "      <td>1</td>\n",
       "      <td>700.00</td>\n",
       "      <td>2019-01-22 21:25:00</td>\n",
       "      <td>944 Walnut St, Boston, MA 02215</td>\n",
       "      <td>700.00</td>\n",
       "      <td>944 Walnut St</td>\n",
       "      <td>Boston</td>\n",
       "      <td>MA 02215</td>\n",
       "    </tr>\n",
       "    <tr>\n",
       "      <th>1</th>\n",
       "      <td>141235</td>\n",
       "      <td>Lightning Charging Cable</td>\n",
       "      <td>1</td>\n",
       "      <td>14.95</td>\n",
       "      <td>2019-01-28 14:15:00</td>\n",
       "      <td>185 Maple St, Portland, OR 97035</td>\n",
       "      <td>14.95</td>\n",
       "      <td>185 Maple St</td>\n",
       "      <td>Portland</td>\n",
       "      <td>OR 97035</td>\n",
       "    </tr>\n",
       "    <tr>\n",
       "      <th>2</th>\n",
       "      <td>141236</td>\n",
       "      <td>Wired Headphones</td>\n",
       "      <td>2</td>\n",
       "      <td>11.99</td>\n",
       "      <td>2019-01-17 13:33:00</td>\n",
       "      <td>538 Adams St, San Francisco, CA 94016</td>\n",
       "      <td>23.98</td>\n",
       "      <td>538 Adams St</td>\n",
       "      <td>San Francisco</td>\n",
       "      <td>CA 94016</td>\n",
       "    </tr>\n",
       "    <tr>\n",
       "      <th>3</th>\n",
       "      <td>141237</td>\n",
       "      <td>27in FHD Monitor</td>\n",
       "      <td>1</td>\n",
       "      <td>149.99</td>\n",
       "      <td>2019-01-05 20:33:00</td>\n",
       "      <td>738 10th St, Los Angeles, CA 90001</td>\n",
       "      <td>149.99</td>\n",
       "      <td>738 10th St</td>\n",
       "      <td>Los Angeles</td>\n",
       "      <td>CA 90001</td>\n",
       "    </tr>\n",
       "    <tr>\n",
       "      <th>4</th>\n",
       "      <td>141238</td>\n",
       "      <td>Wired Headphones</td>\n",
       "      <td>1</td>\n",
       "      <td>11.99</td>\n",
       "      <td>2019-01-25 11:59:00</td>\n",
       "      <td>387 10th St, Austin, TX 73301</td>\n",
       "      <td>11.99</td>\n",
       "      <td>387 10th St</td>\n",
       "      <td>Austin</td>\n",
       "      <td>TX 73301</td>\n",
       "    </tr>\n",
       "  </tbody>\n",
       "</table>\n",
       "</div>"
      ],
      "text/plain": [
       "   Order_ID                   Product  Quantity_Ordered  Price_Each  \\\n",
       "0    141234                    iPhone                 1      700.00   \n",
       "1    141235  Lightning Charging Cable                 1       14.95   \n",
       "2    141236          Wired Headphones                 2       11.99   \n",
       "3    141237          27in FHD Monitor                 1      149.99   \n",
       "4    141238          Wired Headphones                 1       11.99   \n",
       "\n",
       "           Order_Date                       Purchase_Address   Sales  \\\n",
       "0 2019-01-22 21:25:00        944 Walnut St, Boston, MA 02215  700.00   \n",
       "1 2019-01-28 14:15:00       185 Maple St, Portland, OR 97035   14.95   \n",
       "2 2019-01-17 13:33:00  538 Adams St, San Francisco, CA 94016   23.98   \n",
       "3 2019-01-05 20:33:00     738 10th St, Los Angeles, CA 90001  149.99   \n",
       "4 2019-01-25 11:59:00          387 10th St, Austin, TX 73301   11.99   \n",
       "\n",
       "  Street_Address            City State/ZIP_Code  \n",
       "0  944 Walnut St          Boston       MA 02215  \n",
       "1   185 Maple St        Portland       OR 97035  \n",
       "2   538 Adams St   San Francisco       CA 94016  \n",
       "3    738 10th St     Los Angeles       CA 90001  \n",
       "4    387 10th St          Austin       TX 73301  "
      ]
     },
     "execution_count": 40,
     "metadata": {},
     "output_type": "execute_result"
    }
   ],
   "source": [
    "# Split the value in the Purchase Address into Street Address, City, and State/ZIP Code\n",
    "data_2019[['Street_Address', 'City','State/ZIP_Code']] = data_2019['Purchase_Address'].astype('str').str.split(',', expand=True)\n",
    "data_2019.head()"
   ]
  },
  {
   "cell_type": "code",
   "execution_count": null,
   "metadata": {},
   "outputs": [],
   "source": []
  },
  {
   "cell_type": "code",
   "execution_count": 41,
   "metadata": {},
   "outputs": [],
   "source": [
    "# Split the State/ZIP_Code column into their respective individual columns\n",
    "data_2019[['State', 'ZIP_Code']] = data_2019['State/ZIP_Code'].astype('str').str.split(expand=True)"
   ]
  },
  {
   "cell_type": "code",
   "execution_count": 42,
   "metadata": {},
   "outputs": [
    {
     "data": {
      "text/html": [
       "<div>\n",
       "<style scoped>\n",
       "    .dataframe tbody tr th:only-of-type {\n",
       "        vertical-align: middle;\n",
       "    }\n",
       "\n",
       "    .dataframe tbody tr th {\n",
       "        vertical-align: top;\n",
       "    }\n",
       "\n",
       "    .dataframe thead th {\n",
       "        text-align: right;\n",
       "    }\n",
       "</style>\n",
       "<table border=\"1\" class=\"dataframe\">\n",
       "  <thead>\n",
       "    <tr style=\"text-align: right;\">\n",
       "      <th></th>\n",
       "      <th>Order_ID</th>\n",
       "      <th>Product</th>\n",
       "      <th>Quantity_Ordered</th>\n",
       "      <th>Price_Each</th>\n",
       "      <th>Order_Date</th>\n",
       "      <th>Sales</th>\n",
       "      <th>Street_Address</th>\n",
       "      <th>City</th>\n",
       "      <th>State</th>\n",
       "      <th>ZIP_Code</th>\n",
       "    </tr>\n",
       "  </thead>\n",
       "  <tbody>\n",
       "    <tr>\n",
       "      <th>0</th>\n",
       "      <td>141234</td>\n",
       "      <td>iPhone</td>\n",
       "      <td>1</td>\n",
       "      <td>700.00</td>\n",
       "      <td>2019-01-22 21:25:00</td>\n",
       "      <td>700.00</td>\n",
       "      <td>944 Walnut St</td>\n",
       "      <td>Boston</td>\n",
       "      <td>MA</td>\n",
       "      <td>02215</td>\n",
       "    </tr>\n",
       "    <tr>\n",
       "      <th>1</th>\n",
       "      <td>141235</td>\n",
       "      <td>Lightning Charging Cable</td>\n",
       "      <td>1</td>\n",
       "      <td>14.95</td>\n",
       "      <td>2019-01-28 14:15:00</td>\n",
       "      <td>14.95</td>\n",
       "      <td>185 Maple St</td>\n",
       "      <td>Portland</td>\n",
       "      <td>OR</td>\n",
       "      <td>97035</td>\n",
       "    </tr>\n",
       "    <tr>\n",
       "      <th>2</th>\n",
       "      <td>141236</td>\n",
       "      <td>Wired Headphones</td>\n",
       "      <td>2</td>\n",
       "      <td>11.99</td>\n",
       "      <td>2019-01-17 13:33:00</td>\n",
       "      <td>23.98</td>\n",
       "      <td>538 Adams St</td>\n",
       "      <td>San Francisco</td>\n",
       "      <td>CA</td>\n",
       "      <td>94016</td>\n",
       "    </tr>\n",
       "    <tr>\n",
       "      <th>3</th>\n",
       "      <td>141237</td>\n",
       "      <td>27in FHD Monitor</td>\n",
       "      <td>1</td>\n",
       "      <td>149.99</td>\n",
       "      <td>2019-01-05 20:33:00</td>\n",
       "      <td>149.99</td>\n",
       "      <td>738 10th St</td>\n",
       "      <td>Los Angeles</td>\n",
       "      <td>CA</td>\n",
       "      <td>90001</td>\n",
       "    </tr>\n",
       "    <tr>\n",
       "      <th>4</th>\n",
       "      <td>141238</td>\n",
       "      <td>Wired Headphones</td>\n",
       "      <td>1</td>\n",
       "      <td>11.99</td>\n",
       "      <td>2019-01-25 11:59:00</td>\n",
       "      <td>11.99</td>\n",
       "      <td>387 10th St</td>\n",
       "      <td>Austin</td>\n",
       "      <td>TX</td>\n",
       "      <td>73301</td>\n",
       "    </tr>\n",
       "  </tbody>\n",
       "</table>\n",
       "</div>"
      ],
      "text/plain": [
       "   Order_ID                   Product  Quantity_Ordered  Price_Each  \\\n",
       "0    141234                    iPhone                 1      700.00   \n",
       "1    141235  Lightning Charging Cable                 1       14.95   \n",
       "2    141236          Wired Headphones                 2       11.99   \n",
       "3    141237          27in FHD Monitor                 1      149.99   \n",
       "4    141238          Wired Headphones                 1       11.99   \n",
       "\n",
       "           Order_Date   Sales Street_Address            City State ZIP_Code  \n",
       "0 2019-01-22 21:25:00  700.00  944 Walnut St          Boston    MA    02215  \n",
       "1 2019-01-28 14:15:00   14.95   185 Maple St        Portland    OR    97035  \n",
       "2 2019-01-17 13:33:00   23.98   538 Adams St   San Francisco    CA    94016  \n",
       "3 2019-01-05 20:33:00  149.99    738 10th St     Los Angeles    CA    90001  \n",
       "4 2019-01-25 11:59:00   11.99    387 10th St          Austin    TX    73301  "
      ]
     },
     "execution_count": 42,
     "metadata": {},
     "output_type": "execute_result"
    }
   ],
   "source": [
    "# Drop Purchase Address and State/ZIP_Code columns\n",
    "data_2019.drop(['Purchase_Address', 'State/ZIP_Code'],axis=1, inplace=True)\n",
    "\n",
    "data_2019.head()"
   ]
  },
  {
   "cell_type": "code",
   "execution_count": 43,
   "metadata": {},
   "outputs": [],
   "source": [
    "# Extract Month and Day from the Order Date column\n",
    "data_2019['Month'] = data_2019['Order_Date'].dt.month_name()\n",
    "\n",
    "data_2019['Day'] = data_2019['Order_Date'].dt.day_name()"
   ]
  },
  {
   "cell_type": "code",
   "execution_count": 44,
   "metadata": {},
   "outputs": [],
   "source": [
    "# Group product into high-level and basic-level based on their prices\n",
    "\n",
    "group_list = [] # Create an empty list\n",
    "\n",
    "for value in data_2019['Price_Each'].values:   # Loop throught the values in the column\n",
    "    if value > 99.99:\n",
    "        group_list.append('High Level') # Assign High level if price is greater than 99.99\n",
    "    else:\n",
    "        group_list.append('Basic Level')    # Assign Basic level if price is less than 99.99\n",
    "\n",
    "data_2019['Product_Group'] = group_list # Add the list to the dataframe"
   ]
  },
  {
   "cell_type": "code",
   "execution_count": 45,
   "metadata": {},
   "outputs": [
    {
     "data": {
      "text/html": [
       "<div>\n",
       "<style scoped>\n",
       "    .dataframe tbody tr th:only-of-type {\n",
       "        vertical-align: middle;\n",
       "    }\n",
       "\n",
       "    .dataframe tbody tr th {\n",
       "        vertical-align: top;\n",
       "    }\n",
       "\n",
       "    .dataframe thead th {\n",
       "        text-align: right;\n",
       "    }\n",
       "</style>\n",
       "<table border=\"1\" class=\"dataframe\">\n",
       "  <thead>\n",
       "    <tr style=\"text-align: right;\">\n",
       "      <th></th>\n",
       "      <th>Order_ID</th>\n",
       "      <th>Product</th>\n",
       "      <th>Quantity_Ordered</th>\n",
       "      <th>Price_Each</th>\n",
       "      <th>Order_Date</th>\n",
       "      <th>Sales</th>\n",
       "      <th>Street_Address</th>\n",
       "      <th>City</th>\n",
       "      <th>State</th>\n",
       "      <th>ZIP_Code</th>\n",
       "      <th>Month</th>\n",
       "      <th>Day</th>\n",
       "      <th>Product_Group</th>\n",
       "    </tr>\n",
       "  </thead>\n",
       "  <tbody>\n",
       "    <tr>\n",
       "      <th>0</th>\n",
       "      <td>141234</td>\n",
       "      <td>iPhone</td>\n",
       "      <td>1</td>\n",
       "      <td>700.00</td>\n",
       "      <td>2019-01-22 21:25:00</td>\n",
       "      <td>700.00</td>\n",
       "      <td>944 Walnut St</td>\n",
       "      <td>Boston</td>\n",
       "      <td>MA</td>\n",
       "      <td>02215</td>\n",
       "      <td>January</td>\n",
       "      <td>Tuesday</td>\n",
       "      <td>High Level</td>\n",
       "    </tr>\n",
       "    <tr>\n",
       "      <th>1</th>\n",
       "      <td>141235</td>\n",
       "      <td>Lightning Charging Cable</td>\n",
       "      <td>1</td>\n",
       "      <td>14.95</td>\n",
       "      <td>2019-01-28 14:15:00</td>\n",
       "      <td>14.95</td>\n",
       "      <td>185 Maple St</td>\n",
       "      <td>Portland</td>\n",
       "      <td>OR</td>\n",
       "      <td>97035</td>\n",
       "      <td>January</td>\n",
       "      <td>Monday</td>\n",
       "      <td>Basic Level</td>\n",
       "    </tr>\n",
       "    <tr>\n",
       "      <th>2</th>\n",
       "      <td>141236</td>\n",
       "      <td>Wired Headphones</td>\n",
       "      <td>2</td>\n",
       "      <td>11.99</td>\n",
       "      <td>2019-01-17 13:33:00</td>\n",
       "      <td>23.98</td>\n",
       "      <td>538 Adams St</td>\n",
       "      <td>San Francisco</td>\n",
       "      <td>CA</td>\n",
       "      <td>94016</td>\n",
       "      <td>January</td>\n",
       "      <td>Thursday</td>\n",
       "      <td>Basic Level</td>\n",
       "    </tr>\n",
       "    <tr>\n",
       "      <th>3</th>\n",
       "      <td>141237</td>\n",
       "      <td>27in FHD Monitor</td>\n",
       "      <td>1</td>\n",
       "      <td>149.99</td>\n",
       "      <td>2019-01-05 20:33:00</td>\n",
       "      <td>149.99</td>\n",
       "      <td>738 10th St</td>\n",
       "      <td>Los Angeles</td>\n",
       "      <td>CA</td>\n",
       "      <td>90001</td>\n",
       "      <td>January</td>\n",
       "      <td>Saturday</td>\n",
       "      <td>High Level</td>\n",
       "    </tr>\n",
       "    <tr>\n",
       "      <th>4</th>\n",
       "      <td>141238</td>\n",
       "      <td>Wired Headphones</td>\n",
       "      <td>1</td>\n",
       "      <td>11.99</td>\n",
       "      <td>2019-01-25 11:59:00</td>\n",
       "      <td>11.99</td>\n",
       "      <td>387 10th St</td>\n",
       "      <td>Austin</td>\n",
       "      <td>TX</td>\n",
       "      <td>73301</td>\n",
       "      <td>January</td>\n",
       "      <td>Friday</td>\n",
       "      <td>Basic Level</td>\n",
       "    </tr>\n",
       "  </tbody>\n",
       "</table>\n",
       "</div>"
      ],
      "text/plain": [
       "   Order_ID                   Product  Quantity_Ordered  Price_Each  \\\n",
       "0    141234                    iPhone                 1      700.00   \n",
       "1    141235  Lightning Charging Cable                 1       14.95   \n",
       "2    141236          Wired Headphones                 2       11.99   \n",
       "3    141237          27in FHD Monitor                 1      149.99   \n",
       "4    141238          Wired Headphones                 1       11.99   \n",
       "\n",
       "           Order_Date   Sales Street_Address            City State ZIP_Code  \\\n",
       "0 2019-01-22 21:25:00  700.00  944 Walnut St          Boston    MA    02215   \n",
       "1 2019-01-28 14:15:00   14.95   185 Maple St        Portland    OR    97035   \n",
       "2 2019-01-17 13:33:00   23.98   538 Adams St   San Francisco    CA    94016   \n",
       "3 2019-01-05 20:33:00  149.99    738 10th St     Los Angeles    CA    90001   \n",
       "4 2019-01-25 11:59:00   11.99    387 10th St          Austin    TX    73301   \n",
       "\n",
       "     Month       Day Product_Group  \n",
       "0  January   Tuesday    High Level  \n",
       "1  January    Monday   Basic Level  \n",
       "2  January  Thursday   Basic Level  \n",
       "3  January  Saturday    High Level  \n",
       "4  January    Friday   Basic Level  "
      ]
     },
     "execution_count": 45,
     "metadata": {},
     "output_type": "execute_result"
    }
   ],
   "source": [
    "# Inspect dataframe\n",
    "data_2019.head()"
   ]
  },
  {
   "cell_type": "markdown",
   "metadata": {},
   "source": [
    "## 4. Exploratory Data Analysis (EDA)"
   ]
  },
  {
   "cell_type": "markdown",
   "metadata": {},
   "source": [
    "### 4.1. Summary statistics\n",
    "\n",
    "#### 4.1.1. Analysis for numerical columns"
   ]
  },
  {
   "cell_type": "code",
   "execution_count": 46,
   "metadata": {},
   "outputs": [
    {
     "data": {
      "text/html": [
       "<div>\n",
       "<style scoped>\n",
       "    .dataframe tbody tr th:only-of-type {\n",
       "        vertical-align: middle;\n",
       "    }\n",
       "\n",
       "    .dataframe tbody tr th {\n",
       "        vertical-align: top;\n",
       "    }\n",
       "\n",
       "    .dataframe thead th {\n",
       "        text-align: right;\n",
       "    }\n",
       "</style>\n",
       "<table border=\"1\" class=\"dataframe\">\n",
       "  <thead>\n",
       "    <tr style=\"text-align: right;\">\n",
       "      <th></th>\n",
       "      <th>count</th>\n",
       "      <th>mean</th>\n",
       "      <th>std</th>\n",
       "      <th>min</th>\n",
       "      <th>25%</th>\n",
       "      <th>50%</th>\n",
       "      <th>75%</th>\n",
       "      <th>max</th>\n",
       "    </tr>\n",
       "  </thead>\n",
       "  <tbody>\n",
       "    <tr>\n",
       "      <th>Order_ID</th>\n",
       "      <td>88478.0</td>\n",
       "      <td>185487.536540</td>\n",
       "      <td>29271.316178</td>\n",
       "      <td>141234.00</td>\n",
       "      <td>162462.25</td>\n",
       "      <td>183728.50</td>\n",
       "      <td>204923.75</td>\n",
       "      <td>319636.0</td>\n",
       "    </tr>\n",
       "    <tr>\n",
       "      <th>Quantity_Ordered</th>\n",
       "      <td>88478.0</td>\n",
       "      <td>1.125048</td>\n",
       "      <td>0.439837</td>\n",
       "      <td>1.00</td>\n",
       "      <td>1.00</td>\n",
       "      <td>1.00</td>\n",
       "      <td>1.00</td>\n",
       "      <td>9.0</td>\n",
       "    </tr>\n",
       "    <tr>\n",
       "      <th>Price_Each</th>\n",
       "      <td>88478.0</td>\n",
       "      <td>185.523855</td>\n",
       "      <td>333.119010</td>\n",
       "      <td>2.99</td>\n",
       "      <td>11.95</td>\n",
       "      <td>14.95</td>\n",
       "      <td>150.00</td>\n",
       "      <td>1700.0</td>\n",
       "    </tr>\n",
       "    <tr>\n",
       "      <th>Sales</th>\n",
       "      <td>88478.0</td>\n",
       "      <td>186.644234</td>\n",
       "      <td>333.581138</td>\n",
       "      <td>2.99</td>\n",
       "      <td>11.95</td>\n",
       "      <td>14.95</td>\n",
       "      <td>150.00</td>\n",
       "      <td>3400.0</td>\n",
       "    </tr>\n",
       "  </tbody>\n",
       "</table>\n",
       "</div>"
      ],
      "text/plain": [
       "                    count           mean           std        min        25%  \\\n",
       "Order_ID          88478.0  185487.536540  29271.316178  141234.00  162462.25   \n",
       "Quantity_Ordered  88478.0       1.125048      0.439837       1.00       1.00   \n",
       "Price_Each        88478.0     185.523855    333.119010       2.99      11.95   \n",
       "Sales             88478.0     186.644234    333.581138       2.99      11.95   \n",
       "\n",
       "                        50%        75%       max  \n",
       "Order_ID          183728.50  204923.75  319636.0  \n",
       "Quantity_Ordered       1.00       1.00       9.0  \n",
       "Price_Each            14.95     150.00    1700.0  \n",
       "Sales                 14.95     150.00    3400.0  "
      ]
     },
     "execution_count": 46,
     "metadata": {},
     "output_type": "execute_result"
    }
   ],
   "source": [
    "# Select only numerical columns\n",
    "numerical_columns = data_2019.select_dtypes(include=['number'])\n",
    "\n",
    "# Generate summary statistics for numerical columns \n",
    "numerical_columns.describe().T"
   ]
  },
  {
   "cell_type": "markdown",
   "metadata": {},
   "source": [
    "##### Insights from the summary statistics\n",
    "\n",
    "1. Order ID\n",
    "\n",
    "- The count of order IDs is 185,686, indicating the total number of transactions in the dataset.\n",
    "- The order IDs range from 141,234 to 319,670 as indicated by the Min and Max numbers.\n",
    "- There are no missing values for order IDs, as the count matches the total number of rows in the dataset.\n",
    "\n",
    "2. Quantity Ordered\n",
    "\n",
    "- On average, approximately 1.12 items are ordered per transaction as indicated by the mean.\n",
    "- The standard deviation of around 0.44 indicates that the quantity ordered varies moderately around the mean.\n",
    "- The minimum quantity ordered is 1, and the maximum is 9, with the majority of transactions having a quantity ordered of 1 as indicated by the median and quartiles.\n",
    "\n",
    "3. Price Each\n",
    "\n",
    "- The mean price of each item ordered is approximately $184.52, with a standard deviation of $332.84, indicating significant variability in item prices.\n",
    "- Item prices range from $2.99 to $1700.00.\n",
    "- Most items have prices between $11.95 and $150.00, as indicated by the quartiles."
   ]
  },
  {
   "cell_type": "markdown",
   "metadata": {},
   "source": [
    "#### 4.1.2. Analysis for categorical columns"
   ]
  },
  {
   "cell_type": "code",
   "execution_count": 47,
   "metadata": {},
   "outputs": [
    {
     "data": {
      "text/html": [
       "<div>\n",
       "<style scoped>\n",
       "    .dataframe tbody tr th:only-of-type {\n",
       "        vertical-align: middle;\n",
       "    }\n",
       "\n",
       "    .dataframe tbody tr th {\n",
       "        vertical-align: top;\n",
       "    }\n",
       "\n",
       "    .dataframe thead th {\n",
       "        text-align: right;\n",
       "    }\n",
       "</style>\n",
       "<table border=\"1\" class=\"dataframe\">\n",
       "  <thead>\n",
       "    <tr style=\"text-align: right;\">\n",
       "      <th></th>\n",
       "      <th>count</th>\n",
       "      <th>unique</th>\n",
       "      <th>top</th>\n",
       "      <th>freq</th>\n",
       "    </tr>\n",
       "  </thead>\n",
       "  <tbody>\n",
       "    <tr>\n",
       "      <th>Product</th>\n",
       "      <td>88478</td>\n",
       "      <td>19</td>\n",
       "      <td>USB-C Charging Cable</td>\n",
       "      <td>10332</td>\n",
       "    </tr>\n",
       "    <tr>\n",
       "      <th>Street_Address</th>\n",
       "      <td>88478</td>\n",
       "      <td>39840</td>\n",
       "      <td>961 Jefferson St</td>\n",
       "      <td>9</td>\n",
       "    </tr>\n",
       "    <tr>\n",
       "      <th>City</th>\n",
       "      <td>88478</td>\n",
       "      <td>9</td>\n",
       "      <td>San Francisco</td>\n",
       "      <td>21273</td>\n",
       "    </tr>\n",
       "    <tr>\n",
       "      <th>State</th>\n",
       "      <td>88478</td>\n",
       "      <td>8</td>\n",
       "      <td>CA</td>\n",
       "      <td>35455</td>\n",
       "    </tr>\n",
       "    <tr>\n",
       "      <th>ZIP_Code</th>\n",
       "      <td>88478</td>\n",
       "      <td>10</td>\n",
       "      <td>94016</td>\n",
       "      <td>21273</td>\n",
       "    </tr>\n",
       "    <tr>\n",
       "      <th>Month</th>\n",
       "      <td>88478</td>\n",
       "      <td>12</td>\n",
       "      <td>April</td>\n",
       "      <td>18257</td>\n",
       "    </tr>\n",
       "    <tr>\n",
       "      <th>Day</th>\n",
       "      <td>88478</td>\n",
       "      <td>7</td>\n",
       "      <td>Thursday</td>\n",
       "      <td>13433</td>\n",
       "    </tr>\n",
       "    <tr>\n",
       "      <th>Product_Group</th>\n",
       "      <td>88478</td>\n",
       "      <td>2</td>\n",
       "      <td>Basic Level</td>\n",
       "      <td>55532</td>\n",
       "    </tr>\n",
       "  </tbody>\n",
       "</table>\n",
       "</div>"
      ],
      "text/plain": [
       "                count unique                   top   freq\n",
       "Product         88478     19  USB-C Charging Cable  10332\n",
       "Street_Address  88478  39840      961 Jefferson St      9\n",
       "City            88478      9         San Francisco  21273\n",
       "State           88478      8                    CA  35455\n",
       "ZIP_Code        88478     10                 94016  21273\n",
       "Month           88478     12                 April  18257\n",
       "Day             88478      7              Thursday  13433\n",
       "Product_Group   88478      2           Basic Level  55532"
      ]
     },
     "execution_count": 47,
     "metadata": {},
     "output_type": "execute_result"
    }
   ],
   "source": [
    "# Check the descriptive statistics for the categorical columns\n",
    "data_2019.describe(include='object').T"
   ]
  },
  {
   "cell_type": "markdown",
   "metadata": {},
   "source": [
    "* From the descriptive statistics for the categorical columns given above, we get the count of values in the columns, the number of unique values, the most occuring values, and the frequency for the most occuring value."
   ]
  },
  {
   "cell_type": "markdown",
   "metadata": {},
   "source": [
    "### 4.2. Univariate Analysis"
   ]
  },
  {
   "cell_type": "code",
   "execution_count": 48,
   "metadata": {},
   "outputs": [
    {
     "data": {
      "text/plain": [
       "Text(0, 0.5, 'Total Daily Sales')"
      ]
     },
     "execution_count": 48,
     "metadata": {},
     "output_type": "execute_result"
    },
    {
     "data": {
      "image/png": "[encoded data removed]",
      "text/plain": [
       "<Figure size 1500x600 with 1 Axes>"
      ]
     },
     "metadata": {},
     "output_type": "display_data"
    }
   ],
   "source": [
    "# Check trend of sales\n",
    "daily_sales = data_2019.groupby('Order_Date')['Quantity_Ordered'].sum()\n",
    "daily_sales.plot(kind='line',x='Order_Date', y='Quantity_Ordered', figsize=(15, 6), legend=False, title='Sales Trend for 2019')\n",
    "plt.ylabel('Total Daily Sales')"
   ]
  },
  {
   "cell_type": "code",
   "execution_count": 49,
   "metadata": {},
   "outputs": [
    {
     "data": {
      "image/png": "[encoded data removed]",
      "text/plain": [
       "<Figure size 1200x1000 with 1 Axes>"
      ]
     },
     "metadata": {},
     "output_type": "display_data"
    }
   ],
   "source": [
    "# Filter product sales for the days\n",
    "product_sales = data_2019.groupby('Product')['Sales'].sum().sort_values(ascending=True).reset_index()\n",
    "\n",
    "# Plot the total sales for the products\n",
    "ax = product_sales.plot(kind='barh', x='Product', figsize=(12, 10), title='Total Revenue from Products', legend=False)\n",
    "plt.ticklabel_format(axis='x', style='plain')\n"
   ]
  },
  {
   "cell_type": "code",
   "execution_count": 50,
   "metadata": {},
   "outputs": [
    {
     "data": {
      "image/png": "[encoded data removed]",
      "text/plain": [
       "<Figure size 1300x600 with 1 Axes>"
      ]
     },
     "metadata": {},
     "output_type": "display_data"
    }
   ],
   "source": [
    "# Sales by month\n",
    "monthly_total_sales = data_2019.groupby('Month')['Sales'].sum().sort_values(ascending=True)\n",
    "\n",
    "monthly_total_sales.plot(kind='barh',figsize=(13, 6), title='Monthly Revenue Distribution for 2019')\n",
    "plt.ticklabel_format(axis='x', style='plain')\n"
   ]
  },
  {
   "cell_type": "code",
   "execution_count": 51,
   "metadata": {},
   "outputs": [
    {
     "data": {
      "image/png": "[encoded data removed]",
      "text/plain": [
       "<Figure size 1300x600 with 1 Axes>"
      ]
     },
     "metadata": {},
     "output_type": "display_data"
    }
   ],
   "source": [
    "# Sales by week day\n",
    "monthly_total_sales = data_2019.groupby('Day')['Sales'].sum().sort_values(ascending=True)\n",
    "\n",
    "monthly_total_sales.plot(kind='barh',figsize=(13, 6), title='Daily Revenue Distribution for 2019')\n",
    "plt.ticklabel_format(axis='x', style='plain')"
   ]
  },
  {
   "cell_type": "markdown",
   "metadata": {},
   "source": [
    "### 4.3. Bivariate Analysis"
   ]
  },
  {
   "cell_type": "code",
   "execution_count": 52,
   "metadata": {},
   "outputs": [],
   "source": [
    "# Numeric-Numeric Relationship: Correlation Matrix\n",
    "numeric_vars = ['Quantity_Ordered', 'Price_Each']\n",
    "numeric_corr = full_year_data[numeric_vars].corr()\n"
   ]
  },
  {
   "cell_type": "code",
   "execution_count": 53,
   "metadata": {},
   "outputs": [
    {
     "data": {
      "image/png": "[encoded data removed]",
      "text/plain": [
       "<Figure size 800x600 with 2 Axes>"
      ]
     },
     "metadata": {},
     "output_type": "display_data"
    }
   ],
   "source": [
    "\n",
    "# Visualize correlation matrix using a heatmap\n",
    "plt.figure(figsize=(8, 6))\n",
    "sns.heatmap(numeric_corr, annot=True, cmap='coolwarm', fmt=\".2f\", linewidths=0.5)\n",
    "plt.title('Correlation Matrix (Numeric Variables)')\n",
    "plt.show()"
   ]
  },
  {
   "cell_type": "markdown",
   "metadata": {},
   "source": [
    "### 4.3. Univariate Analysis"
   ]
  },
  {
   "cell_type": "code",
   "execution_count": 54,
   "metadata": {},
   "outputs": [
    {
     "data": {
      "text/plain": [
       "<seaborn.axisgrid.PairGrid at 0x20f0a0d7a10>"
      ]
     },
     "execution_count": 54,
     "metadata": {},
     "output_type": "execute_result"
    },
    {
     "data": {
      "image/png": "[encoded data removed]",
      "text/plain": [
       "<Figure size 1000x1000 with 20 Axes>"
      ]
     },
     "metadata": {},
     "output_type": "display_data"
    }
   ],
   "source": [
    "sns.pairplot(data_2019)"
   ]
  },
  {
   "cell_type": "markdown",
   "metadata": {},
   "source": [
    "## 5. Answering Analytical Questions\n",
    "\n",
    "### 5.1. How much money did we make in 2019?"
   ]
  },
  {
   "cell_type": "code",
   "execution_count": 55,
   "metadata": {},
   "outputs": [
    {
     "data": {
      "text/plain": [
       "'The total amount of money made in 2019 was $16,513,908.56'"
      ]
     },
     "execution_count": 55,
     "metadata": {},
     "output_type": "execute_result"
    }
   ],
   "source": [
    "f\"The total amount of money made in 2019 was ${format(data_2019['Sales'].sum(), ',.2f')}\""
   ]
  },
  {
   "cell_type": "markdown",
   "metadata": {},
   "source": [
    "\n",
    "### 5.2. Can we identify any seasonality in the  sales? \n"
   ]
  },
  {
   "cell_type": "markdown",
   "metadata": {},
   "source": [
    "To identify seasonality in sales, we'll analyze the sales data over time, specifically by month. We'll plot the total sales for each month over the entire duration of the dataset and look for recurring patterns or trends. \n",
    "\n",
    "1. Group the sales data by month.\n",
    "2. Calculate the total sales for each month.\n",
    "3. Plot the total sales for each month.\n"
   ]
  },
  {
   "cell_type": "code",
   "execution_count": 56,
   "metadata": {},
   "outputs": [],
   "source": [
    "# Extract month from 'Order_Date'\n",
    "full_year_data['Order_Month'] = full_year_data['Order_Date'].dt.month\n",
    "\n",
    "# Calculate total sales for each month\n",
    "monthly_sales = full_year_data.groupby('Order_Month')['Price_Each'].sum()\n"
   ]
  },
  {
   "cell_type": "code",
   "execution_count": 57,
   "metadata": {},
   "outputs": [
    {
     "data": {
      "image/png": "[encoded data removed]",
      "text/plain": [
       "<Figure size 1000x600 with 1 Axes>"
      ]
     },
     "metadata": {},
     "output_type": "display_data"
    }
   ],
   "source": [
    "# Plot the data\n",
    "plt.figure(figsize=(10, 6))\n",
    "monthly_sales.plot(kind='line', marker='o')\n",
    "plt.title('Total Sales by Month')\n",
    "plt.xlabel('Month')\n",
    "plt.ylabel('Total Sales ($)')\n",
    "plt.xticks(range(1, 13), ['Jan', 'Feb', 'Mar', 'Apr', 'May', 'Jun', 'Jul', 'Aug', 'Sep', 'Oct', 'Nov', 'Dec'])\n",
    "plt.grid(True)\n"
   ]
  },
  {
   "cell_type": "markdown",
   "metadata": {},
   "source": [
    "\n",
    "- Peak Months: We observe peaks in sales during certain months, December, October, and April. These months likely correspond to increased demand due to factors like holidays, promotions, or seasonal trends.\n",
    "- Trough Months: During the months of June, August, and September. These months may represent periods of lower consumer spending or quieter seasons for the business.\n",
    "- Opportunities for Improvement: By analyzing seasonality in sales, the business can identify opportunities to capitalize on peak months and mitigate challenges during slower periods. This could involve adjusting marketing strategies, offering targeted promotions, or optimizing inventory management.\n",
    "\n"
   ]
  },
  {
   "cell_type": "markdown",
   "metadata": {},
   "source": [
    "### 5.3  What are our best and worst-selling products? "
   ]
  },
  {
   "cell_type": "markdown",
   "metadata": {},
   "source": [
    "- To find the best and worst-selling products, we will calculate both the total quantity sold and the total revenue generated for each product. Then, we will identify the products with the highest and lowest total quantity and revenue."
   ]
  },
  {
   "cell_type": "code",
   "execution_count": 58,
   "metadata": {},
   "outputs": [],
   "source": [
    "# Calculate total quantity sold for each product\n",
    "total_quantity_sold = full_year_data.groupby('Product')['Quantity_Ordered'].sum().sort_values(ascending=False)\n",
    "\n",
    "# Calculate total revenue generated for each product\n",
    "total_revenue = full_year_data.groupby('Product')['Price_Each'].sum().sort_values(ascending=False)\n",
    "\n",
    "# Identify best-selling products (by quantity and revenue)\n",
    "best_selling_by_quantity = total_quantity_sold.head(5)\n",
    "best_selling_by_revenue = total_revenue.head(5)\n",
    "\n",
    "# Identify worst-selling products (by quantity and revenue)\n",
    "worst_selling_by_quantity = total_quantity_sold.tail(5)\n",
    "worst_selling_by_revenue = total_revenue.tail(5)\n"
   ]
  },
  {
   "cell_type": "code",
   "execution_count": 59,
   "metadata": {},
   "outputs": [
    {
     "name": "stdout",
     "output_type": "stream",
     "text": [
      "Best-selling products by quantity:\n",
      "Product\n",
      "AAA Batteries (4-pack)      30986\n",
      "AA Batteries (4-pack)       27615\n",
      "USB-C Charging Cable        23931\n",
      "Lightning Charging Cable    23169\n",
      "Wired Headphones            20524\n",
      "Name: Quantity_Ordered, dtype: int64\n",
      "\n",
      "Best-selling products by revenue:\n",
      "Product\n",
      "Macbook Pro Laptop        8.025700e+06\n",
      "iPhone                    4.788000e+06\n",
      "ThinkPad Laptop           4.125959e+06\n",
      "Google Phone              3.313200e+06\n",
      "27in 4K Gaming Monitor    2.427688e+06\n",
      "Name: Price_Each, dtype: float64\n",
      "\n",
      "Worst-selling products by quantity:\n",
      "Product\n",
      "ThinkPad Laptop       4128\n",
      "20in Monitor          4126\n",
      "Vareebadd Phone       2068\n",
      "LG Washing Machine     666\n",
      "LG Dryer               646\n",
      "Name: Quantity_Ordered, dtype: int64\n",
      "\n",
      "Worst-selling products by revenue:\n",
      "Product\n",
      "Lightning Charging Cable    323069.497765\n",
      "USB-C Charging Cable        261215.047725\n",
      "Wired Headphones            225999.507665\n",
      "AA Batteries (4-pack)        78942.719043\n",
      "AAA Batteries (4-pack)       61629.880107\n",
      "Name: Price_Each, dtype: float64\n"
     ]
    }
   ],
   "source": [
    "# Display the results\n",
    "print(\"Best-selling products by quantity:\")\n",
    "print(best_selling_by_quantity)\n",
    "print(\"\\nBest-selling products by revenue:\")\n",
    "print(best_selling_by_revenue)\n",
    "print(\"\\nWorst-selling products by quantity:\")\n",
    "print(worst_selling_by_quantity)\n",
    "print(\"\\nWorst-selling products by revenue:\")\n",
    "print(worst_selling_by_revenue)\n"
   ]
  },
  {
   "cell_type": "markdown",
   "metadata": {},
   "source": [
    "### 5.4 How do sales compare to previous months or weeks"
   ]
  },
  {
   "cell_type": "code",
   "execution_count": 60,
   "metadata": {},
   "outputs": [
    {
     "data": {
      "text/plain": [
       "Order_Month\n",
       "1          NaN\n",
       "2     0.207637\n",
       "3     0.275336\n",
       "4     0.206926\n",
       "5    -0.069242\n",
       "6    -0.182766\n",
       "7     0.027620\n",
       "8    -0.153640\n",
       "9    -0.065141\n",
       "10    0.783761\n",
       "11   -0.143994\n",
       "12    0.441790\n",
       "Name: Price_Each, dtype: float64"
      ]
     },
     "execution_count": 60,
     "metadata": {},
     "output_type": "execute_result"
    }
   ],
   "source": [
    "# Extract month from 'Order_Date'\n",
    "full_year_data['Order_Month'] = full_year_data['Order_Date'].dt.month\n",
    "\n",
    "# Calculate total sales for each month\n",
    "monthly_sales = full_year_data.groupby('Order_Month')['Price_Each'].sum()\n",
    "\n",
    "# Calculate month-over-month growth rate\n",
    "monthly_sales_growth = monthly_sales.pct_change()\n",
    "monthly_sales_growth \n"
   ]
  },
  {
   "cell_type": "code",
   "execution_count": 61,
   "metadata": {},
   "outputs": [
    {
     "data": {
      "image/png": "[encoded data removed]",
      "text/plain": [
       "<Figure size 1000x600 with 1 Axes>"
      ]
     },
     "metadata": {},
     "output_type": "display_data"
    }
   ],
   "source": [
    "# Plot the month-over-month growth rate\n",
    "plt.figure(figsize=(10, 6))\n",
    "monthly_sales_growth.plot(kind='bar', color='skyblue')\n",
    "plt.title('Month-over-Month Sales Growth Rate')\n",
    "plt.xlabel('Month')\n",
    "plt.ylabel('Growth Rate')\n",
    "plt.xticks(rotation=0)\n",
    "plt.axhline(y=0, color='gray', linestyle='--', linewidth=0.5)  \n",
    "plt.grid(axis='y', linestyle='--', alpha=0.7)\n"
   ]
  },
  {
   "cell_type": "markdown",
   "metadata": {},
   "source": [
    "1. January to February: There is a positive growth rate of approximately 20.8%, indicating an increase in sales from January to February.\n",
    "\n",
    "2. February to March: Another positive growth rate of about 27.5%, indicating further growth in sales from February to March.\n",
    "\n",
    "3. March to April: Sales continue to grow with a positive growth rate of around 20.7% from March to April.\n",
    "\n",
    "4. April to May: However, there is a slight decrease in sales from April to May, indicated by a negative growth rate of approximately -6.9%.\n",
    "\n",
    "5. May to June: Sales decline further with a negative growth rate of about -18.3% from May to June.\n",
    "\n",
    "6. June to July: The decline slows down with a small positive growth rate of around 2.8% from June to July.\n",
    "\n",
    "7. July to August: Sales decrease again, indicated by a negative growth rate of approximately -15.4% from July to August.\n",
    "\n",
    "8. August to September: The decline lessens slightly with a negative growth rate of about -6.5% from August to September.\n",
    "\n",
    "9. September to October: There is a significant increase in sales with a positive growth rate of approximately 78.4% from September to October.\n",
    "\n",
    "10. October to November: However, sales decline again with a negative growth rate of around -14.4% from October to November.\n",
    "\n",
    "11. November to December: Sales experience a substantial increase with a positive growth rate of about 44.2% from November to December, likely due to holiday shopping.\n",
    "\n",
    "- Overall, the month-over-month growth rates suggest that sales are increasing at a steady pace over the course of the year. This suggests that the business is making progress towards achieving its goals and objectives.\n"
   ]
  },
  {
   "cell_type": "markdown",
   "metadata": {},
   "source": [
    "### 5.5  Which cities are our products delivered to most?"
   ]
  },
  {
   "cell_type": "markdown",
   "metadata": {},
   "source": [
    "- we will analyze the delivery addresses from the dataset and count the frequency of each city.\n",
    "\n",
    "-  We can achieve this by extracting the city names from the 'Purchase_Address' column and then counting the occurrences of each city.\n"
   ]
  },
  {
   "cell_type": "code",
   "execution_count": 62,
   "metadata": {},
   "outputs": [
    {
     "data": {
      "text/plain": [
       "City\n",
       "San Francisco    44662\n",
       "Los Angeles      29564\n",
       "New York City    24847\n",
       "Boston           19901\n",
       "Atlanta          14863\n",
       "Name: count, dtype: int64"
      ]
     },
     "execution_count": 62,
     "metadata": {},
     "output_type": "execute_result"
    }
   ],
   "source": [
    "# Extract city from 'Purchase_Address' column\n",
    "full_year_data['City'] = full_year_data['Purchase_Address'].apply(lambda x: x.split(\",\")[1].strip())\n",
    "\n",
    "# Count the frequency of each city\n",
    "city_frequency = full_year_data['City'].value_counts()\n",
    "\n",
    "# Display the top 5 cities with the most product deliveries\n",
    "top_cities = city_frequency.head(5)\n",
    "top_cities\n"
   ]
  },
  {
   "cell_type": "code",
   "execution_count": 63,
   "metadata": {},
   "outputs": [
    {
     "data": {
      "image/png": "[encoded data removed]",
      "text/plain": [
       "<Figure size 1000x600 with 1 Axes>"
      ]
     },
     "metadata": {},
     "output_type": "display_data"
    }
   ],
   "source": [
    "\n",
    "# Plot the distribution of product deliveries across cities\n",
    "plt.figure(figsize=(10, 6))\n",
    "city_frequency.plot(kind='bar', color='skyblue')\n",
    "plt.title('Distribution of Product Deliveries Across Cities')\n",
    "plt.xlabel('City')\n",
    "plt.ylabel('Number of Deliveries')\n",
    "plt.xticks(rotation=45)\n",
    "plt.grid(axis='y', linestyle='--', alpha=0.7)\n",
    "plt.show()\n"
   ]
  },
  {
   "cell_type": "markdown",
   "metadata": {},
   "source": [
    "\n",
    "### 5.6 How do product categories compare in revenue generated and quantities  ordered?\n"
   ]
  },
  {
   "cell_type": "code",
   "execution_count": 64,
   "metadata": {},
   "outputs": [
    {
     "name": "stdout",
     "output_type": "stream",
     "text": [
      "Total Revenue by Product Category:\n",
      "Product_Category\n",
      "Electronics    1.988558e+07\n",
      "Other          1.437706e+07\n",
      "Name: Price_Each, dtype: float64\n",
      "\n",
      "Total Quantity Ordered by Product Category:\n",
      "Product_Category\n",
      "Electronics    193834\n",
      "Other           14978\n",
      "Name: Quantity_Ordered, dtype: int64\n"
     ]
    }
   ],
   "source": [
    "# Define product categories based on product names\n",
    "def categorize_product(product_name):\n",
    "    if 'iPhone' in product_name:\n",
    "        return 'Electronics'\n",
    "    elif 'Charging Cable' in product_name:\n",
    "        return 'Electronics'\n",
    "    elif 'Headphones' in product_name:\n",
    "        return 'Electronics'\n",
    "    elif 'Monitor' in product_name:\n",
    "        return 'Electronics'\n",
    "    elif 'Batteries' in product_name:\n",
    "        return 'Electronics'\n",
    "    elif 'Phone' in product_name:\n",
    "        return 'Electronics'\n",
    "    else:\n",
    "        return 'Other'\n",
    "\n",
    "# Apply categorization to create a new 'Product_Category' column\n",
    "full_year_data['Product_Category'] = full_year_data['Product'].apply(categorize_product)\n",
    "\n",
    "# Calculate total revenue and total quantity ordered for each category\n",
    "category_revenue = full_year_data.groupby('Product_Category')['Price_Each'].sum()\n",
    "category_quantity = full_year_data.groupby('Product_Category')['Quantity_Ordered'].sum()\n",
    "\n",
    "# Compare categories based on revenue\n",
    "print(\"Total Revenue by Product Category:\")\n",
    "print(category_revenue.sort_values(ascending=False))\n",
    "\n",
    "# Compare categories based on quantity ordered\n",
    "print(\"\\nTotal Quantity Ordered by Product Category:\")\n",
    "print(category_quantity.sort_values(ascending=False))\n"
   ]
  },
  {
   "cell_type": "code",
   "execution_count": 65,
   "metadata": {},
   "outputs": [
    {
     "data": {
      "image/png": "[encoded data removed]",
      "text/plain": [
       "<Figure size 1000x600 with 1 Axes>"
      ]
     },
     "metadata": {},
     "output_type": "display_data"
    },
    {
     "data": {
      "image/png": "[encoded data removed]",
      "text/plain": [
       "<Figure size 1000x600 with 1 Axes>"
      ]
     },
     "metadata": {},
     "output_type": "display_data"
    }
   ],
   "source": [
    "# Plotting total revenue by product category\n",
    "plt.figure(figsize=(10, 6))\n",
    "category_revenue.plot(kind='bar', color='skyblue')\n",
    "plt.title('Total Revenue by Product Category')\n",
    "plt.xlabel('Product Category')\n",
    "plt.ylabel('Total Revenue ($)')\n",
    "plt.xticks(rotation=0)\n",
    "plt.grid(axis='y', linestyle='--', alpha=0.7)\n",
    "plt.show()\n",
    "\n",
    "# Plotting total quantity ordered by product category\n",
    "plt.figure(figsize=(10, 6))\n",
    "category_quantity.plot(kind='bar', color='salmon')\n",
    "plt.title('Total Quantity Ordered by Product Category')\n",
    "plt.xlabel('Product Category')\n",
    "plt.ylabel('Total Quantity Ordered')\n",
    "plt.xticks(rotation=0)\n",
    "plt.grid(axis='y', linestyle='--', alpha=0.7)\n",
    "plt.show()\n",
    "\n"
   ]
  },
  {
   "cell_type": "markdown",
   "metadata": {},
   "source": [
    "- These findings indicate that the \"Electronics\" category generates higher revenue and has a significantly higher quantity ordered compared to the \"Other\" category. \n",
    "\n",
    "- This suggests that electronics products are the main drivers of sales revenue and volume in the dataset. \n"
   ]
  },
  {
   "cell_type": "markdown",
   "metadata": {},
   "source": [
    "### 5.7 You are required to show additional details from your findings in your data.\n"
   ]
  },
  {
   "cell_type": "markdown",
   "metadata": {},
   "source": [
    "1. Revenue Breakdown by Category\n",
    "    -  The bar plot showcasing total revenue by product category reveals that the \"Electronics\" category generates significantly higher revenue compared to the \"Other\" category. This suggests that electronics products are the primary revenue drivers for the business\n",
    "\n",
    "2. Quantity Ordered Comparison\n",
    "     - The bar plot illustrating total quantity ordered by product category indicates a similar trend, with the \"Electronics\" category having a substantially higher quantity ordered compared to the \"Other\" category. This implies that while the \"Other\" category may include diverse products, the bulk of sales volume comes from electronics items\n",
    "3. Diversification Considerations\n",
    "    -  While electronics products currently drive the majority of revenue and sales volume, diversifying the product offerings within the \"Other\" category could mitigate risks associated with over-reliance on a single product category. Exploring new product lines or expanding existing ones could broaden the customer base and increase overall resilience to market fluctuations.\n"
   ]
  },
  {
   "cell_type": "markdown",
   "metadata": {},
   "source": [
    "### 5.8 Hypothesis\n",
    "- Null Hypothesis (H0): The total revenue generated in 2019 is equal to or less than a predetermined benchmark or expectation.\n",
    "\n",
    "- Alternative Hypothesis (H1): The total revenue generated in 2019 is greater than the predetermined benchmark or expectation.\n"
   ]
  },
  {
   "cell_type": "code",
   "execution_count": 66,
   "metadata": {},
   "outputs": [
    {
     "name": "stdout",
     "output_type": "stream",
     "text": [
      "Total revenue generated in 2019: 34262642.37674216\n"
     ]
    }
   ],
   "source": [
    "# Calculate the total revenue generated in 2019\n",
    "total_revenue_2019 = full_year_data['Price_Each'].sum()\n",
    "\n",
    "# Print the total revenue generated in 2019\n",
    "print(\"Total revenue generated in 2019:\", total_revenue_2019)\n",
    "\n",
    "\n"
   ]
  },
  {
   "cell_type": "code",
   "execution_count": 74,
   "metadata": {},
   "outputs": [
    {
     "name": "stdout",
     "output_type": "stream",
     "text": [
      "Observed total revenue in 2019: 34262642.37674216\n",
      "Benchmark (Total revenue generated in 2019): 34262642.37674216\n",
      "\n",
      "Results of the hypothesis test:\n",
      "T-statistic: -44357552.34416283\n",
      "P-value: 0.0\n",
      "\n",
      "Reject the null hypothesis\n",
      "There is sufficient evidence to conclude that the total revenue generated in 2019 is greater than or different from the benchmark.\n"
     ]
    }
   ],
   "source": [
    "\n",
    "\n",
    "# Use the total revenue generated in 2019 as the benchmark\n",
    "benchmark = total_revenue_2019\n",
    "\n",
    "# Perform one-tailed t-test\n",
    "t_statistic, p_value = stats.ttest_1samp(full_year_data['Price_Each'], benchmark)\n",
    "\n",
    "# Define the significance level (alpha)\n",
    "alpha = 0.05\n",
    "\n",
    "# Print the observed revenue and benchmark\n",
    "print(\"Observed total revenue in 2019:\", total_revenue_2019)\n",
    "print(\"Benchmark (Total revenue generated in 2019):\", benchmark)\n",
    "\n",
    "# Print the results of the hypothesis test\n",
    "print(\"\\nResults of the hypothesis test:\")\n",
    "print(\"T-statistic:\", t_statistic)\n",
    "print(\"P-value:\", p_value)\n",
    "\n",
    "# Check if the p-value is less than alpha indicating statistical significance\n",
    "if p_value < alpha:\n",
    "    print(\"\\nReject the null hypothesis\")\n",
    "    print(\"There is sufficient evidence to conclude that the total revenue generated in 2019 is greater than or different from the benchmark.\")\n",
    "else:\n",
    "    print(\"\\nFail to reject the null hypothesis\")\n",
    "    print(\"There is not sufficient evidence to conclude that the total revenue generated in 2019 is greater than or different from the benchmark.\")\n"
   ]
  },
  {
   "cell_type": "markdown",
   "metadata": {},
   "source": [
    "- The observed total revenue in 2019 matches the benchmark exactly, suggesting that the business achieved its expected revenue target for the year.\n",
    "\n",
    "- The extremely low p-value (close to zero) indicates a highly significant difference between the observed revenue and the benchmark. This suggests that the observed revenue is not simply due to random variation but is indeed significantly different from the benchmark.\n",
    "\n",
    "- Therefore, we can reject the null hypothesis and conclude that the total revenue generated in 2019 is greater than or different from the benchmark.\n",
    "\n",
    "- This finding suggests that the business has achieved its revenue target for the year and is on track to meet or exceed its goals.\n",
    "\n",
    "- The results of the hypothesis test provide evidence that the business is making progress towards achieving its goals and objectives.\n",
    "\n"
   ]
  },
  {
   "cell_type": "markdown",
   "metadata": {},
   "source": [
    "## 6. Deployment"
   ]
  },
  {
   "cell_type": "code",
   "execution_count": null,
   "metadata": {},
   "outputs": [],
   "source": [
    "# Save Complete CSV file for Power BI deployment\n",
    "data_2019.to_csv('../data/cleaned_dataset.csv', index='ignore')"
   ]
  }
 ],
 "metadata": {
  "kernelspec": {
   "display_name": "Python 3",
   "language": "python",
   "name": "python3"
  },
  "language_info": {
   "codemirror_mode": {
    "name": "ipython",
    "version": 3
   },
   "file_extension": ".py",
   "mimetype": "text/x-python",
   "name": "python",
   "nbconvert_exporter": "python",
   "pygments_lexer": "ipython3",
   "version": "3.12.0"
  }
 },
 "nbformat": 4,
 "nbformat_minor": 2
}
