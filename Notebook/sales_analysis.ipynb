{
 "cells": [
  {
   "cell_type": "markdown",
   "metadata": {},
   "source": [
    "## Project Title: \n",
    "\n",
    "### Leveraging Data Insights for Sales Optimization in 2019"
   ]
  },
  {
   "cell_type": "markdown",
   "metadata": {},
   "source": [
    "## 1. Business Understanding\n"
   ]
  },
  {
   "cell_type": "markdown",
   "metadata": {},
   "source": [
    "### Project Description\n",
    "### 1. Introduction\n",
    "In this project, we aim to design and deliver an end-to-end business intelligence solution leveraging transactional data from 2019 to provide valuable insights for our client. The client has collected data throughout the year but hasn't utilized it effectively to drive sales and improve operational efficiency. Our goal is to analyze the data comprehensively and present actionable insights that will enable the client to identify opportunities for growth and optimization.\n",
    "\n",
    "### 1.1. Objectives\n",
    "The main objectives of this project are as follows:\n",
    "\n",
    "- Analyze the 2019 transactional data to determine the total revenue generated throughout the year.\n",
    "\n",
    "- Identify any seasonal patterns or trends in sales to understand the seasonality of the business.\n",
    "\n",
    "- Determine the best-selling and worst-selling products based on sales volume and revenue.\n",
    "\n",
    "- Compare sales performance across different months or weeks to identify trends and fluctuations.\n",
    "\n",
    "- Analyze the distribution of product deliveries across cities to identify key markets.\n",
    "\n",
    "- Compare product categories in terms of revenue generated and quantities ordered to understand their contribution to overall sales.\n",
    "\n",
    "### 1.2. Analytical  Questions\n",
    "1. How much money did we make this year? \n",
    "\n",
    "2. Can we identify any seasonality in the  sales? \n",
    "\n",
    "3. What are our best and worst-selling products? \n",
    "\n",
    "4. How do sales compare to previous months or weeks? \n",
    "\n",
    "5. Which cities are our products delivered to most? \n",
    "\n",
    "6. How do product categories compare in revenue generated and quantities  ordered?\n",
    "\n",
    "### 1.3. Hypothesis\n",
    "- Null Hypothesis (H0): The total revenue generated in 2019 is equal to or less than a predetermined benchmark or expectation.\n",
    "\n",
    "- Alternative Hypothesis (H1): The total revenue generated in 2019 is greater than the predetermined benchmark or expectation.\n",
    "\n",
    "### 1.4. Methodology\n",
    "To achieve these objectives, we will follow a systematic methodology that includes the following steps:\n",
    "\n",
    "1. Data Collection: Retrieve transactional data for the entire year of 2019 from both CSV files (January to June) and the remote database (July to December).\n",
    "\n",
    "2. Data Preprocessing: Clean and preprocess the data to handle missing values, outliers, and inconsistencies.\n",
    "\n",
    "3. Exploratory Data Analysis (EDA): Conduct exploratory data analysis to gain insights into the distribution, trends, and patterns within the data.\n",
    "\n",
    "4. Statistical Analysis: Perform statistical analysis to answer specific questions such as total revenue, seasonal trends, best-selling products, etc.\n",
    "\n",
    "6. Data Visualization: Visualize the findings using charts, graphs, and tables to facilitate understanding and interpretation.\n",
    "\n",
    "7. Interpretation and Insights: Provide actionable insights and recommendations based on the analysis to help the client make informed decisions.\n",
    "\n",
    "8. Report Generation: Prepare a comprehensive report summarizing the analysis, findings, and recommendations for the client's reference.\n",
    "\n",
    "\n",
    "By following this methodology, we aim to deliver a robust business intelligence solution that empowers our client to optimize sales strategies, identify growth opportunities, and enhance operational efficiency."
   ]
  },
  {
   "cell_type": "markdown",
   "metadata": {},
   "source": [
    "## 2.Data Understanding\n",
    "\n",
    "####  Features\n",
    "1. Order ID\t- This feature represents a unique identifier for each order.\n",
    "2. Product\t- This feature represents the name or type of product ordered.\n",
    "3. Quantity Ordered\t- This feature represents the quantity of each product ordered\n",
    "4. Price Each - This feature represents the price of each product.\n",
    "5. Order Date - This feature represents the date and time when the order was placed\n",
    "6. Purchase Address - This feature represents the address where the purchase was made\n",
    "\n",
    "\n",
    "#### Numerical features\n",
    "1. Quantity Ordered\n",
    "2.  Price Each\n",
    "\n",
    "#### Categorical features\n",
    "1.  Order ID\n",
    "2. Product\n",
    "3. Order Date\n",
    "4. Purchase Address\n",
    "\n",
    "Installing libraries and Packages\n",
    "\n",
    "\n",
    "In this section we will import all the packages/libraries that we will be using through this project"
   ]
  },
  {
   "cell_type": "markdown",
   "metadata": {},
   "source": [
    "### Importation\n"
   ]
  },
  {
   "cell_type": "code",
   "execution_count": 1,
   "metadata": {},
   "outputs": [],
   "source": [
    "# Data Handling\n",
    "import pandas as pd  # For data manipulation and analysis using DataFrames\n",
    "import numpy as np  # For numerical operations and arrays\n",
    "import pyodbc  # For handling connections to Microsoft SQL Server\n",
    "from dotenv import dotenv_values  # For loading environment variables, possibly including database credentials\n",
    "import os\n",
    "\n",
    "# Statistical Analysis\n",
    "import math  # Basic mathematical operations\n",
    "\n",
    "# Warning Handling\n",
    "import warnings  # To handle warnings in a way that they can be ignored\n",
    "warnings.filterwarnings('ignore')\n",
    "\n",
    "import matplotlib.pyplot as plt\n",
    "import seaborn as sns"
   ]
  },
  {
   "cell_type": "markdown",
   "metadata": {},
   "source": [
    "##  Load Dataset"
   ]
  },
  {
   "cell_type": "markdown",
   "metadata": {},
   "source": [
    "### 1. Load First Dataset (CSV Dataset)"
   ]
  },
  {
   "cell_type": "code",
   "execution_count": 2,
   "metadata": {},
   "outputs": [],
   "source": [
    "\n",
    "# Directory path where CSV files for January to June are located\n",
    "directory_path = r\"../Power BI Capstione Data - (Jan -May)\"\n",
    "\n",
    "# List of file names for each month\n",
    "file_names = [\n",
    "    \"Sales_January_2019.csv\",\n",
    "    \"Sales_February_2019.csv\",\n",
    "    \"Sales_March_2019.csv\",\n",
    "    \"Sales_April_2019.csv\",\n",
    "    \"Sales_May_2019.csv\",\n",
    "    \"Sales_June_2019.csv\"\n",
    "]\n",
    "\n",
    "# Generate file paths for each month\n",
    "file_paths = [os.path.join(directory_path, file_name) for file_name in file_names]\n",
    "\n",
    "# Load CSV files into separate DataFrames\n",
    "data_frames = [pd.read_csv(file) for file in file_paths]\n",
    "\n",
    "# Combine DataFrames into a single DataFrame\n",
    "first_half_data = pd.concat(data_frames, ignore_index=True)\n"
   ]
  },
  {
   "cell_type": "markdown",
   "metadata": {},
   "source": [
    "## Data Exploration for the First Half dataset "
   ]
  },
  {
   "cell_type": "code",
   "execution_count": 3,
   "metadata": {},
   "outputs": [
    {
     "data": {
      "text/html": [
       "<div>\n",
       "<style scoped>\n",
       "    .dataframe tbody tr th:only-of-type {\n",
       "        vertical-align: middle;\n",
       "    }\n",
       "\n",
       "    .dataframe tbody tr th {\n",
       "        vertical-align: top;\n",
       "    }\n",
       "\n",
       "    .dataframe thead th {\n",
       "        text-align: right;\n",
       "    }\n",
       "</style>\n",
       "<table border=\"1\" class=\"dataframe\">\n",
       "  <thead>\n",
       "    <tr style=\"text-align: right;\">\n",
       "      <th></th>\n",
       "      <th>Order ID</th>\n",
       "      <th>Product</th>\n",
       "      <th>Quantity Ordered</th>\n",
       "      <th>Price Each</th>\n",
       "      <th>Order Date</th>\n",
       "      <th>Purchase Address</th>\n",
       "    </tr>\n",
       "  </thead>\n",
       "  <tbody>\n",
       "    <tr>\n",
       "      <th>0</th>\n",
       "      <td>141234</td>\n",
       "      <td>iPhone</td>\n",
       "      <td>1</td>\n",
       "      <td>700</td>\n",
       "      <td>01/22/19 21:25</td>\n",
       "      <td>944 Walnut St, Boston, MA 02215</td>\n",
       "    </tr>\n",
       "    <tr>\n",
       "      <th>1</th>\n",
       "      <td>141235</td>\n",
       "      <td>Lightning Charging Cable</td>\n",
       "      <td>1</td>\n",
       "      <td>14.95</td>\n",
       "      <td>01/28/19 14:15</td>\n",
       "      <td>185 Maple St, Portland, OR 97035</td>\n",
       "    </tr>\n",
       "    <tr>\n",
       "      <th>2</th>\n",
       "      <td>141236</td>\n",
       "      <td>Wired Headphones</td>\n",
       "      <td>2</td>\n",
       "      <td>11.99</td>\n",
       "      <td>01/17/19 13:33</td>\n",
       "      <td>538 Adams St, San Francisco, CA 94016</td>\n",
       "    </tr>\n",
       "    <tr>\n",
       "      <th>3</th>\n",
       "      <td>141237</td>\n",
       "      <td>27in FHD Monitor</td>\n",
       "      <td>1</td>\n",
       "      <td>149.99</td>\n",
       "      <td>01/05/19 20:33</td>\n",
       "      <td>738 10th St, Los Angeles, CA 90001</td>\n",
       "    </tr>\n",
       "    <tr>\n",
       "      <th>4</th>\n",
       "      <td>141238</td>\n",
       "      <td>Wired Headphones</td>\n",
       "      <td>1</td>\n",
       "      <td>11.99</td>\n",
       "      <td>01/25/19 11:59</td>\n",
       "      <td>387 10th St, Austin, TX 73301</td>\n",
       "    </tr>\n",
       "    <tr>\n",
       "      <th>...</th>\n",
       "      <td>...</td>\n",
       "      <td>...</td>\n",
       "      <td>...</td>\n",
       "      <td>...</td>\n",
       "      <td>...</td>\n",
       "      <td>...</td>\n",
       "    </tr>\n",
       "    <tr>\n",
       "      <th>85620</th>\n",
       "      <td>222905</td>\n",
       "      <td>AAA Batteries (4-pack)</td>\n",
       "      <td>1</td>\n",
       "      <td>2.99</td>\n",
       "      <td>06/07/19 19:02</td>\n",
       "      <td>795 Pine St, Boston, MA 02215</td>\n",
       "    </tr>\n",
       "    <tr>\n",
       "      <th>85621</th>\n",
       "      <td>222906</td>\n",
       "      <td>27in FHD Monitor</td>\n",
       "      <td>1</td>\n",
       "      <td>149.99</td>\n",
       "      <td>06/01/19 19:29</td>\n",
       "      <td>495 North St, New York City, NY 10001</td>\n",
       "    </tr>\n",
       "    <tr>\n",
       "      <th>85622</th>\n",
       "      <td>222907</td>\n",
       "      <td>USB-C Charging Cable</td>\n",
       "      <td>1</td>\n",
       "      <td>11.95</td>\n",
       "      <td>06/22/19 18:57</td>\n",
       "      <td>319 Ridge St, San Francisco, CA 94016</td>\n",
       "    </tr>\n",
       "    <tr>\n",
       "      <th>85623</th>\n",
       "      <td>222908</td>\n",
       "      <td>USB-C Charging Cable</td>\n",
       "      <td>1</td>\n",
       "      <td>11.95</td>\n",
       "      <td>06/26/19 18:35</td>\n",
       "      <td>916 Main St, San Francisco, CA 94016</td>\n",
       "    </tr>\n",
       "    <tr>\n",
       "      <th>85624</th>\n",
       "      <td>222909</td>\n",
       "      <td>AAA Batteries (4-pack)</td>\n",
       "      <td>1</td>\n",
       "      <td>2.99</td>\n",
       "      <td>06/25/19 14:33</td>\n",
       "      <td>209 11th St, Atlanta, GA 30301</td>\n",
       "    </tr>\n",
       "  </tbody>\n",
       "</table>\n",
       "<p>85625 rows × 6 columns</p>\n",
       "</div>"
      ],
      "text/plain": [
       "      Order ID                   Product Quantity Ordered Price Each  \\\n",
       "0       141234                    iPhone                1        700   \n",
       "1       141235  Lightning Charging Cable                1      14.95   \n",
       "2       141236          Wired Headphones                2      11.99   \n",
       "3       141237          27in FHD Monitor                1     149.99   \n",
       "4       141238          Wired Headphones                1      11.99   \n",
       "...        ...                       ...              ...        ...   \n",
       "85620   222905    AAA Batteries (4-pack)                1       2.99   \n",
       "85621   222906          27in FHD Monitor                1     149.99   \n",
       "85622   222907      USB-C Charging Cable                1      11.95   \n",
       "85623   222908      USB-C Charging Cable                1      11.95   \n",
       "85624   222909    AAA Batteries (4-pack)                1       2.99   \n",
       "\n",
       "           Order Date                       Purchase Address  \n",
       "0      01/22/19 21:25        944 Walnut St, Boston, MA 02215  \n",
       "1      01/28/19 14:15       185 Maple St, Portland, OR 97035  \n",
       "2      01/17/19 13:33  538 Adams St, San Francisco, CA 94016  \n",
       "3      01/05/19 20:33     738 10th St, Los Angeles, CA 90001  \n",
       "4      01/25/19 11:59          387 10th St, Austin, TX 73301  \n",
       "...               ...                                    ...  \n",
       "85620  06/07/19 19:02          795 Pine St, Boston, MA 02215  \n",
       "85621  06/01/19 19:29  495 North St, New York City, NY 10001  \n",
       "85622  06/22/19 18:57  319 Ridge St, San Francisco, CA 94016  \n",
       "85623  06/26/19 18:35   916 Main St, San Francisco, CA 94016  \n",
       "85624  06/25/19 14:33         209 11th St, Atlanta, GA 30301  \n",
       "\n",
       "[85625 rows x 6 columns]"
      ]
     },
     "execution_count": 3,
     "metadata": {},
     "output_type": "execute_result"
    }
   ],
   "source": [
    "# Displaying the second half of the dataframe\n",
    "first_half_data"
   ]
  },
  {
   "cell_type": "code",
   "execution_count": 4,
   "metadata": {},
   "outputs": [
    {
     "name": "stdout",
     "output_type": "stream",
     "text": [
      "<class 'pandas.core.frame.DataFrame'>\n",
      "RangeIndex: 85625 entries, 0 to 85624\n",
      "Data columns (total 6 columns):\n",
      " #   Column            Non-Null Count  Dtype \n",
      "---  ------            --------------  ----- \n",
      " 0   Order ID          85380 non-null  object\n",
      " 1   Product           85380 non-null  object\n",
      " 2   Quantity Ordered  85380 non-null  object\n",
      " 3   Price Each        85380 non-null  object\n",
      " 4   Order Date        85380 non-null  object\n",
      " 5   Purchase Address  85380 non-null  object\n",
      "dtypes: object(6)\n",
      "memory usage: 3.9+ MB\n"
     ]
    }
   ],
   "source": [
    "# Display basic information about the first dataset\n",
    "first_half_data.info()"
   ]
  },
  {
   "cell_type": "code",
   "execution_count": 5,
   "metadata": {},
   "outputs": [
    {
     "data": {
      "text/plain": [
       "Order ID            245\n",
       "Product             245\n",
       "Quantity Ordered    245\n",
       "Price Each          245\n",
       "Order Date          245\n",
       "Purchase Address    245\n",
       "dtype: int64"
      ]
     },
     "execution_count": 5,
     "metadata": {},
     "output_type": "execute_result"
    }
   ],
   "source": [
    "# Checking missing values for First dataset\n",
    "first_half_data.isnull().sum()"
   ]
  },
  {
   "cell_type": "code",
   "execution_count": 6,
   "metadata": {},
   "outputs": [
    {
     "data": {
      "text/plain": [
       "Order ID            object\n",
       "Product             object\n",
       "Quantity Ordered    object\n",
       "Price Each          object\n",
       "Order Date          object\n",
       "Purchase Address    object\n",
       "dtype: object"
      ]
     },
     "execution_count": 6,
     "metadata": {},
     "output_type": "execute_result"
    }
   ],
   "source": [
    "# Checking datatype of First dataset\n",
    "first_half_data.dtypes"
   ]
  },
  {
   "cell_type": "markdown",
   "metadata": {},
   "source": [
    "- The first six months all the columns are are in the object data types\n",
    "- Quantity Ordered and Price Each column they are stored as an object, which is unexpected as they are representing a numerical quantity. Instead it should typically be stored as an integer or float data type.\n",
    "- Order Date feature is also stored as an object, which is unexpected for a date and time feature. It should be converted to a datetime data type for easier manipulation and analysis."
   ]
  },
  {
   "cell_type": "code",
   "execution_count": 7,
   "metadata": {},
   "outputs": [
    {
     "data": {
      "text/plain": [
       "511"
      ]
     },
     "execution_count": 7,
     "metadata": {},
     "output_type": "execute_result"
    }
   ],
   "source": [
    "# Check for duplicated rows\n",
    "first_half_data.duplicated().sum()"
   ]
  },
  {
   "cell_type": "markdown",
   "metadata": {},
   "source": [
    "### 2. Load Second Dataset (from remote SQL database)"
   ]
  },
  {
   "cell_type": "code",
   "execution_count": 8,
   "metadata": {},
   "outputs": [],
   "source": [
    "# # Load environment variables from .env file into a dictionary\n",
    "# environment_variables = dotenv_values('.env')\n",
    "\n",
    "# # Get the values for the credentials set in the '.env' file\n",
    "# server = environment_variables.get(\"SERVER\")\n",
    "# database = environment_variables.get(\"DATABASE\")\n",
    "# username = environment_variables.get(\"UID\")\n",
    "# password = environment_variables.get(\"PWD\")\n",
    "\n",
    "# # Connection string\n",
    "# connection_string = f\"DRIVER={{SQL Server}};SERVER={server};DATABASE={database};UID={username};PWD={password}\"\n",
    "\n",
    "#  # Establish a connection\n",
    "# connection = pyodbc.connect(connection_string)"
   ]
  },
  {
   "cell_type": "code",
   "execution_count": 9,
   "metadata": {},
   "outputs": [],
   "source": [
    "# # Load environment variables from .env file into a dictionary\n",
    "# environment_variables = dotenv_values('.env')\n",
    "\n",
    "# # Get the values for the credentials you set in the '.env' file\n",
    "# server = environment_variables.get(\"SERVER\")\n",
    "# database = environment_variables.get(\"DATABASE\")\n",
    "# username = environment_variables.get(\"UID\")\n",
    "# password = environment_variables.get(\"PWD\")\n",
    "\n",
    "# # Connection string\n",
    "# connection_string = (\n",
    "#     f\"DRIVER={{ODBC Driver 17 for SQL Server}};\"\n",
    "#     f\"SERVER={server};\"\n",
    "#     f\"DATABASE={database};\"\n",
    "#     f\"UID={username};\"\n",
    "#     f\"PWD={password}\"\n",
    "# )\n",
    "#  # Establish a connection\n",
    "# connection = pyodbc.connect(connection_string)"
   ]
  },
  {
   "cell_type": "code",
   "execution_count": 10,
   "metadata": {},
   "outputs": [],
   "source": [
    "# Database credentials\n",
    "server_name = 'dap-projects-database.database.windows.net'\n",
    "database_name = 'dapDB'\n",
    "user = 'capstone'\n",
    "password = 'Z7x@8pM$2w'\n",
    "\n",
    "# Connection string\n",
    "conn_str = (\n",
    "    f'DRIVER={{ODBC Driver 17 for SQL Server}};'\n",
    "    f'SERVER={server_name};'\n",
    "    f'DATABASE={database_name};'\n",
    "    f'UID={user};'\n",
    "    f'PWD={password}'\n",
    ")\n",
    "\n",
    "# Establish connection\n",
    "conn = pyodbc.connect(conn_str)"
   ]
  },
  {
   "cell_type": "code",
   "execution_count": 11,
   "metadata": {},
   "outputs": [],
   "source": [
    "# Define SQL queries\n",
    "sql_queries = [\n",
    "    'SELECT * FROM dbo.Sales_August_2019',\n",
    "    'SELECT * FROM dbo.Sales_July_2019',\n",
    "    'SELECT * FROM dbo.Sales_September_2019',\n",
    "    'SELECT * FROM dbo.Sales_October_2019',\n",
    "    'SELECT * FROM dbo.Sales_November_2019',\n",
    "    'SELECT * FROM dbo.Sales_December_2019'\n",
    "]\n",
    "\n",
    "# Execute queries and fetch data into DataFrames\n",
    "data_frames = []\n",
    "for sql_query in sql_queries:\n",
    "    df = pd.read_sql(sql_query, conn)\n",
    "    data_frames.append(df)\n",
    "\n",
    "# Combine DataFrames into a single DataFrame\n",
    "second_half_data = pd.concat(data_frames, ignore_index=True)\n",
    "\n"
   ]
  },
  {
   "cell_type": "markdown",
   "metadata": {},
   "source": [
    "## Data Exploration for the second Half dataset "
   ]
  },
  {
   "cell_type": "code",
   "execution_count": 12,
   "metadata": {},
   "outputs": [
    {
     "data": {
      "text/html": [
       "<div>\n",
       "<style scoped>\n",
       "    .dataframe tbody tr th:only-of-type {\n",
       "        vertical-align: middle;\n",
       "    }\n",
       "\n",
       "    .dataframe tbody tr th {\n",
       "        vertical-align: top;\n",
       "    }\n",
       "\n",
       "    .dataframe thead th {\n",
       "        text-align: right;\n",
       "    }\n",
       "</style>\n",
       "<table border=\"1\" class=\"dataframe\">\n",
       "  <thead>\n",
       "    <tr style=\"text-align: right;\">\n",
       "      <th></th>\n",
       "      <th>Order_ID</th>\n",
       "      <th>Product</th>\n",
       "      <th>Quantity_Ordered</th>\n",
       "      <th>Price_Each</th>\n",
       "      <th>Order_Date</th>\n",
       "      <th>Purchase_Address</th>\n",
       "    </tr>\n",
       "  </thead>\n",
       "  <tbody>\n",
       "    <tr>\n",
       "      <th>0</th>\n",
       "      <td>236670.0</td>\n",
       "      <td>Wired Headphones</td>\n",
       "      <td>2.0</td>\n",
       "      <td>11.990000</td>\n",
       "      <td>2031-08-19 22:21:00</td>\n",
       "      <td>359 Spruce St, Seattle, WA 98101</td>\n",
       "    </tr>\n",
       "    <tr>\n",
       "      <th>1</th>\n",
       "      <td>236671.0</td>\n",
       "      <td>Bose SoundSport Headphones</td>\n",
       "      <td>1.0</td>\n",
       "      <td>99.989998</td>\n",
       "      <td>2015-08-19 15:11:00</td>\n",
       "      <td>492 Ridge St, Dallas, TX 75001</td>\n",
       "    </tr>\n",
       "    <tr>\n",
       "      <th>2</th>\n",
       "      <td>236672.0</td>\n",
       "      <td>iPhone</td>\n",
       "      <td>1.0</td>\n",
       "      <td>700.000000</td>\n",
       "      <td>2006-08-19 14:40:00</td>\n",
       "      <td>149 7th St, Portland, OR 97035</td>\n",
       "    </tr>\n",
       "    <tr>\n",
       "      <th>3</th>\n",
       "      <td>236673.0</td>\n",
       "      <td>AA Batteries (4-pack)</td>\n",
       "      <td>2.0</td>\n",
       "      <td>3.840000</td>\n",
       "      <td>2029-08-19 20:59:00</td>\n",
       "      <td>631 2nd St, Los Angeles, CA 90001</td>\n",
       "    </tr>\n",
       "    <tr>\n",
       "      <th>4</th>\n",
       "      <td>236674.0</td>\n",
       "      <td>AA Batteries (4-pack)</td>\n",
       "      <td>2.0</td>\n",
       "      <td>3.840000</td>\n",
       "      <td>2015-08-19 19:53:00</td>\n",
       "      <td>736 14th St, New York City, NY 10001</td>\n",
       "    </tr>\n",
       "    <tr>\n",
       "      <th>...</th>\n",
       "      <td>...</td>\n",
       "      <td>...</td>\n",
       "      <td>...</td>\n",
       "      <td>...</td>\n",
       "      <td>...</td>\n",
       "      <td>...</td>\n",
       "    </tr>\n",
       "    <tr>\n",
       "      <th>101220</th>\n",
       "      <td>319666.0</td>\n",
       "      <td>Lightning Charging Cable</td>\n",
       "      <td>1.0</td>\n",
       "      <td>14.950000</td>\n",
       "      <td>2011-12-19 20:58:00</td>\n",
       "      <td>14 Madison St, San Francisco, CA 94016</td>\n",
       "    </tr>\n",
       "    <tr>\n",
       "      <th>101221</th>\n",
       "      <td>319667.0</td>\n",
       "      <td>AA Batteries (4-pack)</td>\n",
       "      <td>2.0</td>\n",
       "      <td>3.840000</td>\n",
       "      <td>2001-12-19 12:01:00</td>\n",
       "      <td>549 Willow St, Los Angeles, CA 90001</td>\n",
       "    </tr>\n",
       "    <tr>\n",
       "      <th>101222</th>\n",
       "      <td>319668.0</td>\n",
       "      <td>Vareebadd Phone</td>\n",
       "      <td>1.0</td>\n",
       "      <td>400.000000</td>\n",
       "      <td>2009-12-19 06:43:00</td>\n",
       "      <td>273 Wilson St, Seattle, WA 98101</td>\n",
       "    </tr>\n",
       "    <tr>\n",
       "      <th>101223</th>\n",
       "      <td>319669.0</td>\n",
       "      <td>Wired Headphones</td>\n",
       "      <td>1.0</td>\n",
       "      <td>11.990000</td>\n",
       "      <td>2003-12-19 10:39:00</td>\n",
       "      <td>778 River St, Dallas, TX 75001</td>\n",
       "    </tr>\n",
       "    <tr>\n",
       "      <th>101224</th>\n",
       "      <td>319670.0</td>\n",
       "      <td>Bose SoundSport Headphones</td>\n",
       "      <td>1.0</td>\n",
       "      <td>99.989998</td>\n",
       "      <td>2021-12-19 21:45:00</td>\n",
       "      <td>747 Chestnut St, Los Angeles, CA 90001</td>\n",
       "    </tr>\n",
       "  </tbody>\n",
       "</table>\n",
       "<p>101225 rows × 6 columns</p>\n",
       "</div>"
      ],
      "text/plain": [
       "        Order_ID                     Product  Quantity_Ordered  Price_Each  \\\n",
       "0       236670.0            Wired Headphones               2.0   11.990000   \n",
       "1       236671.0  Bose SoundSport Headphones               1.0   99.989998   \n",
       "2       236672.0                      iPhone               1.0  700.000000   \n",
       "3       236673.0       AA Batteries (4-pack)               2.0    3.840000   \n",
       "4       236674.0       AA Batteries (4-pack)               2.0    3.840000   \n",
       "...          ...                         ...               ...         ...   \n",
       "101220  319666.0    Lightning Charging Cable               1.0   14.950000   \n",
       "101221  319667.0       AA Batteries (4-pack)               2.0    3.840000   \n",
       "101222  319668.0             Vareebadd Phone               1.0  400.000000   \n",
       "101223  319669.0            Wired Headphones               1.0   11.990000   \n",
       "101224  319670.0  Bose SoundSport Headphones               1.0   99.989998   \n",
       "\n",
       "                Order_Date                        Purchase_Address  \n",
       "0      2031-08-19 22:21:00        359 Spruce St, Seattle, WA 98101  \n",
       "1      2015-08-19 15:11:00          492 Ridge St, Dallas, TX 75001  \n",
       "2      2006-08-19 14:40:00          149 7th St, Portland, OR 97035  \n",
       "3      2029-08-19 20:59:00       631 2nd St, Los Angeles, CA 90001  \n",
       "4      2015-08-19 19:53:00    736 14th St, New York City, NY 10001  \n",
       "...                    ...                                     ...  \n",
       "101220 2011-12-19 20:58:00  14 Madison St, San Francisco, CA 94016  \n",
       "101221 2001-12-19 12:01:00    549 Willow St, Los Angeles, CA 90001  \n",
       "101222 2009-12-19 06:43:00        273 Wilson St, Seattle, WA 98101  \n",
       "101223 2003-12-19 10:39:00          778 River St, Dallas, TX 75001  \n",
       "101224 2021-12-19 21:45:00  747 Chestnut St, Los Angeles, CA 90001  \n",
       "\n",
       "[101225 rows x 6 columns]"
      ]
     },
     "execution_count": 12,
     "metadata": {},
     "output_type": "execute_result"
    }
   ],
   "source": [
    "# Displaying the second half of the dataframe\n",
    "second_half_data"
   ]
  },
  {
   "cell_type": "code",
   "execution_count": 13,
   "metadata": {},
   "outputs": [
    {
     "name": "stdout",
     "output_type": "stream",
     "text": [
      "<class 'pandas.core.frame.DataFrame'>\n",
      "RangeIndex: 101225 entries, 0 to 101224\n",
      "Data columns (total 6 columns):\n",
      " #   Column            Non-Null Count   Dtype         \n",
      "---  ------            --------------   -----         \n",
      " 0   Order_ID          100730 non-null  float64       \n",
      " 1   Product           100925 non-null  object        \n",
      " 2   Quantity_Ordered  100730 non-null  float64       \n",
      " 3   Price_Each        100730 non-null  float64       \n",
      " 4   Order_Date        100730 non-null  datetime64[ns]\n",
      " 5   Purchase_Address  100925 non-null  object        \n",
      "dtypes: datetime64[ns](1), float64(3), object(2)\n",
      "memory usage: 4.6+ MB\n"
     ]
    }
   ],
   "source": [
    "# Display basic information about the second dataset\n",
    "second_half_data.info()"
   ]
  },
  {
   "cell_type": "code",
   "execution_count": 14,
   "metadata": {},
   "outputs": [
    {
     "data": {
      "text/plain": [
       "Order_ID            495\n",
       "Product             300\n",
       "Quantity_Ordered    495\n",
       "Price_Each          495\n",
       "Order_Date          495\n",
       "Purchase_Address    300\n",
       "dtype: int64"
      ]
     },
     "execution_count": 14,
     "metadata": {},
     "output_type": "execute_result"
    }
   ],
   "source": [
    "# Checking missing values for Second dataset\n",
    "second_half_data.isnull().sum()"
   ]
  },
  {
   "cell_type": "code",
   "execution_count": 15,
   "metadata": {},
   "outputs": [
    {
     "data": {
      "text/plain": [
       "Order_ID                   float64\n",
       "Product                     object\n",
       "Quantity_Ordered           float64\n",
       "Price_Each                 float64\n",
       "Order_Date          datetime64[ns]\n",
       "Purchase_Address            object\n",
       "dtype: object"
      ]
     },
     "execution_count": 15,
     "metadata": {},
     "output_type": "execute_result"
    }
   ],
   "source": [
    "# Checking datatype of Second dataset\n",
    "second_half_data.dtypes"
   ]
  },
  {
   "cell_type": "markdown",
   "metadata": {},
   "source": [
    "- we have three float64, two objects and and one datetime datatype.\n",
    "- Order_ID is stored as a floating-point number instead of a string or integer. This might indicate some data quality issues or inconsistencies in the data."
   ]
  },
  {
   "cell_type": "code",
   "execution_count": 16,
   "metadata": {},
   "outputs": [
    {
     "data": {
      "text/plain": [
       "649"
      ]
     },
     "execution_count": 16,
     "metadata": {},
     "output_type": "execute_result"
    }
   ],
   "source": [
    "# Check for duplicated rows\n",
    "second_half_data.duplicated().sum()"
   ]
  },
  {
   "cell_type": "markdown",
   "metadata": {},
   "source": [
    "## Exploratory Data Analysis (EDA)"
   ]
  },
  {
   "cell_type": "code",
   "execution_count": 17,
   "metadata": {},
   "outputs": [
    {
     "data": {
      "text/html": [
       "<div>\n",
       "<style scoped>\n",
       "    .dataframe tbody tr th:only-of-type {\n",
       "        vertical-align: middle;\n",
       "    }\n",
       "\n",
       "    .dataframe tbody tr th {\n",
       "        vertical-align: top;\n",
       "    }\n",
       "\n",
       "    .dataframe thead th {\n",
       "        text-align: right;\n",
       "    }\n",
       "</style>\n",
       "<table border=\"1\" class=\"dataframe\">\n",
       "  <thead>\n",
       "    <tr style=\"text-align: right;\">\n",
       "      <th></th>\n",
       "      <th>Order ID</th>\n",
       "      <th>Product</th>\n",
       "      <th>Quantity Ordered</th>\n",
       "      <th>Price Each</th>\n",
       "      <th>Order Date</th>\n",
       "      <th>Purchase Address</th>\n",
       "    </tr>\n",
       "  </thead>\n",
       "  <tbody>\n",
       "    <tr>\n",
       "      <th>0</th>\n",
       "      <td>141234</td>\n",
       "      <td>iPhone</td>\n",
       "      <td>1</td>\n",
       "      <td>700</td>\n",
       "      <td>01/22/19 21:25</td>\n",
       "      <td>944 Walnut St, Boston, MA 02215</td>\n",
       "    </tr>\n",
       "    <tr>\n",
       "      <th>1</th>\n",
       "      <td>141235</td>\n",
       "      <td>Lightning Charging Cable</td>\n",
       "      <td>1</td>\n",
       "      <td>14.95</td>\n",
       "      <td>01/28/19 14:15</td>\n",
       "      <td>185 Maple St, Portland, OR 97035</td>\n",
       "    </tr>\n",
       "    <tr>\n",
       "      <th>2</th>\n",
       "      <td>141236</td>\n",
       "      <td>Wired Headphones</td>\n",
       "      <td>2</td>\n",
       "      <td>11.99</td>\n",
       "      <td>01/17/19 13:33</td>\n",
       "      <td>538 Adams St, San Francisco, CA 94016</td>\n",
       "    </tr>\n",
       "    <tr>\n",
       "      <th>3</th>\n",
       "      <td>141237</td>\n",
       "      <td>27in FHD Monitor</td>\n",
       "      <td>1</td>\n",
       "      <td>149.99</td>\n",
       "      <td>01/05/19 20:33</td>\n",
       "      <td>738 10th St, Los Angeles, CA 90001</td>\n",
       "    </tr>\n",
       "    <tr>\n",
       "      <th>4</th>\n",
       "      <td>141238</td>\n",
       "      <td>Wired Headphones</td>\n",
       "      <td>1</td>\n",
       "      <td>11.99</td>\n",
       "      <td>01/25/19 11:59</td>\n",
       "      <td>387 10th St, Austin, TX 73301</td>\n",
       "    </tr>\n",
       "    <tr>\n",
       "      <th>...</th>\n",
       "      <td>...</td>\n",
       "      <td>...</td>\n",
       "      <td>...</td>\n",
       "      <td>...</td>\n",
       "      <td>...</td>\n",
       "      <td>...</td>\n",
       "    </tr>\n",
       "    <tr>\n",
       "      <th>85620</th>\n",
       "      <td>222905</td>\n",
       "      <td>AAA Batteries (4-pack)</td>\n",
       "      <td>1</td>\n",
       "      <td>2.99</td>\n",
       "      <td>06/07/19 19:02</td>\n",
       "      <td>795 Pine St, Boston, MA 02215</td>\n",
       "    </tr>\n",
       "    <tr>\n",
       "      <th>85621</th>\n",
       "      <td>222906</td>\n",
       "      <td>27in FHD Monitor</td>\n",
       "      <td>1</td>\n",
       "      <td>149.99</td>\n",
       "      <td>06/01/19 19:29</td>\n",
       "      <td>495 North St, New York City, NY 10001</td>\n",
       "    </tr>\n",
       "    <tr>\n",
       "      <th>85622</th>\n",
       "      <td>222907</td>\n",
       "      <td>USB-C Charging Cable</td>\n",
       "      <td>1</td>\n",
       "      <td>11.95</td>\n",
       "      <td>06/22/19 18:57</td>\n",
       "      <td>319 Ridge St, San Francisco, CA 94016</td>\n",
       "    </tr>\n",
       "    <tr>\n",
       "      <th>85623</th>\n",
       "      <td>222908</td>\n",
       "      <td>USB-C Charging Cable</td>\n",
       "      <td>1</td>\n",
       "      <td>11.95</td>\n",
       "      <td>06/26/19 18:35</td>\n",
       "      <td>916 Main St, San Francisco, CA 94016</td>\n",
       "    </tr>\n",
       "    <tr>\n",
       "      <th>85624</th>\n",
       "      <td>222909</td>\n",
       "      <td>AAA Batteries (4-pack)</td>\n",
       "      <td>1</td>\n",
       "      <td>2.99</td>\n",
       "      <td>06/25/19 14:33</td>\n",
       "      <td>209 11th St, Atlanta, GA 30301</td>\n",
       "    </tr>\n",
       "  </tbody>\n",
       "</table>\n",
       "<p>85625 rows × 6 columns</p>\n",
       "</div>"
      ],
      "text/plain": [
       "      Order ID                   Product Quantity Ordered Price Each  \\\n",
       "0       141234                    iPhone                1        700   \n",
       "1       141235  Lightning Charging Cable                1      14.95   \n",
       "2       141236          Wired Headphones                2      11.99   \n",
       "3       141237          27in FHD Monitor                1     149.99   \n",
       "4       141238          Wired Headphones                1      11.99   \n",
       "...        ...                       ...              ...        ...   \n",
       "85620   222905    AAA Batteries (4-pack)                1       2.99   \n",
       "85621   222906          27in FHD Monitor                1     149.99   \n",
       "85622   222907      USB-C Charging Cable                1      11.95   \n",
       "85623   222908      USB-C Charging Cable                1      11.95   \n",
       "85624   222909    AAA Batteries (4-pack)                1       2.99   \n",
       "\n",
       "           Order Date                       Purchase Address  \n",
       "0      01/22/19 21:25        944 Walnut St, Boston, MA 02215  \n",
       "1      01/28/19 14:15       185 Maple St, Portland, OR 97035  \n",
       "2      01/17/19 13:33  538 Adams St, San Francisco, CA 94016  \n",
       "3      01/05/19 20:33     738 10th St, Los Angeles, CA 90001  \n",
       "4      01/25/19 11:59          387 10th St, Austin, TX 73301  \n",
       "...               ...                                    ...  \n",
       "85620  06/07/19 19:02          795 Pine St, Boston, MA 02215  \n",
       "85621  06/01/19 19:29  495 North St, New York City, NY 10001  \n",
       "85622  06/22/19 18:57  319 Ridge St, San Francisco, CA 94016  \n",
       "85623  06/26/19 18:35   916 Main St, San Francisco, CA 94016  \n",
       "85624  06/25/19 14:33         209 11th St, Atlanta, GA 30301  \n",
       "\n",
       "[85625 rows x 6 columns]"
      ]
     },
     "execution_count": 17,
     "metadata": {},
     "output_type": "execute_result"
    }
   ],
   "source": [
    "# Displaying the second half of the dataframe\n",
    "first_half_data"
   ]
  },
  {
   "cell_type": "code",
   "execution_count": 18,
   "metadata": {},
   "outputs": [
    {
     "data": {
      "text/html": [
       "<div>\n",
       "<style scoped>\n",
       "    .dataframe tbody tr th:only-of-type {\n",
       "        vertical-align: middle;\n",
       "    }\n",
       "\n",
       "    .dataframe tbody tr th {\n",
       "        vertical-align: top;\n",
       "    }\n",
       "\n",
       "    .dataframe thead th {\n",
       "        text-align: right;\n",
       "    }\n",
       "</style>\n",
       "<table border=\"1\" class=\"dataframe\">\n",
       "  <thead>\n",
       "    <tr style=\"text-align: right;\">\n",
       "      <th></th>\n",
       "      <th>Order_ID</th>\n",
       "      <th>Product</th>\n",
       "      <th>Quantity_Ordered</th>\n",
       "      <th>Price_Each</th>\n",
       "      <th>Order_Date</th>\n",
       "      <th>Purchase_Address</th>\n",
       "    </tr>\n",
       "  </thead>\n",
       "  <tbody>\n",
       "    <tr>\n",
       "      <th>0</th>\n",
       "      <td>236670.0</td>\n",
       "      <td>Wired Headphones</td>\n",
       "      <td>2.0</td>\n",
       "      <td>11.990000</td>\n",
       "      <td>2031-08-19 22:21:00</td>\n",
       "      <td>359 Spruce St, Seattle, WA 98101</td>\n",
       "    </tr>\n",
       "    <tr>\n",
       "      <th>1</th>\n",
       "      <td>236671.0</td>\n",
       "      <td>Bose SoundSport Headphones</td>\n",
       "      <td>1.0</td>\n",
       "      <td>99.989998</td>\n",
       "      <td>2015-08-19 15:11:00</td>\n",
       "      <td>492 Ridge St, Dallas, TX 75001</td>\n",
       "    </tr>\n",
       "    <tr>\n",
       "      <th>2</th>\n",
       "      <td>236672.0</td>\n",
       "      <td>iPhone</td>\n",
       "      <td>1.0</td>\n",
       "      <td>700.000000</td>\n",
       "      <td>2006-08-19 14:40:00</td>\n",
       "      <td>149 7th St, Portland, OR 97035</td>\n",
       "    </tr>\n",
       "    <tr>\n",
       "      <th>3</th>\n",
       "      <td>236673.0</td>\n",
       "      <td>AA Batteries (4-pack)</td>\n",
       "      <td>2.0</td>\n",
       "      <td>3.840000</td>\n",
       "      <td>2029-08-19 20:59:00</td>\n",
       "      <td>631 2nd St, Los Angeles, CA 90001</td>\n",
       "    </tr>\n",
       "    <tr>\n",
       "      <th>4</th>\n",
       "      <td>236674.0</td>\n",
       "      <td>AA Batteries (4-pack)</td>\n",
       "      <td>2.0</td>\n",
       "      <td>3.840000</td>\n",
       "      <td>2015-08-19 19:53:00</td>\n",
       "      <td>736 14th St, New York City, NY 10001</td>\n",
       "    </tr>\n",
       "    <tr>\n",
       "      <th>...</th>\n",
       "      <td>...</td>\n",
       "      <td>...</td>\n",
       "      <td>...</td>\n",
       "      <td>...</td>\n",
       "      <td>...</td>\n",
       "      <td>...</td>\n",
       "    </tr>\n",
       "    <tr>\n",
       "      <th>101220</th>\n",
       "      <td>319666.0</td>\n",
       "      <td>Lightning Charging Cable</td>\n",
       "      <td>1.0</td>\n",
       "      <td>14.950000</td>\n",
       "      <td>2011-12-19 20:58:00</td>\n",
       "      <td>14 Madison St, San Francisco, CA 94016</td>\n",
       "    </tr>\n",
       "    <tr>\n",
       "      <th>101221</th>\n",
       "      <td>319667.0</td>\n",
       "      <td>AA Batteries (4-pack)</td>\n",
       "      <td>2.0</td>\n",
       "      <td>3.840000</td>\n",
       "      <td>2001-12-19 12:01:00</td>\n",
       "      <td>549 Willow St, Los Angeles, CA 90001</td>\n",
       "    </tr>\n",
       "    <tr>\n",
       "      <th>101222</th>\n",
       "      <td>319668.0</td>\n",
       "      <td>Vareebadd Phone</td>\n",
       "      <td>1.0</td>\n",
       "      <td>400.000000</td>\n",
       "      <td>2009-12-19 06:43:00</td>\n",
       "      <td>273 Wilson St, Seattle, WA 98101</td>\n",
       "    </tr>\n",
       "    <tr>\n",
       "      <th>101223</th>\n",
       "      <td>319669.0</td>\n",
       "      <td>Wired Headphones</td>\n",
       "      <td>1.0</td>\n",
       "      <td>11.990000</td>\n",
       "      <td>2003-12-19 10:39:00</td>\n",
       "      <td>778 River St, Dallas, TX 75001</td>\n",
       "    </tr>\n",
       "    <tr>\n",
       "      <th>101224</th>\n",
       "      <td>319670.0</td>\n",
       "      <td>Bose SoundSport Headphones</td>\n",
       "      <td>1.0</td>\n",
       "      <td>99.989998</td>\n",
       "      <td>2021-12-19 21:45:00</td>\n",
       "      <td>747 Chestnut St, Los Angeles, CA 90001</td>\n",
       "    </tr>\n",
       "  </tbody>\n",
       "</table>\n",
       "<p>101225 rows × 6 columns</p>\n",
       "</div>"
      ],
      "text/plain": [
       "        Order_ID                     Product  Quantity_Ordered  Price_Each  \\\n",
       "0       236670.0            Wired Headphones               2.0   11.990000   \n",
       "1       236671.0  Bose SoundSport Headphones               1.0   99.989998   \n",
       "2       236672.0                      iPhone               1.0  700.000000   \n",
       "3       236673.0       AA Batteries (4-pack)               2.0    3.840000   \n",
       "4       236674.0       AA Batteries (4-pack)               2.0    3.840000   \n",
       "...          ...                         ...               ...         ...   \n",
       "101220  319666.0    Lightning Charging Cable               1.0   14.950000   \n",
       "101221  319667.0       AA Batteries (4-pack)               2.0    3.840000   \n",
       "101222  319668.0             Vareebadd Phone               1.0  400.000000   \n",
       "101223  319669.0            Wired Headphones               1.0   11.990000   \n",
       "101224  319670.0  Bose SoundSport Headphones               1.0   99.989998   \n",
       "\n",
       "                Order_Date                        Purchase_Address  \n",
       "0      2031-08-19 22:21:00        359 Spruce St, Seattle, WA 98101  \n",
       "1      2015-08-19 15:11:00          492 Ridge St, Dallas, TX 75001  \n",
       "2      2006-08-19 14:40:00          149 7th St, Portland, OR 97035  \n",
       "3      2029-08-19 20:59:00       631 2nd St, Los Angeles, CA 90001  \n",
       "4      2015-08-19 19:53:00    736 14th St, New York City, NY 10001  \n",
       "...                    ...                                     ...  \n",
       "101220 2011-12-19 20:58:00  14 Madison St, San Francisco, CA 94016  \n",
       "101221 2001-12-19 12:01:00    549 Willow St, Los Angeles, CA 90001  \n",
       "101222 2009-12-19 06:43:00        273 Wilson St, Seattle, WA 98101  \n",
       "101223 2003-12-19 10:39:00          778 River St, Dallas, TX 75001  \n",
       "101224 2021-12-19 21:45:00  747 Chestnut St, Los Angeles, CA 90001  \n",
       "\n",
       "[101225 rows x 6 columns]"
      ]
     },
     "execution_count": 18,
     "metadata": {},
     "output_type": "execute_result"
    }
   ],
   "source": [
    "# Displaying the second half of the dataframe\n",
    "second_half_data"
   ]
  },
  {
   "cell_type": "markdown",
   "metadata": {},
   "source": [
    "## Data Cleaning"
   ]
  },
  {
   "cell_type": "code",
   "execution_count": 19,
   "metadata": {},
   "outputs": [
    {
     "data": {
      "text/plain": [
       "Index(['Order ID', 'Product', 'Quantity Ordered', 'Price Each', 'Order Date',\n",
       "       'Purchase Address'],\n",
       "      dtype='object')"
      ]
     },
     "execution_count": 19,
     "metadata": {},
     "output_type": "execute_result"
    }
   ],
   "source": [
    "# Display the columns for the first half of the dataframe\n",
    "first_half_data.columns"
   ]
  },
  {
   "cell_type": "code",
   "execution_count": 20,
   "metadata": {},
   "outputs": [
    {
     "data": {
      "text/plain": [
       "Index(['Order_ID', 'Product', 'Quantity_Ordered', 'Price_Each', 'Order_Date',\n",
       "       'Purchase_Address'],\n",
       "      dtype='object')"
      ]
     },
     "execution_count": 20,
     "metadata": {},
     "output_type": "execute_result"
    }
   ],
   "source": [
    "# Display the columns for the second half of the dataframe\n",
    "second_half_data.columns"
   ]
  },
  {
   "cell_type": "markdown",
   "metadata": {},
   "source": [
    "- The first half seems to have column names like 'Order ID', 'Product', 'Quantity Ordered', 'Price Each', 'Order Date','Purchase Address, while the second half has column names like 'Order_ID', 'Product', 'Quantity_Ordered', 'Price_Each', 'Order_Date','Purchase_Address.\n",
    "- we need to standardize the column names first."
   ]
  },
  {
   "cell_type": "markdown",
   "metadata": {},
   "source": [
    "### Standardize the Columns"
   ]
  },
  {
   "cell_type": "code",
   "execution_count": 21,
   "metadata": {},
   "outputs": [],
   "source": [
    "# Rename columns of the first half of the dataset\n",
    "first_half_data.columns = ['order_id', 'product', 'quantity_ordered', 'price_each', 'order_date', 'purchase_address']\n",
    "\n",
    "# Rename columns of the second half of the dataset\n",
    "second_half_data.columns = ['order_id', 'product', 'quantity_ordered', 'price_each', 'order_date', 'purchase_address']\n",
    "\n",
    "\n"
   ]
  },
  {
   "cell_type": "markdown",
   "metadata": {},
   "source": [
    "### Check if both datasets have the consistent columns "
   ]
  },
  {
   "cell_type": "code",
   "execution_count": 22,
   "metadata": {},
   "outputs": [
    {
     "data": {
      "text/plain": [
       "Index(['order_id', 'product', 'quantity_ordered', 'price_each', 'order_date',\n",
       "       'purchase_address'],\n",
       "      dtype='object')"
      ]
     },
     "execution_count": 22,
     "metadata": {},
     "output_type": "execute_result"
    }
   ],
   "source": [
    "first_half_data.columns"
   ]
  },
  {
   "cell_type": "code",
   "execution_count": 23,
   "metadata": {},
   "outputs": [
    {
     "data": {
      "text/plain": [
       "Index(['order_id', 'product', 'quantity_ordered', 'price_each', 'order_date',\n",
       "       'purchase_address'],\n",
       "      dtype='object')"
      ]
     },
     "execution_count": 23,
     "metadata": {},
     "output_type": "execute_result"
    }
   ],
   "source": [
    "second_half_data.columns"
   ]
  },
  {
   "cell_type": "markdown",
   "metadata": {},
   "source": [
    "#### Now both halves of the dataset have consistent column names"
   ]
  },
  {
   "cell_type": "code",
   "execution_count": 24,
   "metadata": {},
   "outputs": [
    {
     "data": {
      "text/plain": [
       "order_id            object\n",
       "product             object\n",
       "quantity_ordered    object\n",
       "price_each          object\n",
       "order_date          object\n",
       "purchase_address    object\n",
       "dtype: object"
      ]
     },
     "execution_count": 24,
     "metadata": {},
     "output_type": "execute_result"
    }
   ],
   "source": [
    "# Checking datatype of first dataset\n",
    "first_half_data.dtypes"
   ]
  },
  {
   "cell_type": "code",
   "execution_count": 25,
   "metadata": {},
   "outputs": [
    {
     "data": {
      "text/plain": [
       "order_id                   float64\n",
       "product                     object\n",
       "quantity_ordered           float64\n",
       "price_each                 float64\n",
       "order_date          datetime64[ns]\n",
       "purchase_address            object\n",
       "dtype: object"
      ]
     },
     "execution_count": 25,
     "metadata": {},
     "output_type": "execute_result"
    }
   ],
   "source": [
    "# Checking datatype of Second dataset\n",
    "second_half_data.dtypes"
   ]
  },
  {
   "cell_type": "markdown",
   "metadata": {},
   "source": [
    " - There are some inconsistencies in the data types between the two halves of the dataset. Specifically, in the first dataset, the order_id, quantity_ordered, order_date , and price_each columns are stored as strings (object data type), whereas in the second dataset, they are stored as floating-point numbers (float64 data type).\n",
    " - We need to convert the data types of the first half of the dataset to the appropriate data types for the second half of the dataset."
   ]
  },
  {
   "cell_type": "code",
   "execution_count": 26,
   "metadata": {},
   "outputs": [],
   "source": [
    "# Convert data types in the first dataset to match the second dataset\n",
    "\n",
    "# Convert 'order_date' to datetime\n",
    "\n",
    "first_half_data['order_date'] = pd.to_datetime(first_half_data['order_date'], errors='coerce')\n",
    "\n",
    "# Convert 'quantity_ordered' and 'price_each' to float\n",
    "\n",
    "\n",
    "# Convert 'Price Each' column to numeric\n",
    "first_half_data['price_each'] = pd.to_numeric(first_half_data['price_each'], errors='coerce')\n",
    "\n",
    "# Convert 'Quantity Ordered' column to numeric\n",
    "first_half_data['quantity_ordered'] = pd.to_numeric(first_half_data['quantity_ordered'], errors='coerce')\n",
    "\n",
    "# Convert 'order_id' column in the first dataset to float64\n",
    "first_half_data['order_id'] = pd.to_numeric(first_half_data['order_id'], errors='coerce')"
   ]
  },
  {
   "cell_type": "markdown",
   "metadata": {},
   "source": [
    "- Recheck if the first half and the second half datatype are the same."
   ]
  },
  {
   "cell_type": "code",
   "execution_count": 27,
   "metadata": {},
   "outputs": [
    {
     "data": {
      "text/plain": [
       "order_id                   float64\n",
       "product                     object\n",
       "quantity_ordered           float64\n",
       "price_each                 float64\n",
       "order_date          datetime64[ns]\n",
       "purchase_address            object\n",
       "dtype: object"
      ]
     },
     "execution_count": 27,
     "metadata": {},
     "output_type": "execute_result"
    }
   ],
   "source": [
    "# Checking datatype of first dataset\n",
    "first_half_data.dtypes"
   ]
  },
  {
   "cell_type": "code",
   "execution_count": 28,
   "metadata": {},
   "outputs": [
    {
     "data": {
      "text/plain": [
       "order_id                   float64\n",
       "product                     object\n",
       "quantity_ordered           float64\n",
       "price_each                 float64\n",
       "order_date          datetime64[ns]\n",
       "purchase_address            object\n",
       "dtype: object"
      ]
     },
     "execution_count": 28,
     "metadata": {},
     "output_type": "execute_result"
    }
   ],
   "source": [
    "# Checking datatype of Second dataset\n",
    "second_half_data.dtypes"
   ]
  },
  {
   "cell_type": "markdown",
   "metadata": {},
   "source": [
    "-  Now the data types of corresponding columns in both datasets should match"
   ]
  },
  {
   "cell_type": "markdown",
   "metadata": {},
   "source": [
    "### Concatenate the two halve"
   ]
  },
  {
   "cell_type": "code",
   "execution_count": 29,
   "metadata": {},
   "outputs": [
    {
     "data": {
      "text/html": [
       "<div>\n",
       "<style scoped>\n",
       "    .dataframe tbody tr th:only-of-type {\n",
       "        vertical-align: middle;\n",
       "    }\n",
       "\n",
       "    .dataframe tbody tr th {\n",
       "        vertical-align: top;\n",
       "    }\n",
       "\n",
       "    .dataframe thead th {\n",
       "        text-align: right;\n",
       "    }\n",
       "</style>\n",
       "<table border=\"1\" class=\"dataframe\">\n",
       "  <thead>\n",
       "    <tr style=\"text-align: right;\">\n",
       "      <th></th>\n",
       "      <th>order_id</th>\n",
       "      <th>product</th>\n",
       "      <th>quantity_ordered</th>\n",
       "      <th>price_each</th>\n",
       "      <th>order_date</th>\n",
       "      <th>purchase_address</th>\n",
       "    </tr>\n",
       "  </thead>\n",
       "  <tbody>\n",
       "    <tr>\n",
       "      <th>0</th>\n",
       "      <td>141234.0</td>\n",
       "      <td>iPhone</td>\n",
       "      <td>1.0</td>\n",
       "      <td>700.000000</td>\n",
       "      <td>2019-01-22 21:25:00</td>\n",
       "      <td>944 Walnut St, Boston, MA 02215</td>\n",
       "    </tr>\n",
       "    <tr>\n",
       "      <th>1</th>\n",
       "      <td>141235.0</td>\n",
       "      <td>Lightning Charging Cable</td>\n",
       "      <td>1.0</td>\n",
       "      <td>14.950000</td>\n",
       "      <td>2019-01-28 14:15:00</td>\n",
       "      <td>185 Maple St, Portland, OR 97035</td>\n",
       "    </tr>\n",
       "    <tr>\n",
       "      <th>2</th>\n",
       "      <td>141236.0</td>\n",
       "      <td>Wired Headphones</td>\n",
       "      <td>2.0</td>\n",
       "      <td>11.990000</td>\n",
       "      <td>2019-01-17 13:33:00</td>\n",
       "      <td>538 Adams St, San Francisco, CA 94016</td>\n",
       "    </tr>\n",
       "    <tr>\n",
       "      <th>3</th>\n",
       "      <td>141237.0</td>\n",
       "      <td>27in FHD Monitor</td>\n",
       "      <td>1.0</td>\n",
       "      <td>149.990000</td>\n",
       "      <td>2019-01-05 20:33:00</td>\n",
       "      <td>738 10th St, Los Angeles, CA 90001</td>\n",
       "    </tr>\n",
       "    <tr>\n",
       "      <th>4</th>\n",
       "      <td>141238.0</td>\n",
       "      <td>Wired Headphones</td>\n",
       "      <td>1.0</td>\n",
       "      <td>11.990000</td>\n",
       "      <td>2019-01-25 11:59:00</td>\n",
       "      <td>387 10th St, Austin, TX 73301</td>\n",
       "    </tr>\n",
       "    <tr>\n",
       "      <th>...</th>\n",
       "      <td>...</td>\n",
       "      <td>...</td>\n",
       "      <td>...</td>\n",
       "      <td>...</td>\n",
       "      <td>...</td>\n",
       "      <td>...</td>\n",
       "    </tr>\n",
       "    <tr>\n",
       "      <th>186845</th>\n",
       "      <td>319666.0</td>\n",
       "      <td>Lightning Charging Cable</td>\n",
       "      <td>1.0</td>\n",
       "      <td>14.950000</td>\n",
       "      <td>2011-12-19 20:58:00</td>\n",
       "      <td>14 Madison St, San Francisco, CA 94016</td>\n",
       "    </tr>\n",
       "    <tr>\n",
       "      <th>186846</th>\n",
       "      <td>319667.0</td>\n",
       "      <td>AA Batteries (4-pack)</td>\n",
       "      <td>2.0</td>\n",
       "      <td>3.840000</td>\n",
       "      <td>2001-12-19 12:01:00</td>\n",
       "      <td>549 Willow St, Los Angeles, CA 90001</td>\n",
       "    </tr>\n",
       "    <tr>\n",
       "      <th>186847</th>\n",
       "      <td>319668.0</td>\n",
       "      <td>Vareebadd Phone</td>\n",
       "      <td>1.0</td>\n",
       "      <td>400.000000</td>\n",
       "      <td>2009-12-19 06:43:00</td>\n",
       "      <td>273 Wilson St, Seattle, WA 98101</td>\n",
       "    </tr>\n",
       "    <tr>\n",
       "      <th>186848</th>\n",
       "      <td>319669.0</td>\n",
       "      <td>Wired Headphones</td>\n",
       "      <td>1.0</td>\n",
       "      <td>11.990000</td>\n",
       "      <td>2003-12-19 10:39:00</td>\n",
       "      <td>778 River St, Dallas, TX 75001</td>\n",
       "    </tr>\n",
       "    <tr>\n",
       "      <th>186849</th>\n",
       "      <td>319670.0</td>\n",
       "      <td>Bose SoundSport Headphones</td>\n",
       "      <td>1.0</td>\n",
       "      <td>99.989998</td>\n",
       "      <td>2021-12-19 21:45:00</td>\n",
       "      <td>747 Chestnut St, Los Angeles, CA 90001</td>\n",
       "    </tr>\n",
       "  </tbody>\n",
       "</table>\n",
       "<p>186850 rows × 6 columns</p>\n",
       "</div>"
      ],
      "text/plain": [
       "        order_id                     product  quantity_ordered  price_each  \\\n",
       "0       141234.0                      iPhone               1.0  700.000000   \n",
       "1       141235.0    Lightning Charging Cable               1.0   14.950000   \n",
       "2       141236.0            Wired Headphones               2.0   11.990000   \n",
       "3       141237.0            27in FHD Monitor               1.0  149.990000   \n",
       "4       141238.0            Wired Headphones               1.0   11.990000   \n",
       "...          ...                         ...               ...         ...   \n",
       "186845  319666.0    Lightning Charging Cable               1.0   14.950000   \n",
       "186846  319667.0       AA Batteries (4-pack)               2.0    3.840000   \n",
       "186847  319668.0             Vareebadd Phone               1.0  400.000000   \n",
       "186848  319669.0            Wired Headphones               1.0   11.990000   \n",
       "186849  319670.0  Bose SoundSport Headphones               1.0   99.989998   \n",
       "\n",
       "                order_date                        purchase_address  \n",
       "0      2019-01-22 21:25:00         944 Walnut St, Boston, MA 02215  \n",
       "1      2019-01-28 14:15:00        185 Maple St, Portland, OR 97035  \n",
       "2      2019-01-17 13:33:00   538 Adams St, San Francisco, CA 94016  \n",
       "3      2019-01-05 20:33:00      738 10th St, Los Angeles, CA 90001  \n",
       "4      2019-01-25 11:59:00           387 10th St, Austin, TX 73301  \n",
       "...                    ...                                     ...  \n",
       "186845 2011-12-19 20:58:00  14 Madison St, San Francisco, CA 94016  \n",
       "186846 2001-12-19 12:01:00    549 Willow St, Los Angeles, CA 90001  \n",
       "186847 2009-12-19 06:43:00        273 Wilson St, Seattle, WA 98101  \n",
       "186848 2003-12-19 10:39:00          778 River St, Dallas, TX 75001  \n",
       "186849 2021-12-19 21:45:00  747 Chestnut St, Los Angeles, CA 90001  \n",
       "\n",
       "[186850 rows x 6 columns]"
      ]
     },
     "execution_count": 29,
     "metadata": {},
     "output_type": "execute_result"
    }
   ],
   "source": [
    "# Concatenate the two halves along the rows axis\n",
    "fully_year_data = pd.concat([first_half_data, second_half_data], ignore_index=True)\n",
    "\n",
    "# Display the combined dataset\n",
    "fully_year_data \n"
   ]
  },
  {
   "cell_type": "code",
   "execution_count": 30,
   "metadata": {},
   "outputs": [
    {
     "data": {
      "text/plain": [
       "order_id            900\n",
       "product             545\n",
       "quantity_ordered    900\n",
       "price_each          900\n",
       "order_date          900\n",
       "purchase_address    545\n",
       "dtype: int64"
      ]
     },
     "execution_count": 30,
     "metadata": {},
     "output_type": "execute_result"
    }
   ],
   "source": [
    "# Check for missing values in full_year_data\n",
    "fully_year_data.isnull().sum()"
   ]
  },
  {
   "cell_type": "code",
   "execution_count": 31,
   "metadata": {},
   "outputs": [
    {
     "data": {
      "text/plain": [
       "order_id            0\n",
       "product             0\n",
       "quantity_ordered    0\n",
       "price_each          0\n",
       "order_date          0\n",
       "purchase_address    0\n",
       "dtype: int64"
      ]
     },
     "execution_count": 31,
     "metadata": {},
     "output_type": "execute_result"
    }
   ],
   "source": [
    "# Remove rows with missing values\n",
    "fully_year_data = fully_year_data.dropna()\n",
    "\n",
    "# Verify that missing values are removed\n",
    "fully_year_data.isnull().sum()\n"
   ]
  },
  {
   "cell_type": "code",
   "execution_count": 32,
   "metadata": {},
   "outputs": [
    {
     "data": {
      "text/plain": [
       "264"
      ]
     },
     "execution_count": 32,
     "metadata": {},
     "output_type": "execute_result"
    }
   ],
   "source": [
    "# check for duplicate values in full_year_data\n",
    "fully_year_data.duplicated().sum()"
   ]
  },
  {
   "cell_type": "code",
   "execution_count": 33,
   "metadata": {},
   "outputs": [
    {
     "data": {
      "text/plain": [
       "0"
      ]
     },
     "execution_count": 33,
     "metadata": {},
     "output_type": "execute_result"
    }
   ],
   "source": [
    "# Drop duplicate rows\n",
    "fully_year_data = fully_year_data.drop_duplicates()\n",
    "\n",
    "# Verify that duplicates are removed\n",
    "fully_year_data.duplicated().sum()\n"
   ]
  },
  {
   "cell_type": "code",
   "execution_count": 34,
   "metadata": {},
   "outputs": [
    {
     "data": {
      "text/plain": [
       "order_id                   float64\n",
       "product                     object\n",
       "quantity_ordered           float64\n",
       "price_each                 float64\n",
       "order_date          datetime64[ns]\n",
       "purchase_address            object\n",
       "dtype: object"
      ]
     },
     "execution_count": 34,
     "metadata": {},
     "output_type": "execute_result"
    }
   ],
   "source": [
    "#check for the data types for the full_year_data\n",
    "fully_year_data.dtypes"
   ]
  },
  {
   "cell_type": "code",
   "execution_count": 35,
   "metadata": {},
   "outputs": [
    {
     "name": "stdout",
     "output_type": "stream",
     "text": [
      "Unique values in product: ['iPhone' 'Lightning Charging Cable' 'Wired Headphones' '27in FHD Monitor'\n",
      " 'AAA Batteries (4-pack)' '27in 4K Gaming Monitor' 'USB-C Charging Cable'\n",
      " 'Bose SoundSport Headphones' 'Apple Airpods Headphones'\n",
      " 'Macbook Pro Laptop' 'Flatscreen TV' 'Vareebadd Phone'\n",
      " 'AA Batteries (4-pack)' 'Google Phone' '20in Monitor'\n",
      " '34in Ultrawide Monitor' 'ThinkPad Laptop' 'LG Dryer'\n",
      " 'LG Washing Machine']\n",
      "Unique values in purchase_address: ['944 Walnut St, Boston, MA 02215' '185 Maple St, Portland, OR 97035'\n",
      " '538 Adams St, San Francisco, CA 94016' ...\n",
      " '273 Wilson St, Seattle, WA 98101' '778 River St, Dallas, TX 75001'\n",
      " '747 Chestnut St, Los Angeles, CA 90001']\n"
     ]
    }
   ],
   "source": [
    "# Check unique values in categorical columns\n",
    "categorical_columns = fully_year_data.select_dtypes(include=['object']).columns\n",
    "for column in categorical_columns:\n",
    "    print(f\"Unique values in {column}: {fully_year_data[column].unique()}\")\n",
    "\n"
   ]
  },
  {
   "cell_type": "markdown",
   "metadata": {},
   "source": [
    "### Univariate Analysis"
   ]
  },
  {
   "cell_type": "markdown",
   "metadata": {},
   "source": [
    "### Summary statistics for numeric columns in full year data"
   ]
  },
  {
   "cell_type": "code",
   "execution_count": 36,
   "metadata": {},
   "outputs": [
    {
     "data": {
      "text/html": [
       "<div>\n",
       "<style scoped>\n",
       "    .dataframe tbody tr th:only-of-type {\n",
       "        vertical-align: middle;\n",
       "    }\n",
       "\n",
       "    .dataframe tbody tr th {\n",
       "        vertical-align: top;\n",
       "    }\n",
       "\n",
       "    .dataframe thead th {\n",
       "        text-align: right;\n",
       "    }\n",
       "</style>\n",
       "<table border=\"1\" class=\"dataframe\">\n",
       "  <thead>\n",
       "    <tr style=\"text-align: right;\">\n",
       "      <th></th>\n",
       "      <th>order_id</th>\n",
       "      <th>quantity_ordered</th>\n",
       "      <th>price_each</th>\n",
       "    </tr>\n",
       "  </thead>\n",
       "  <tbody>\n",
       "    <tr>\n",
       "      <th>count</th>\n",
       "      <td>185686.000000</td>\n",
       "      <td>185686.000000</td>\n",
       "      <td>185686.000000</td>\n",
       "    </tr>\n",
       "    <tr>\n",
       "      <th>mean</th>\n",
       "      <td>230411.376227</td>\n",
       "      <td>1.124544</td>\n",
       "      <td>184.519255</td>\n",
       "    </tr>\n",
       "    <tr>\n",
       "      <th>std</th>\n",
       "      <td>51511.717183</td>\n",
       "      <td>0.443069</td>\n",
       "      <td>332.843838</td>\n",
       "    </tr>\n",
       "    <tr>\n",
       "      <th>min</th>\n",
       "      <td>141234.000000</td>\n",
       "      <td>1.000000</td>\n",
       "      <td>2.990000</td>\n",
       "    </tr>\n",
       "    <tr>\n",
       "      <th>25%</th>\n",
       "      <td>185833.250000</td>\n",
       "      <td>1.000000</td>\n",
       "      <td>11.950000</td>\n",
       "    </tr>\n",
       "    <tr>\n",
       "      <th>50%</th>\n",
       "      <td>230354.500000</td>\n",
       "      <td>1.000000</td>\n",
       "      <td>14.950000</td>\n",
       "    </tr>\n",
       "    <tr>\n",
       "      <th>75%</th>\n",
       "      <td>275028.750000</td>\n",
       "      <td>1.000000</td>\n",
       "      <td>150.000000</td>\n",
       "    </tr>\n",
       "    <tr>\n",
       "      <th>max</th>\n",
       "      <td>319670.000000</td>\n",
       "      <td>9.000000</td>\n",
       "      <td>1700.000000</td>\n",
       "    </tr>\n",
       "  </tbody>\n",
       "</table>\n",
       "</div>"
      ],
      "text/plain": [
       "            order_id  quantity_ordered     price_each\n",
       "count  185686.000000     185686.000000  185686.000000\n",
       "mean   230411.376227          1.124544     184.519255\n",
       "std     51511.717183          0.443069     332.843838\n",
       "min    141234.000000          1.000000       2.990000\n",
       "25%    185833.250000          1.000000      11.950000\n",
       "50%    230354.500000          1.000000      14.950000\n",
       "75%    275028.750000          1.000000     150.000000\n",
       "max    319670.000000          9.000000    1700.000000"
      ]
     },
     "execution_count": 36,
     "metadata": {},
     "output_type": "execute_result"
    }
   ],
   "source": [
    "# Select only numerical columns\n",
    "numerical_columns = fully_year_data.select_dtypes(include=['number'])\n",
    "\n",
    "# Generate summary statistics for numerical columns \n",
    "numerical_statistics = numerical_columns.describe()\n",
    "\n",
    "# Print the summary statistics\n",
    "numerical_statistics\n"
   ]
  },
  {
   "cell_type": "markdown",
   "metadata": {},
   "source": [
    "### Insights from the summary statistics\n",
    "\n",
    "1. Order ID\n",
    "\n",
    "- The count of order IDs is 185,686, indicating the total number of transactions in the dataset.\n",
    "- The order IDs range from 141,234 to 319,670 as indicated by the Min and Max numbers.\n",
    "- There are no missing values for order IDs, as the count matches the total number of rows in the dataset.\n",
    "\n",
    "2. Quantity Ordered\n",
    "\n",
    "- On average, approximately 1.12 items are ordered per transaction as indicated by the mean.\n",
    "- The standard deviation of around 0.44 indicates that the quantity ordered varies moderately around the mean.\n",
    "- The minimum quantity ordered is 1, and the maximum is 9, with the majority of transactions having a quantity ordered of 1 as indicated by the median and quartiles.\n",
    "\n",
    "3. Price Each\n",
    "\n",
    "- The mean price of each item ordered is approximately $184.52, with a standard deviation of $332.84, indicating significant variability in item prices.\n",
    "- Item prices range from $2.99 to $1700.00.\n",
    "- Most items have prices between $11.95 and $150.00, as indicated by the quartiles."
   ]
  },
  {
   "cell_type": "code",
   "execution_count": 37,
   "metadata": {},
   "outputs": [
    {
     "data": {
      "image/png": "[encoded data removed]",
      "text/plain": [
       "<Figure size 800x600 with 1 Axes>"
      ]
     },
     "metadata": {},
     "output_type": "display_data"
    },
    {
     "data": {
      "image/png": "[encoded data removed]",
      "text/plain": [
       "<Figure size 800x600 with 1 Axes>"
      ]
     },
     "metadata": {},
     "output_type": "display_data"
    },
    {
     "data": {
      "image/png": "[encoded data removed]",
      "text/plain": [
       "<Figure size 800x600 with 1 Axes>"
      ]
     },
     "metadata": {},
     "output_type": "display_data"
    }
   ],
   "source": [
    "# Visualize distributions using histograms\n",
    "for var in numerical_statistics:\n",
    "    plt.figure(figsize=(8, 6))\n",
    "    sns.histplot(fully_year_data[var], bins=20, kde=True)\n",
    "    plt.title(f'Distribution of {var}')\n",
    "    plt.xlabel(var)\n",
    "    plt.ylabel('Frequency')\n",
    "    plt.show()\n"
   ]
  },
  {
   "cell_type": "markdown",
   "metadata": {},
   "source": [
    "### Analysis for categorical variables"
   ]
  },
  {
   "cell_type": "code",
   "execution_count": 38,
   "metadata": {},
   "outputs": [
    {
     "name": "stdout",
     "output_type": "stream",
     "text": [
      "\n",
      "Frequency counts for the 'product' category:\n",
      "product\n",
      "USB-C Charging Cable          21859\n",
      "Lightning Charging Cable      21610\n",
      "AAA Batteries (4-pack)        20612\n",
      "AA Batteries (4-pack)         20558\n",
      "Wired Headphones              18849\n",
      "Apple Airpods Headphones      15525\n",
      "Bose SoundSport Headphones    13298\n",
      "27in FHD Monitor               7498\n",
      "iPhone                         6840\n",
      "27in 4K Gaming Monitor         6225\n",
      "34in Ultrawide Monitor         6174\n",
      "Google Phone                   5522\n",
      "Flatscreen TV                  4794\n",
      "Macbook Pro Laptop             4721\n",
      "ThinkPad Laptop                4126\n",
      "20in Monitor                   4098\n",
      "Vareebadd Phone                2065\n",
      "LG Washing Machine              666\n",
      "LG Dryer                        646\n",
      "Name: count, dtype: int64\n",
      "\n",
      "Frequency counts for the 'purchase_address' category:\n",
      "purchase_address\n",
      "193 Forest St, San Francisco, CA 94016    9\n",
      "279 Sunset St, San Francisco, CA 94016    8\n",
      "223 Elm St, Los Angeles, CA 90001         8\n",
      "176 North St, San Francisco, CA 94016     7\n",
      "284 Walnut St, San Francisco, CA 94016    7\n",
      "                                         ..\n",
      "842 10th St, Boston, MA 02215             1\n",
      "722 South St, San Francisco, CA 94016     1\n",
      "222 Cherry St, San Francisco, CA 94016    1\n",
      "837 Elm St, Portland, OR 97035            1\n",
      "747 Chestnut St, Los Angeles, CA 90001    1\n",
      "Name: count, Length: 140787, dtype: int64\n"
     ]
    }
   ],
   "source": [
    "# Selecting only categorical columns\n",
    "categorical_columns = fully_year_data.select_dtypes(include=['object']).columns\n",
    "\n",
    "# Looping through each categorical column\n",
    "for column in categorical_columns:\n",
    "    # Generating frequency counts for the current column\n",
    "    frequency_counts = fully_year_data[column].value_counts()\n",
    "    \n",
    "    # Printing the frequency counts\n",
    "    print(f\"\\nFrequency counts for the '{column}' category:\")\n",
    "    print(frequency_counts)\n"
   ]
  },
  {
   "cell_type": "markdown",
   "metadata": {},
   "source": [
    "### Product Category\n",
    "\n",
    "1. Top-Selling Products: The top-selling products include various accessories such as USB-C Charging Cable, Lightning Charging Cable, and batteries (AAA Batteries and AA Batteries).\n",
    "\n",
    "2. Popular Electronics: Electronic devices like Wired Headphones, Apple Airpods Headphones, and Bose SoundSport Headphones are also among the top-selling products.\n",
    "\n",
    "3. Monitors and Smartphones: Monitors (FHD, 4K, and Ultrawide) along with smartphones (iPhone and Google Phone) are present in the list, indicating their popularity among customers.\n",
    "\n",
    "4. Laptops and Appliances: Macbook Pro Laptop and ThinkPad Laptop are among the top-selling products, and there are also appliances like LG Washing Machine and LG Dryer in the list, though with lower frequencies.\n",
    "\n",
    "### Purchase Address Category\n",
    "\n",
    "- Geographical Distribution: The purchase addresses represent diverse locations, including various cities and states, indicating a wide geographical reach of the business.\n",
    "\n",
    "- Multiple Occurrences: Some purchase addresses occur multiple times in the dataset, suggesting that certain locations may be more popular among customers or may have multiple transactions."
   ]
  },
  {
   "cell_type": "code",
   "execution_count": 39,
   "metadata": {},
   "outputs": [
    {
     "data": {
      "image/png": "[encoded data removed]",
      "text/plain": [
       "<Figure size 1000x600 with 1 Axes>"
      ]
     },
     "metadata": {},
     "output_type": "display_data"
    },
    {
     "data": {
      "image/png": "[encoded data removed]",
      "text/plain": [
       "<Figure size 1000x600 with 1 Axes>"
      ]
     },
     "metadata": {},
     "output_type": "display_data"
    }
   ],
   "source": [
    "\n",
    "# Visualize distributions using bar plots\n",
    "for var in categorical_columns:\n",
    "    plt.figure(figsize=(10, 6))\n",
    "    sns.countplot(data=fully_year_data, x=var, order=fully_year_data[var].value_counts().index)\n",
    "    plt.title(f'Distribution of {var}')\n",
    "    plt.xlabel(var)\n",
    "    plt.ylabel('Frequency')\n",
    "    plt.xticks(rotation=90)\n",
    "    plt.show()\n"
   ]
  },
  {
   "cell_type": "markdown",
   "metadata": {},
   "source": [
    "### Bivariate Analysis"
   ]
  },
  {
   "cell_type": "code",
   "execution_count": 40,
   "metadata": {},
   "outputs": [],
   "source": [
    "# Numeric-Numeric Relationship: Correlation Matrix\n",
    "numeric_vars = ['quantity_ordered', 'price_each']\n",
    "numeric_corr = fully_year_data[numeric_vars].corr()\n"
   ]
  },
  {
   "cell_type": "code",
   "execution_count": 41,
   "metadata": {},
   "outputs": [
    {
     "data": {
      "image/png": "[encoded data removed]",
      "text/plain": [
       "<Figure size 800x600 with 2 Axes>"
      ]
     },
     "metadata": {},
     "output_type": "display_data"
    }
   ],
   "source": [
    "\n",
    "# Visualize correlation matrix using a heatmap\n",
    "plt.figure(figsize=(8, 6))\n",
    "sns.heatmap(numeric_corr, annot=True, cmap='coolwarm', fmt=\".2f\", linewidths=0.5)\n",
    "plt.title('Correlation Matrix (Numeric Variables)')\n",
    "plt.show()"
   ]
  },
  {
   "cell_type": "code",
   "execution_count": 42,
   "metadata": {},
   "outputs": [
    {
     "data": {
      "image/png": "[encoded data removed]",
      "text/plain": [
       "<Figure size 1200x800 with 1 Axes>"
      ]
     },
     "metadata": {},
     "output_type": "display_data"
    }
   ],
   "source": [
    "# Categorical-Numeric Relationship: Example with 'product' and 'price_each'\n",
    "plt.figure(figsize=(12, 8))\n",
    "sns.boxplot(data=fully_year_data, x='product', y='price_each')\n",
    "plt.title('Distribution of Price Each across Products')\n",
    "plt.xlabel('Product')\n",
    "plt.ylabel('Price Each')\n",
    "plt.xticks(rotation=90)\n",
    "plt.show()"
   ]
  },
  {
   "cell_type": "code",
   "execution_count": 43,
   "metadata": {},
   "outputs": [
    {
     "name": "stdout",
     "output_type": "stream",
     "text": [
      "Contingency Table:\n",
      "purchase_address            1 11th St, Atlanta, GA 30301  \\\n",
      "product                                                    \n",
      "20in Monitor                                           0   \n",
      "27in 4K Gaming Monitor                                 0   \n",
      "27in FHD Monitor                                       0   \n",
      "34in Ultrawide Monitor                                 0   \n",
      "AA Batteries (4-pack)                                  0   \n",
      "AAA Batteries (4-pack)                                 0   \n",
      "Apple Airpods Headphones                               0   \n",
      "Bose SoundSport Headphones                             0   \n",
      "Flatscreen TV                                          0   \n",
      "Google Phone                                           0   \n",
      "LG Dryer                                               0   \n",
      "LG Washing Machine                                     0   \n",
      "Lightning Charging Cable                               0   \n",
      "Macbook Pro Laptop                                     0   \n",
      "ThinkPad Laptop                                        0   \n",
      "USB-C Charging Cable                                   1   \n",
      "Vareebadd Phone                                        0   \n",
      "Wired Headphones                                       0   \n",
      "iPhone                                                 0   \n",
      "\n",
      "purchase_address            1 11th St, Los Angeles, CA 90001  \\\n",
      "product                                                        \n",
      "20in Monitor                                               0   \n",
      "27in 4K Gaming Monitor                                     0   \n",
      "27in FHD Monitor                                           0   \n",
      "34in Ultrawide Monitor                                     0   \n",
      "AA Batteries (4-pack)                                      0   \n",
      "AAA Batteries (4-pack)                                     0   \n",
      "Apple Airpods Headphones                                   0   \n",
      "Bose SoundSport Headphones                                 0   \n",
      "Flatscreen TV                                              0   \n",
      "Google Phone                                               0   \n",
      "LG Dryer                                                   0   \n",
      "LG Washing Machine                                         0   \n",
      "Lightning Charging Cable                                   0   \n",
      "Macbook Pro Laptop                                         1   \n",
      "ThinkPad Laptop                                            0   \n",
      "USB-C Charging Cable                                       0   \n",
      "Vareebadd Phone                                            0   \n",
      "Wired Headphones                                           0   \n",
      "iPhone                                                     0   \n",
      "\n",
      "purchase_address            1 11th St, San Francisco, CA 94016  \\\n",
      "product                                                          \n",
      "20in Monitor                                                 0   \n",
      "27in 4K Gaming Monitor                                       0   \n",
      "27in FHD Monitor                                             0   \n",
      "34in Ultrawide Monitor                                       0   \n",
      "AA Batteries (4-pack)                                        0   \n",
      "AAA Batteries (4-pack)                                       0   \n",
      "Apple Airpods Headphones                                     0   \n",
      "Bose SoundSport Headphones                                   0   \n",
      "Flatscreen TV                                                0   \n",
      "Google Phone                                                 0   \n",
      "LG Dryer                                                     0   \n",
      "LG Washing Machine                                           0   \n",
      "Lightning Charging Cable                                     0   \n",
      "Macbook Pro Laptop                                           0   \n",
      "ThinkPad Laptop                                              0   \n",
      "USB-C Charging Cable                                         0   \n",
      "Vareebadd Phone                                              0   \n",
      "Wired Headphones                                             0   \n",
      "iPhone                                                       1   \n",
      "\n",
      "purchase_address            1 12th St, Los Angeles, CA 90001  \\\n",
      "product                                                        \n",
      "20in Monitor                                               0   \n",
      "27in 4K Gaming Monitor                                     0   \n",
      "27in FHD Monitor                                           0   \n",
      "34in Ultrawide Monitor                                     0   \n",
      "AA Batteries (4-pack)                                      0   \n",
      "AAA Batteries (4-pack)                                     0   \n",
      "Apple Airpods Headphones                                   1   \n",
      "Bose SoundSport Headphones                                 0   \n",
      "Flatscreen TV                                              0   \n",
      "Google Phone                                               0   \n",
      "LG Dryer                                                   0   \n",
      "LG Washing Machine                                         0   \n",
      "Lightning Charging Cable                                   0   \n",
      "Macbook Pro Laptop                                         0   \n",
      "ThinkPad Laptop                                            0   \n",
      "USB-C Charging Cable                                       0   \n",
      "Vareebadd Phone                                            0   \n",
      "Wired Headphones                                           0   \n",
      "iPhone                                                     0   \n",
      "\n",
      "purchase_address            1 12th St, New York City, NY 10001  \\\n",
      "product                                                          \n",
      "20in Monitor                                                 0   \n",
      "27in 4K Gaming Monitor                                       0   \n",
      "27in FHD Monitor                                             0   \n",
      "34in Ultrawide Monitor                                       0   \n",
      "AA Batteries (4-pack)                                        0   \n",
      "AAA Batteries (4-pack)                                       0   \n",
      "Apple Airpods Headphones                                     0   \n",
      "Bose SoundSport Headphones                                   0   \n",
      "Flatscreen TV                                                0   \n",
      "Google Phone                                                 0   \n",
      "LG Dryer                                                     0   \n",
      "LG Washing Machine                                           0   \n",
      "Lightning Charging Cable                                     0   \n",
      "Macbook Pro Laptop                                           0   \n",
      "ThinkPad Laptop                                              0   \n",
      "USB-C Charging Cable                                         0   \n",
      "Vareebadd Phone                                              0   \n",
      "Wired Headphones                                             1   \n",
      "iPhone                                                       0   \n",
      "\n",
      "purchase_address            1 12th St, San Francisco, CA 94016  \\\n",
      "product                                                          \n",
      "20in Monitor                                                 0   \n",
      "27in 4K Gaming Monitor                                       0   \n",
      "27in FHD Monitor                                             0   \n",
      "34in Ultrawide Monitor                                       0   \n",
      "AA Batteries (4-pack)                                        0   \n",
      "AAA Batteries (4-pack)                                       0   \n",
      "Apple Airpods Headphones                                     0   \n",
      "Bose SoundSport Headphones                                   0   \n",
      "Flatscreen TV                                                0   \n",
      "Google Phone                                                 0   \n",
      "LG Dryer                                                     0   \n",
      "LG Washing Machine                                           0   \n",
      "Lightning Charging Cable                                     0   \n",
      "Macbook Pro Laptop                                           1   \n",
      "ThinkPad Laptop                                              0   \n",
      "USB-C Charging Cable                                         0   \n",
      "Vareebadd Phone                                              0   \n",
      "Wired Headphones                                             1   \n",
      "iPhone                                                       0   \n",
      "\n",
      "purchase_address            1 13th St, San Francisco, CA 94016  \\\n",
      "product                                                          \n",
      "20in Monitor                                                 0   \n",
      "27in 4K Gaming Monitor                                       0   \n",
      "27in FHD Monitor                                             0   \n",
      "34in Ultrawide Monitor                                       0   \n",
      "AA Batteries (4-pack)                                        0   \n",
      "AAA Batteries (4-pack)                                       0   \n",
      "Apple Airpods Headphones                                     0   \n",
      "Bose SoundSport Headphones                                   0   \n",
      "Flatscreen TV                                                0   \n",
      "Google Phone                                                 0   \n",
      "LG Dryer                                                     0   \n",
      "LG Washing Machine                                           0   \n",
      "Lightning Charging Cable                                     0   \n",
      "Macbook Pro Laptop                                           0   \n",
      "ThinkPad Laptop                                              0   \n",
      "USB-C Charging Cable                                         0   \n",
      "Vareebadd Phone                                              0   \n",
      "Wired Headphones                                             1   \n",
      "iPhone                                                       0   \n",
      "\n",
      "purchase_address            1 14th St, New York City, NY 10001  \\\n",
      "product                                                          \n",
      "20in Monitor                                                 0   \n",
      "27in 4K Gaming Monitor                                       0   \n",
      "27in FHD Monitor                                             0   \n",
      "34in Ultrawide Monitor                                       0   \n",
      "AA Batteries (4-pack)                                        0   \n",
      "AAA Batteries (4-pack)                                       0   \n",
      "Apple Airpods Headphones                                     0   \n",
      "Bose SoundSport Headphones                                   1   \n",
      "Flatscreen TV                                                0   \n",
      "Google Phone                                                 0   \n",
      "LG Dryer                                                     0   \n",
      "LG Washing Machine                                           0   \n",
      "Lightning Charging Cable                                     1   \n",
      "Macbook Pro Laptop                                           0   \n",
      "ThinkPad Laptop                                              0   \n",
      "USB-C Charging Cable                                         0   \n",
      "Vareebadd Phone                                              0   \n",
      "Wired Headphones                                             0   \n",
      "iPhone                                                       0   \n",
      "\n",
      "purchase_address            1 14th St, Portland, OR 97035  \\\n",
      "product                                                     \n",
      "20in Monitor                                            0   \n",
      "27in 4K Gaming Monitor                                  0   \n",
      "27in FHD Monitor                                        0   \n",
      "34in Ultrawide Monitor                                  0   \n",
      "AA Batteries (4-pack)                                   0   \n",
      "AAA Batteries (4-pack)                                  0   \n",
      "Apple Airpods Headphones                                0   \n",
      "Bose SoundSport Headphones                              0   \n",
      "Flatscreen TV                                           0   \n",
      "Google Phone                                            0   \n",
      "LG Dryer                                                0   \n",
      "LG Washing Machine                                      0   \n",
      "Lightning Charging Cable                                0   \n",
      "Macbook Pro Laptop                                      1   \n",
      "ThinkPad Laptop                                         0   \n",
      "USB-C Charging Cable                                    1   \n",
      "Vareebadd Phone                                         0   \n",
      "Wired Headphones                                        0   \n",
      "iPhone                                                  0   \n",
      "\n",
      "purchase_address            1 14th St, San Francisco, CA 94016  ...  \\\n",
      "product                                                         ...   \n",
      "20in Monitor                                                 0  ...   \n",
      "27in 4K Gaming Monitor                                       0  ...   \n",
      "27in FHD Monitor                                             0  ...   \n",
      "34in Ultrawide Monitor                                       0  ...   \n",
      "AA Batteries (4-pack)                                        1  ...   \n",
      "AAA Batteries (4-pack)                                       0  ...   \n",
      "Apple Airpods Headphones                                     0  ...   \n",
      "Bose SoundSport Headphones                                   0  ...   \n",
      "Flatscreen TV                                                0  ...   \n",
      "Google Phone                                                 0  ...   \n",
      "LG Dryer                                                     0  ...   \n",
      "LG Washing Machine                                           0  ...   \n",
      "Lightning Charging Cable                                     0  ...   \n",
      "Macbook Pro Laptop                                           0  ...   \n",
      "ThinkPad Laptop                                              0  ...   \n",
      "USB-C Charging Cable                                         0  ...   \n",
      "Vareebadd Phone                                              0  ...   \n",
      "Wired Headphones                                             0  ...   \n",
      "iPhone                                                       0  ...   \n",
      "\n",
      "purchase_address            999 West St, Portland, OR 97035  \\\n",
      "product                                                       \n",
      "20in Monitor                                              0   \n",
      "27in 4K Gaming Monitor                                    0   \n",
      "27in FHD Monitor                                          0   \n",
      "34in Ultrawide Monitor                                    0   \n",
      "AA Batteries (4-pack)                                     0   \n",
      "AAA Batteries (4-pack)                                    0   \n",
      "Apple Airpods Headphones                                  1   \n",
      "Bose SoundSport Headphones                                0   \n",
      "Flatscreen TV                                             0   \n",
      "Google Phone                                              0   \n",
      "LG Dryer                                                  0   \n",
      "LG Washing Machine                                        0   \n",
      "Lightning Charging Cable                                  0   \n",
      "Macbook Pro Laptop                                        0   \n",
      "ThinkPad Laptop                                           0   \n",
      "USB-C Charging Cable                                      0   \n",
      "Vareebadd Phone                                           0   \n",
      "Wired Headphones                                          0   \n",
      "iPhone                                                    0   \n",
      "\n",
      "purchase_address            999 Willow St, Boston, MA 02215  \\\n",
      "product                                                       \n",
      "20in Monitor                                              0   \n",
      "27in 4K Gaming Monitor                                    0   \n",
      "27in FHD Monitor                                          0   \n",
      "34in Ultrawide Monitor                                    0   \n",
      "AA Batteries (4-pack)                                     0   \n",
      "AAA Batteries (4-pack)                                    1   \n",
      "Apple Airpods Headphones                                  0   \n",
      "Bose SoundSport Headphones                                0   \n",
      "Flatscreen TV                                             0   \n",
      "Google Phone                                              0   \n",
      "LG Dryer                                                  0   \n",
      "LG Washing Machine                                        0   \n",
      "Lightning Charging Cable                                  0   \n",
      "Macbook Pro Laptop                                        0   \n",
      "ThinkPad Laptop                                           0   \n",
      "USB-C Charging Cable                                      0   \n",
      "Vareebadd Phone                                           0   \n",
      "Wired Headphones                                          0   \n",
      "iPhone                                                    0   \n",
      "\n",
      "purchase_address            999 Willow St, Los Angeles, CA 90001  \\\n",
      "product                                                            \n",
      "20in Monitor                                                   0   \n",
      "27in 4K Gaming Monitor                                         0   \n",
      "27in FHD Monitor                                               0   \n",
      "34in Ultrawide Monitor                                         0   \n",
      "AA Batteries (4-pack)                                          0   \n",
      "AAA Batteries (4-pack)                                         0   \n",
      "Apple Airpods Headphones                                       0   \n",
      "Bose SoundSport Headphones                                     0   \n",
      "Flatscreen TV                                                  0   \n",
      "Google Phone                                                   0   \n",
      "LG Dryer                                                       0   \n",
      "LG Washing Machine                                             0   \n",
      "Lightning Charging Cable                                       0   \n",
      "Macbook Pro Laptop                                             0   \n",
      "ThinkPad Laptop                                                0   \n",
      "USB-C Charging Cable                                           1   \n",
      "Vareebadd Phone                                                0   \n",
      "Wired Headphones                                               0   \n",
      "iPhone                                                         0   \n",
      "\n",
      "purchase_address            999 Willow St, San Francisco, CA 94016  \\\n",
      "product                                                              \n",
      "20in Monitor                                                     0   \n",
      "27in 4K Gaming Monitor                                           0   \n",
      "27in FHD Monitor                                                 0   \n",
      "34in Ultrawide Monitor                                           0   \n",
      "AA Batteries (4-pack)                                            1   \n",
      "AAA Batteries (4-pack)                                           0   \n",
      "Apple Airpods Headphones                                         0   \n",
      "Bose SoundSport Headphones                                       0   \n",
      "Flatscreen TV                                                    0   \n",
      "Google Phone                                                     0   \n",
      "LG Dryer                                                         0   \n",
      "LG Washing Machine                                               0   \n",
      "Lightning Charging Cable                                         0   \n",
      "Macbook Pro Laptop                                               0   \n",
      "ThinkPad Laptop                                                  0   \n",
      "USB-C Charging Cable                                             0   \n",
      "Vareebadd Phone                                                  0   \n",
      "Wired Headphones                                                 0   \n",
      "iPhone                                                           0   \n",
      "\n",
      "purchase_address            999 Willow St, Seattle, WA 98101  \\\n",
      "product                                                        \n",
      "20in Monitor                                               1   \n",
      "27in 4K Gaming Monitor                                     0   \n",
      "27in FHD Monitor                                           0   \n",
      "34in Ultrawide Monitor                                     0   \n",
      "AA Batteries (4-pack)                                      0   \n",
      "AAA Batteries (4-pack)                                     0   \n",
      "Apple Airpods Headphones                                   0   \n",
      "Bose SoundSport Headphones                                 0   \n",
      "Flatscreen TV                                              0   \n",
      "Google Phone                                               0   \n",
      "LG Dryer                                                   0   \n",
      "LG Washing Machine                                         0   \n",
      "Lightning Charging Cable                                   0   \n",
      "Macbook Pro Laptop                                         0   \n",
      "ThinkPad Laptop                                            0   \n",
      "USB-C Charging Cable                                       0   \n",
      "Vareebadd Phone                                            0   \n",
      "Wired Headphones                                           1   \n",
      "iPhone                                                     0   \n",
      "\n",
      "purchase_address            999 Wilson St, Atlanta, GA 30301  \\\n",
      "product                                                        \n",
      "20in Monitor                                               0   \n",
      "27in 4K Gaming Monitor                                     0   \n",
      "27in FHD Monitor                                           0   \n",
      "34in Ultrawide Monitor                                     0   \n",
      "AA Batteries (4-pack)                                      0   \n",
      "AAA Batteries (4-pack)                                     0   \n",
      "Apple Airpods Headphones                                   0   \n",
      "Bose SoundSport Headphones                                 1   \n",
      "Flatscreen TV                                              0   \n",
      "Google Phone                                               0   \n",
      "LG Dryer                                                   0   \n",
      "LG Washing Machine                                         0   \n",
      "Lightning Charging Cable                                   0   \n",
      "Macbook Pro Laptop                                         0   \n",
      "ThinkPad Laptop                                            0   \n",
      "USB-C Charging Cable                                       0   \n",
      "Vareebadd Phone                                            0   \n",
      "Wired Headphones                                           0   \n",
      "iPhone                                                     0   \n",
      "\n",
      "purchase_address            999 Wilson St, Los Angeles, CA 90001  \\\n",
      "product                                                            \n",
      "20in Monitor                                                   0   \n",
      "27in 4K Gaming Monitor                                         0   \n",
      "27in FHD Monitor                                               0   \n",
      "34in Ultrawide Monitor                                         0   \n",
      "AA Batteries (4-pack)                                          0   \n",
      "AAA Batteries (4-pack)                                         0   \n",
      "Apple Airpods Headphones                                       0   \n",
      "Bose SoundSport Headphones                                     0   \n",
      "Flatscreen TV                                                  0   \n",
      "Google Phone                                                   0   \n",
      "LG Dryer                                                       0   \n",
      "LG Washing Machine                                             0   \n",
      "Lightning Charging Cable                                       0   \n",
      "Macbook Pro Laptop                                             0   \n",
      "ThinkPad Laptop                                                1   \n",
      "USB-C Charging Cable                                           0   \n",
      "Vareebadd Phone                                                0   \n",
      "Wired Headphones                                               0   \n",
      "iPhone                                                         0   \n",
      "\n",
      "purchase_address            999 Wilson St, New York City, NY 10001  \\\n",
      "product                                                              \n",
      "20in Monitor                                                     0   \n",
      "27in 4K Gaming Monitor                                           0   \n",
      "27in FHD Monitor                                                 0   \n",
      "34in Ultrawide Monitor                                           0   \n",
      "AA Batteries (4-pack)                                            0   \n",
      "AAA Batteries (4-pack)                                           0   \n",
      "Apple Airpods Headphones                                         1   \n",
      "Bose SoundSport Headphones                                       0   \n",
      "Flatscreen TV                                                    0   \n",
      "Google Phone                                                     0   \n",
      "LG Dryer                                                         0   \n",
      "LG Washing Machine                                               0   \n",
      "Lightning Charging Cable                                         0   \n",
      "Macbook Pro Laptop                                               0   \n",
      "ThinkPad Laptop                                                  0   \n",
      "USB-C Charging Cable                                             0   \n",
      "Vareebadd Phone                                                  0   \n",
      "Wired Headphones                                                 0   \n",
      "iPhone                                                           0   \n",
      "\n",
      "purchase_address            999 Wilson St, Portland, OR 97035  \\\n",
      "product                                                         \n",
      "20in Monitor                                                0   \n",
      "27in 4K Gaming Monitor                                      0   \n",
      "27in FHD Monitor                                            0   \n",
      "34in Ultrawide Monitor                                      0   \n",
      "AA Batteries (4-pack)                                       0   \n",
      "AAA Batteries (4-pack)                                      1   \n",
      "Apple Airpods Headphones                                    0   \n",
      "Bose SoundSport Headphones                                  0   \n",
      "Flatscreen TV                                               0   \n",
      "Google Phone                                                0   \n",
      "LG Dryer                                                    0   \n",
      "LG Washing Machine                                          0   \n",
      "Lightning Charging Cable                                    0   \n",
      "Macbook Pro Laptop                                          0   \n",
      "ThinkPad Laptop                                             0   \n",
      "USB-C Charging Cable                                        0   \n",
      "Vareebadd Phone                                             0   \n",
      "Wired Headphones                                            0   \n",
      "iPhone                                                      0   \n",
      "\n",
      "purchase_address            999 Wilson St, San Francisco, CA 94016  \n",
      "product                                                             \n",
      "20in Monitor                                                     0  \n",
      "27in 4K Gaming Monitor                                           0  \n",
      "27in FHD Monitor                                                 0  \n",
      "34in Ultrawide Monitor                                           0  \n",
      "AA Batteries (4-pack)                                            0  \n",
      "AAA Batteries (4-pack)                                           0  \n",
      "Apple Airpods Headphones                                         1  \n",
      "Bose SoundSport Headphones                                       0  \n",
      "Flatscreen TV                                                    0  \n",
      "Google Phone                                                     0  \n",
      "LG Dryer                                                         0  \n",
      "LG Washing Machine                                               0  \n",
      "Lightning Charging Cable                                         0  \n",
      "Macbook Pro Laptop                                               0  \n",
      "ThinkPad Laptop                                                  0  \n",
      "USB-C Charging Cable                                             0  \n",
      "Vareebadd Phone                                                  0  \n",
      "Wired Headphones                                                 0  \n",
      "iPhone                                                           0  \n",
      "\n",
      "[19 rows x 140787 columns]\n"
     ]
    }
   ],
   "source": [
    "# Categorical-Categorical Relationship: Example with 'product' and 'purchase_address'\n",
    "contingency_table = pd.crosstab(fully_year_data['product'], fully_year_data['purchase_address'])\n",
    "print(\"Contingency Table:\")\n",
    "print(contingency_table)\n"
   ]
  }
 ],
 "metadata": {
  "kernelspec": {
   "display_name": "Python 3",
   "language": "python",
   "name": "python3"
  },
  "language_info": {
   "codemirror_mode": {
    "name": "ipython",
    "version": 3
   },
   "file_extension": ".py",
   "mimetype": "text/x-python",
   "name": "python",
   "nbconvert_exporter": "python",
   "pygments_lexer": "ipython3",
   "version": "3.12.0"
  }
 },
 "nbformat": 4,
 "nbformat_minor": 2
}
