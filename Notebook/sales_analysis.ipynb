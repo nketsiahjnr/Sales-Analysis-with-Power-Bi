{
 "cells": [
  {
   "cell_type": "markdown",
   "metadata": {},
   "source": [
    "## Project Title: \n",
    "\n",
    "### Leveraging Data Insights for Sales Optimization in 2019"
   ]
  },
  {
   "cell_type": "markdown",
   "metadata": {},
   "source": [
    "## 1. Business Understanding\n"
   ]
  },
  {
   "cell_type": "markdown",
   "metadata": {},
   "source": [
    "### Project Description\n",
    "### 1. Introduction\n",
    "In this project, we aim to design and deliver an end-to-end business intelligence solution leveraging transactional data from 2019 to provide valuable insights for our client. The client has collected data throughout the year but hasn't utilized it effectively to drive sales and improve operational efficiency. Our goal is to analyze the data comprehensively and present actionable insights that will enable the client to identify opportunities for growth and optimization.\n",
    "\n",
    "### 1.1. Objectives\n",
    "The main objectives of this project are as follows:\n",
    "\n",
    "- Analyze the 2019 transactional data to determine the total revenue generated throughout the year.\n",
    "\n",
    "- Identify any seasonal patterns or trends in sales to understand the seasonality of the business.\n",
    "\n",
    "- Determine the best-selling and worst-selling products based on sales volume and revenue.\n",
    "\n",
    "- Compare sales performance across different months or weeks to identify trends and fluctuations.\n",
    "\n",
    "- Analyze the distribution of product deliveries across cities to identify key markets.\n",
    "\n",
    "- Compare product categories in terms of revenue generated and quantities ordered to understand their contribution to overall sales.\n",
    "\n",
    "### Analyitical Questions\n",
    "1. How much money did we make this year? \n",
    "\n",
    "2. Can we identify any seasonality in the  sales? \n",
    "\n",
    "3. What are our best and worst-selling products? \n",
    "\n",
    "4. How do sales compare to previous months or weeks? \n",
    "\n",
    "5. Which cities are our products delivered to most? \n",
    "\n",
    "6. How do product categories compare in revenue generated and quantities  ordered?\n",
    "\n",
    "### 1.2. Methodology\n",
    "To achieve these objectives, we will follow a systematic methodology that includes the following steps:\n",
    "\n",
    "1. Data Collection: Retrieve transactional data for the entire year of 2019 from both CSV files (January to June) and the remote database (July to December).\n",
    "\n",
    "2. Data Preprocessing: Clean and preprocess the data to handle missing values, outliers, and inconsistencies.\n",
    "\n",
    "3. Exploratory Data Analysis (EDA): Conduct exploratory data analysis to gain insights into the distribution, trends, and patterns within the data.\n",
    "\n",
    "4. Statistical Analysis: Perform statistical analysis to answer specific questions such as total revenue, seasonal trends, best-selling products, etc.\n",
    "\n",
    "6. Data Visualization: Visualize the findings using charts, graphs, and tables to facilitate understanding and interpretation.\n",
    "\n",
    "7. Interpretation and Insights: Provide actionable insights and recommendations based on the analysis to help the client make informed decisions.\n",
    "\n",
    "8. Report Generation: Prepare a comprehensive report summarizing the analysis, findings, and recommendations for the client's reference.\n",
    "\n",
    "\n",
    "By following this methodology, we aim to deliver a robust business intelligence solution that empowers our client to optimize sales strategies, identify growth opportunities, and enhance operational efficiency."
   ]
  },
  {
   "cell_type": "markdown",
   "metadata": {},
   "source": [
    "## 2.Data Understanding\n",
    "\n",
    "####  Features\n",
    "1. Order ID\t- This feature represents a unique identifier for each order.\n",
    "2. Product\t- This feature represents the name or type of product ordered.\n",
    "3. Quantity Ordered\t- This feature represents the quantity of each product ordered\n",
    "4. Price Each - This feature represents the price of each product.\n",
    "5. Order Date - This feature represents the date and time when the order was placed\n",
    "6. Purchase Address - This feature represents the address where the purchase was made\n",
    "\n",
    "\n",
    "#### Numerical features\n",
    "1. Quantity Ordered\n",
    "2.  Price Each\n",
    "\n",
    "#### Categorical features\n",
    "1.  Order ID\n",
    "2. Product\n",
    "3. Order Date\n",
    "4. Purchase Address\n",
    "\n",
    "Installing libraries and Packages\n",
    "\n",
    "\n",
    "In this section we will import all the packages/libraries that we will be using through this project"
   ]
  },
  {
   "cell_type": "markdown",
   "metadata": {},
   "source": [
    "### Importation\n"
   ]
  },
  {
   "cell_type": "code",
   "execution_count": 3,
   "metadata": {},
   "outputs": [],
   "source": [
    "# Data Handling\n",
    "import pandas as pd  # For data manipulation and analysis using DataFrames\n",
    "import numpy as np  # For numerical operations and arrays\n",
    "import pyodbc  # For handling connections to Microsoft SQL Server\n",
    "from dotenv import dotenv_values  # For loading environment variables, possibly including database credentials\n",
    "import os\n",
    "\n",
    "# Statistical Analysis\n",
    "import math  # Basic mathematical operations\n",
    "\n",
    "# Warning Handling\n",
    "import warnings  # To handle warnings in a way that they can be ignored\n",
    "warnings.filterwarnings('ignore')\n"
   ]
  },
  {
   "cell_type": "markdown",
   "metadata": {},
   "source": [
    "##  Load Dataset"
   ]
  },
  {
   "cell_type": "markdown",
   "metadata": {},
   "source": [
    "### 1. Load First Dataset (CSV Dataset)"
   ]
  },
  {
   "cell_type": "code",
   "execution_count": 24,
   "metadata": {},
   "outputs": [],
   "source": [
    "\n",
    "# Directory path where CSV files for January to June are located\n",
    "directory_path = r\"../Power BI Capstione Data - (Jan -May)\"\n",
    "\n",
    "# List of file names for each month\n",
    "file_names = [\n",
    "    \"Sales_January_2019.csv\",\n",
    "    \"Sales_February_2019.csv\",\n",
    "    \"Sales_March_2019.csv\",\n",
    "    \"Sales_April_2019.csv\",\n",
    "    \"Sales_May_2019.csv\",\n",
    "    \"Sales_June_2019.csv\"\n",
    "]\n",
    "\n",
    "# Generate file paths for each month\n",
    "file_paths = [os.path.join(directory_path, file_name) for file_name in file_names]\n",
    "\n",
    "# Load CSV files into separate DataFrames\n",
    "data_frames = [pd.read_csv(file) for file in file_paths]\n",
    "\n",
    "# Combine DataFrames into a single DataFrame\n",
    "first_half_data = pd.concat(data_frames, ignore_index=True)\n"
   ]
  },
  {
   "cell_type": "markdown",
   "metadata": {},
   "source": [
    "## Data Exploration for the First Half dataset "
   ]
  },
  {
   "cell_type": "code",
   "execution_count": 25,
   "metadata": {},
   "outputs": [
    {
     "data": {
      "text/html": [
       "<div>\n",
       "<style scoped>\n",
       "    .dataframe tbody tr th:only-of-type {\n",
       "        vertical-align: middle;\n",
       "    }\n",
       "\n",
       "    .dataframe tbody tr th {\n",
       "        vertical-align: top;\n",
       "    }\n",
       "\n",
       "    .dataframe thead th {\n",
       "        text-align: right;\n",
       "    }\n",
       "</style>\n",
       "<table border=\"1\" class=\"dataframe\">\n",
       "  <thead>\n",
       "    <tr style=\"text-align: right;\">\n",
       "      <th></th>\n",
       "      <th>Order ID</th>\n",
       "      <th>Product</th>\n",
       "      <th>Quantity Ordered</th>\n",
       "      <th>Price Each</th>\n",
       "      <th>Order Date</th>\n",
       "      <th>Purchase Address</th>\n",
       "    </tr>\n",
       "  </thead>\n",
       "  <tbody>\n",
       "    <tr>\n",
       "      <th>0</th>\n",
       "      <td>141234</td>\n",
       "      <td>iPhone</td>\n",
       "      <td>1</td>\n",
       "      <td>700</td>\n",
       "      <td>01/22/19 21:25</td>\n",
       "      <td>944 Walnut St, Boston, MA 02215</td>\n",
       "    </tr>\n",
       "    <tr>\n",
       "      <th>1</th>\n",
       "      <td>141235</td>\n",
       "      <td>Lightning Charging Cable</td>\n",
       "      <td>1</td>\n",
       "      <td>14.95</td>\n",
       "      <td>01/28/19 14:15</td>\n",
       "      <td>185 Maple St, Portland, OR 97035</td>\n",
       "    </tr>\n",
       "    <tr>\n",
       "      <th>2</th>\n",
       "      <td>141236</td>\n",
       "      <td>Wired Headphones</td>\n",
       "      <td>2</td>\n",
       "      <td>11.99</td>\n",
       "      <td>01/17/19 13:33</td>\n",
       "      <td>538 Adams St, San Francisco, CA 94016</td>\n",
       "    </tr>\n",
       "    <tr>\n",
       "      <th>3</th>\n",
       "      <td>141237</td>\n",
       "      <td>27in FHD Monitor</td>\n",
       "      <td>1</td>\n",
       "      <td>149.99</td>\n",
       "      <td>01/05/19 20:33</td>\n",
       "      <td>738 10th St, Los Angeles, CA 90001</td>\n",
       "    </tr>\n",
       "    <tr>\n",
       "      <th>4</th>\n",
       "      <td>141238</td>\n",
       "      <td>Wired Headphones</td>\n",
       "      <td>1</td>\n",
       "      <td>11.99</td>\n",
       "      <td>01/25/19 11:59</td>\n",
       "      <td>387 10th St, Austin, TX 73301</td>\n",
       "    </tr>\n",
       "    <tr>\n",
       "      <th>...</th>\n",
       "      <td>...</td>\n",
       "      <td>...</td>\n",
       "      <td>...</td>\n",
       "      <td>...</td>\n",
       "      <td>...</td>\n",
       "      <td>...</td>\n",
       "    </tr>\n",
       "    <tr>\n",
       "      <th>85620</th>\n",
       "      <td>222905</td>\n",
       "      <td>AAA Batteries (4-pack)</td>\n",
       "      <td>1</td>\n",
       "      <td>2.99</td>\n",
       "      <td>06/07/19 19:02</td>\n",
       "      <td>795 Pine St, Boston, MA 02215</td>\n",
       "    </tr>\n",
       "    <tr>\n",
       "      <th>85621</th>\n",
       "      <td>222906</td>\n",
       "      <td>27in FHD Monitor</td>\n",
       "      <td>1</td>\n",
       "      <td>149.99</td>\n",
       "      <td>06/01/19 19:29</td>\n",
       "      <td>495 North St, New York City, NY 10001</td>\n",
       "    </tr>\n",
       "    <tr>\n",
       "      <th>85622</th>\n",
       "      <td>222907</td>\n",
       "      <td>USB-C Charging Cable</td>\n",
       "      <td>1</td>\n",
       "      <td>11.95</td>\n",
       "      <td>06/22/19 18:57</td>\n",
       "      <td>319 Ridge St, San Francisco, CA 94016</td>\n",
       "    </tr>\n",
       "    <tr>\n",
       "      <th>85623</th>\n",
       "      <td>222908</td>\n",
       "      <td>USB-C Charging Cable</td>\n",
       "      <td>1</td>\n",
       "      <td>11.95</td>\n",
       "      <td>06/26/19 18:35</td>\n",
       "      <td>916 Main St, San Francisco, CA 94016</td>\n",
       "    </tr>\n",
       "    <tr>\n",
       "      <th>85624</th>\n",
       "      <td>222909</td>\n",
       "      <td>AAA Batteries (4-pack)</td>\n",
       "      <td>1</td>\n",
       "      <td>2.99</td>\n",
       "      <td>06/25/19 14:33</td>\n",
       "      <td>209 11th St, Atlanta, GA 30301</td>\n",
       "    </tr>\n",
       "  </tbody>\n",
       "</table>\n",
       "<p>85625 rows × 6 columns</p>\n",
       "</div>"
      ],
      "text/plain": [
       "      Order ID                   Product Quantity Ordered Price Each  \\\n",
       "0       141234                    iPhone                1        700   \n",
       "1       141235  Lightning Charging Cable                1      14.95   \n",
       "2       141236          Wired Headphones                2      11.99   \n",
       "3       141237          27in FHD Monitor                1     149.99   \n",
       "4       141238          Wired Headphones                1      11.99   \n",
       "...        ...                       ...              ...        ...   \n",
       "85620   222905    AAA Batteries (4-pack)                1       2.99   \n",
       "85621   222906          27in FHD Monitor                1     149.99   \n",
       "85622   222907      USB-C Charging Cable                1      11.95   \n",
       "85623   222908      USB-C Charging Cable                1      11.95   \n",
       "85624   222909    AAA Batteries (4-pack)                1       2.99   \n",
       "\n",
       "           Order Date                       Purchase Address  \n",
       "0      01/22/19 21:25        944 Walnut St, Boston, MA 02215  \n",
       "1      01/28/19 14:15       185 Maple St, Portland, OR 97035  \n",
       "2      01/17/19 13:33  538 Adams St, San Francisco, CA 94016  \n",
       "3      01/05/19 20:33     738 10th St, Los Angeles, CA 90001  \n",
       "4      01/25/19 11:59          387 10th St, Austin, TX 73301  \n",
       "...               ...                                    ...  \n",
       "85620  06/07/19 19:02          795 Pine St, Boston, MA 02215  \n",
       "85621  06/01/19 19:29  495 North St, New York City, NY 10001  \n",
       "85622  06/22/19 18:57  319 Ridge St, San Francisco, CA 94016  \n",
       "85623  06/26/19 18:35   916 Main St, San Francisco, CA 94016  \n",
       "85624  06/25/19 14:33         209 11th St, Atlanta, GA 30301  \n",
       "\n",
       "[85625 rows x 6 columns]"
      ]
     },
     "execution_count": 25,
     "metadata": {},
     "output_type": "execute_result"
    }
   ],
   "source": [
    "# Displaying the second half of the dataframe\n",
    "first_half_data"
   ]
  },
  {
   "cell_type": "code",
   "execution_count": 29,
   "metadata": {},
   "outputs": [
    {
     "name": "stdout",
     "output_type": "stream",
     "text": [
      "<class 'pandas.core.frame.DataFrame'>\n",
      "RangeIndex: 85625 entries, 0 to 85624\n",
      "Data columns (total 6 columns):\n",
      " #   Column            Non-Null Count  Dtype \n",
      "---  ------            --------------  ----- \n",
      " 0   Order ID          85380 non-null  object\n",
      " 1   Product           85380 non-null  object\n",
      " 2   Quantity Ordered  85380 non-null  object\n",
      " 3   Price Each        85380 non-null  object\n",
      " 4   Order Date        85380 non-null  object\n",
      " 5   Purchase Address  85380 non-null  object\n",
      "dtypes: object(6)\n",
      "memory usage: 3.9+ MB\n"
     ]
    }
   ],
   "source": [
    "# Display basic information about the first dataset\n",
    "first_half_data.info()"
   ]
  },
  {
   "cell_type": "code",
   "execution_count": 31,
   "metadata": {},
   "outputs": [
    {
     "data": {
      "text/plain": [
       "Order ID            245\n",
       "Product             245\n",
       "Quantity Ordered    245\n",
       "Price Each          245\n",
       "Order Date          245\n",
       "Purchase Address    245\n",
       "dtype: int64"
      ]
     },
     "execution_count": 31,
     "metadata": {},
     "output_type": "execute_result"
    }
   ],
   "source": [
    "# Checking missing values for First dataset\n",
    "first_half_data.isnull().sum()"
   ]
  },
  {
   "cell_type": "code",
   "execution_count": 36,
   "metadata": {},
   "outputs": [
    {
     "data": {
      "text/plain": [
       "Order ID            object\n",
       "Product             object\n",
       "Quantity Ordered    object\n",
       "Price Each          object\n",
       "Order Date          object\n",
       "Purchase Address    object\n",
       "dtype: object"
      ]
     },
     "execution_count": 36,
     "metadata": {},
     "output_type": "execute_result"
    }
   ],
   "source": [
    "# Checking datatype of First dataset\n",
    "first_half_data.dtypes"
   ]
  },
  {
   "cell_type": "markdown",
   "metadata": {},
   "source": [
    "- The first six months all the columns are are in the object data types\n",
    "- Quantity Ordered and Price Each column they are stored as an object, which is unexpected as they are representing a numerical quantity. Instead it should typically be stored as an integer or float data type.\n",
    "- Order Date feature is also stored as an object, which is unexpected for a date and time feature. It should be converted to a datetime data type for easier manipulation and analysis."
   ]
  },
  {
   "cell_type": "code",
   "execution_count": 44,
   "metadata": {},
   "outputs": [
    {
     "data": {
      "text/plain": [
       "511"
      ]
     },
     "execution_count": 44,
     "metadata": {},
     "output_type": "execute_result"
    }
   ],
   "source": [
    "# Check for duplicated rows\n",
    "first_half_data.duplicated().sum()"
   ]
  },
  {
   "cell_type": "markdown",
   "metadata": {},
   "source": [
    "### 2. Load Second Dataset (from remote SQL database)"
   ]
  },
  {
   "cell_type": "code",
   "execution_count": 61,
   "metadata": {},
   "outputs": [],
   "source": [
    "# # Load environment variables from .env file into a dictionary\n",
    "# environment_variables = dotenv_values('.env')\n",
    "\n",
    "# # Get the values for the credentials set in the '.env' file\n",
    "# server = environment_variables.get(\"SERVER\")\n",
    "# database = environment_variables.get(\"DATABASE\")\n",
    "# username = environment_variables.get(\"UID\")\n",
    "# password = environment_variables.get(\"PWD\")\n",
    "\n",
    "# # Connection string\n",
    "# connection_string = f\"DRIVER={{SQL Server}};SERVER={server};DATABASE={database};UID={username};PWD={password}\"\n",
    "\n",
    "#  # Establish a connection\n",
    "# connection = pyodbc.connect(connection_string)"
   ]
  },
  {
   "cell_type": "code",
   "execution_count": 64,
   "metadata": {},
   "outputs": [],
   "source": [
    "# # Load environment variables from .env file into a dictionary\n",
    "# environment_variables = dotenv_values('.env')\n",
    "\n",
    "# # Get the values for the credentials you set in the '.env' file\n",
    "# server = environment_variables.get(\"SERVER\")\n",
    "# database = environment_variables.get(\"DATABASE\")\n",
    "# username = environment_variables.get(\"UID\")\n",
    "# password = environment_variables.get(\"PWD\")\n",
    "\n",
    "# # Connection string\n",
    "# connection_string = (\n",
    "#     f\"DRIVER={{ODBC Driver 17 for SQL Server}};\"\n",
    "#     f\"SERVER={server};\"\n",
    "#     f\"DATABASE={database};\"\n",
    "#     f\"UID={username};\"\n",
    "#     f\"PWD={password}\"\n",
    "# )\n",
    "#  # Establish a connection\n",
    "# connection = pyodbc.connect(connection_string)"
   ]
  },
  {
   "cell_type": "code",
   "execution_count": 17,
   "metadata": {},
   "outputs": [],
   "source": [
    "# Database credentials\n",
    "server_name = 'dap-projects-database.database.windows.net'\n",
    "database_name = 'dapDB'\n",
    "user = 'capstone'\n",
    "password = 'Z7x@8pM$2w'\n",
    "\n",
    "# Connection string\n",
    "conn_str = (\n",
    "    f'DRIVER={{ODBC Driver 17 for SQL Server}};'\n",
    "    f'SERVER={server_name};'\n",
    "    f'DATABASE={database_name};'\n",
    "    f'UID={user};'\n",
    "    f'PWD={password}'\n",
    ")\n",
    "\n",
    "# Establish connection\n",
    "conn = pyodbc.connect(conn_str)"
   ]
  },
  {
   "cell_type": "code",
   "execution_count": 18,
   "metadata": {},
   "outputs": [],
   "source": [
    "# Define SQL queries\n",
    "sql_queries = [\n",
    "    'SELECT * FROM dbo.Sales_August_2019',\n",
    "    'SELECT * FROM dbo.Sales_July_2019',\n",
    "    'SELECT * FROM dbo.Sales_September_2019',\n",
    "    'SELECT * FROM dbo.Sales_October_2019',\n",
    "    'SELECT * FROM dbo.Sales_November_2019',\n",
    "    'SELECT * FROM dbo.Sales_December_2019'\n",
    "]\n",
    "\n",
    "# Execute queries and fetch data into DataFrames\n",
    "data_frames = []\n",
    "for sql_query in sql_queries:\n",
    "    df = pd.read_sql(sql_query, conn)\n",
    "    data_frames.append(df)\n",
    "\n",
    "# Combine DataFrames into a single DataFrame\n",
    "second_half_data = pd.concat(data_frames, ignore_index=True)\n",
    "\n"
   ]
  },
  {
   "cell_type": "markdown",
   "metadata": {},
   "source": [
    "## Data Exploration for the second Half dataset "
   ]
  },
  {
   "cell_type": "code",
   "execution_count": 39,
   "metadata": {},
   "outputs": [
    {
     "data": {
      "text/html": [
       "<div>\n",
       "<style scoped>\n",
       "    .dataframe tbody tr th:only-of-type {\n",
       "        vertical-align: middle;\n",
       "    }\n",
       "\n",
       "    .dataframe tbody tr th {\n",
       "        vertical-align: top;\n",
       "    }\n",
       "\n",
       "    .dataframe thead th {\n",
       "        text-align: right;\n",
       "    }\n",
       "</style>\n",
       "<table border=\"1\" class=\"dataframe\">\n",
       "  <thead>\n",
       "    <tr style=\"text-align: right;\">\n",
       "      <th></th>\n",
       "      <th>Order_ID</th>\n",
       "      <th>Product</th>\n",
       "      <th>Quantity_Ordered</th>\n",
       "      <th>Price_Each</th>\n",
       "      <th>Order_Date</th>\n",
       "      <th>Purchase_Address</th>\n",
       "    </tr>\n",
       "  </thead>\n",
       "  <tbody>\n",
       "    <tr>\n",
       "      <th>0</th>\n",
       "      <td>236670.0</td>\n",
       "      <td>Wired Headphones</td>\n",
       "      <td>2.0</td>\n",
       "      <td>11.990000</td>\n",
       "      <td>2031-08-19 22:21:00</td>\n",
       "      <td>359 Spruce St, Seattle, WA 98101</td>\n",
       "    </tr>\n",
       "    <tr>\n",
       "      <th>1</th>\n",
       "      <td>236671.0</td>\n",
       "      <td>Bose SoundSport Headphones</td>\n",
       "      <td>1.0</td>\n",
       "      <td>99.989998</td>\n",
       "      <td>2015-08-19 15:11:00</td>\n",
       "      <td>492 Ridge St, Dallas, TX 75001</td>\n",
       "    </tr>\n",
       "    <tr>\n",
       "      <th>2</th>\n",
       "      <td>236672.0</td>\n",
       "      <td>iPhone</td>\n",
       "      <td>1.0</td>\n",
       "      <td>700.000000</td>\n",
       "      <td>2006-08-19 14:40:00</td>\n",
       "      <td>149 7th St, Portland, OR 97035</td>\n",
       "    </tr>\n",
       "    <tr>\n",
       "      <th>3</th>\n",
       "      <td>236673.0</td>\n",
       "      <td>AA Batteries (4-pack)</td>\n",
       "      <td>2.0</td>\n",
       "      <td>3.840000</td>\n",
       "      <td>2029-08-19 20:59:00</td>\n",
       "      <td>631 2nd St, Los Angeles, CA 90001</td>\n",
       "    </tr>\n",
       "    <tr>\n",
       "      <th>4</th>\n",
       "      <td>236674.0</td>\n",
       "      <td>AA Batteries (4-pack)</td>\n",
       "      <td>2.0</td>\n",
       "      <td>3.840000</td>\n",
       "      <td>2015-08-19 19:53:00</td>\n",
       "      <td>736 14th St, New York City, NY 10001</td>\n",
       "    </tr>\n",
       "    <tr>\n",
       "      <th>...</th>\n",
       "      <td>...</td>\n",
       "      <td>...</td>\n",
       "      <td>...</td>\n",
       "      <td>...</td>\n",
       "      <td>...</td>\n",
       "      <td>...</td>\n",
       "    </tr>\n",
       "    <tr>\n",
       "      <th>101220</th>\n",
       "      <td>319666.0</td>\n",
       "      <td>Lightning Charging Cable</td>\n",
       "      <td>1.0</td>\n",
       "      <td>14.950000</td>\n",
       "      <td>2011-12-19 20:58:00</td>\n",
       "      <td>14 Madison St, San Francisco, CA 94016</td>\n",
       "    </tr>\n",
       "    <tr>\n",
       "      <th>101221</th>\n",
       "      <td>319667.0</td>\n",
       "      <td>AA Batteries (4-pack)</td>\n",
       "      <td>2.0</td>\n",
       "      <td>3.840000</td>\n",
       "      <td>2001-12-19 12:01:00</td>\n",
       "      <td>549 Willow St, Los Angeles, CA 90001</td>\n",
       "    </tr>\n",
       "    <tr>\n",
       "      <th>101222</th>\n",
       "      <td>319668.0</td>\n",
       "      <td>Vareebadd Phone</td>\n",
       "      <td>1.0</td>\n",
       "      <td>400.000000</td>\n",
       "      <td>2009-12-19 06:43:00</td>\n",
       "      <td>273 Wilson St, Seattle, WA 98101</td>\n",
       "    </tr>\n",
       "    <tr>\n",
       "      <th>101223</th>\n",
       "      <td>319669.0</td>\n",
       "      <td>Wired Headphones</td>\n",
       "      <td>1.0</td>\n",
       "      <td>11.990000</td>\n",
       "      <td>2003-12-19 10:39:00</td>\n",
       "      <td>778 River St, Dallas, TX 75001</td>\n",
       "    </tr>\n",
       "    <tr>\n",
       "      <th>101224</th>\n",
       "      <td>319670.0</td>\n",
       "      <td>Bose SoundSport Headphones</td>\n",
       "      <td>1.0</td>\n",
       "      <td>99.989998</td>\n",
       "      <td>2021-12-19 21:45:00</td>\n",
       "      <td>747 Chestnut St, Los Angeles, CA 90001</td>\n",
       "    </tr>\n",
       "  </tbody>\n",
       "</table>\n",
       "<p>101225 rows × 6 columns</p>\n",
       "</div>"
      ],
      "text/plain": [
       "        Order_ID                     Product  Quantity_Ordered  Price_Each  \\\n",
       "0       236670.0            Wired Headphones               2.0   11.990000   \n",
       "1       236671.0  Bose SoundSport Headphones               1.0   99.989998   \n",
       "2       236672.0                      iPhone               1.0  700.000000   \n",
       "3       236673.0       AA Batteries (4-pack)               2.0    3.840000   \n",
       "4       236674.0       AA Batteries (4-pack)               2.0    3.840000   \n",
       "...          ...                         ...               ...         ...   \n",
       "101220  319666.0    Lightning Charging Cable               1.0   14.950000   \n",
       "101221  319667.0       AA Batteries (4-pack)               2.0    3.840000   \n",
       "101222  319668.0             Vareebadd Phone               1.0  400.000000   \n",
       "101223  319669.0            Wired Headphones               1.0   11.990000   \n",
       "101224  319670.0  Bose SoundSport Headphones               1.0   99.989998   \n",
       "\n",
       "                Order_Date                        Purchase_Address  \n",
       "0      2031-08-19 22:21:00        359 Spruce St, Seattle, WA 98101  \n",
       "1      2015-08-19 15:11:00          492 Ridge St, Dallas, TX 75001  \n",
       "2      2006-08-19 14:40:00          149 7th St, Portland, OR 97035  \n",
       "3      2029-08-19 20:59:00       631 2nd St, Los Angeles, CA 90001  \n",
       "4      2015-08-19 19:53:00    736 14th St, New York City, NY 10001  \n",
       "...                    ...                                     ...  \n",
       "101220 2011-12-19 20:58:00  14 Madison St, San Francisco, CA 94016  \n",
       "101221 2001-12-19 12:01:00    549 Willow St, Los Angeles, CA 90001  \n",
       "101222 2009-12-19 06:43:00        273 Wilson St, Seattle, WA 98101  \n",
       "101223 2003-12-19 10:39:00          778 River St, Dallas, TX 75001  \n",
       "101224 2021-12-19 21:45:00  747 Chestnut St, Los Angeles, CA 90001  \n",
       "\n",
       "[101225 rows x 6 columns]"
      ]
     },
     "execution_count": 39,
     "metadata": {},
     "output_type": "execute_result"
    }
   ],
   "source": [
    "# Displaying the second half of the dataframe\n",
    "second_half_data"
   ]
  },
  {
   "cell_type": "code",
   "execution_count": 30,
   "metadata": {},
   "outputs": [
    {
     "name": "stdout",
     "output_type": "stream",
     "text": [
      "<class 'pandas.core.frame.DataFrame'>\n",
      "RangeIndex: 101225 entries, 0 to 101224\n",
      "Data columns (total 6 columns):\n",
      " #   Column            Non-Null Count   Dtype         \n",
      "---  ------            --------------   -----         \n",
      " 0   Order_ID          100730 non-null  float64       \n",
      " 1   Product           100925 non-null  object        \n",
      " 2   Quantity_Ordered  100730 non-null  float64       \n",
      " 3   Price_Each        100730 non-null  float64       \n",
      " 4   Order_Date        100730 non-null  datetime64[ns]\n",
      " 5   Purchase_Address  100925 non-null  object        \n",
      "dtypes: datetime64[ns](1), float64(3), object(2)\n",
      "memory usage: 4.6+ MB\n"
     ]
    }
   ],
   "source": [
    "# Display basic information about the second dataset\n",
    "second_half_data.info()"
   ]
  },
  {
   "cell_type": "code",
   "execution_count": 32,
   "metadata": {},
   "outputs": [
    {
     "data": {
      "text/plain": [
       "Order_ID            495\n",
       "Product             300\n",
       "Quantity_Ordered    495\n",
       "Price_Each          495\n",
       "Order_Date          495\n",
       "Purchase_Address    300\n",
       "dtype: int64"
      ]
     },
     "execution_count": 32,
     "metadata": {},
     "output_type": "execute_result"
    }
   ],
   "source": [
    "# Checking missing values for First dataset\n",
    "second_half_data.isnull().sum()"
   ]
  },
  {
   "cell_type": "code",
   "execution_count": 38,
   "metadata": {},
   "outputs": [
    {
     "data": {
      "text/plain": [
       "Order_ID                   float64\n",
       "Product                     object\n",
       "Quantity_Ordered           float64\n",
       "Price_Each                 float64\n",
       "Order_Date          datetime64[ns]\n",
       "Purchase_Address            object\n",
       "dtype: object"
      ]
     },
     "execution_count": 38,
     "metadata": {},
     "output_type": "execute_result"
    }
   ],
   "source": [
    "# Checking datatype of Second dataset\n",
    "second_half_data.dtypes"
   ]
  },
  {
   "cell_type": "markdown",
   "metadata": {},
   "source": [
    "- we have three float64, two objects and and one datetime datatype.\n",
    "- Order_ID is stored as a floating-point number instead of a string or integer. This might indicate some data quality issues or inconsistencies in the data."
   ]
  },
  {
   "cell_type": "code",
   "execution_count": 42,
   "metadata": {},
   "outputs": [
    {
     "data": {
      "text/plain": [
       "649"
      ]
     },
     "execution_count": 42,
     "metadata": {},
     "output_type": "execute_result"
    }
   ],
   "source": [
    "# Check for duplicated rows\n",
    "second_half_data.duplicated().sum()"
   ]
  },
  {
   "cell_type": "code",
   "execution_count": 45,
   "metadata": {},
   "outputs": [],
   "source": [
    "# # Convert 'Quantity Ordered' column to numeric\n",
    "# combined_data['Quantity Ordered'] = pd.to_numeric(combined_data['Quantity Ordered'], errors='coerce')\n",
    "\n",
    "# # Convert 'Price Each' column to numeric\n",
    "# combined_data['Price Each'] = pd.to_numeric(combined_data['Price Each'], errors='coerce')\n",
    "\n",
    "# # Convert 'Order Date' column to datetime\n",
    "# combined_data['Order Date'] = pd.to_datetime(combined_data['Order Date'], errors='coerce')\n",
    "\n",
    "\n",
    "# # Check the data types again\n",
    "# combined_data.dtypes\n"
   ]
  },
  {
   "cell_type": "code",
   "execution_count": 46,
   "metadata": {},
   "outputs": [],
   "source": [
    "# # Rename columns in combined_df to match the column names in combined_data\n",
    "# combined_df.rename(columns={'Order_ID': 'Order ID',\n",
    "#                             'Quantity_Ordered': 'Quantity Ordered',\n",
    "#                             'Price_Each': 'Price Each',\n",
    "#                             'Purchase_Address': 'Purchase Address',\n",
    "#                             'Order_Date': 'Order Date'}, inplace=True)\n"
   ]
  }
 ],
 "metadata": {
  "kernelspec": {
   "display_name": "Python 3",
   "language": "python",
   "name": "python3"
  },
  "language_info": {
   "codemirror_mode": {
    "name": "ipython",
    "version": 3
   },
   "file_extension": ".py",
   "mimetype": "text/x-python",
   "name": "python",
   "nbconvert_exporter": "python",
   "pygments_lexer": "ipython3",
   "version": "3.12.0"
  }
 },
 "nbformat": 4,
 "nbformat_minor": 2
}
